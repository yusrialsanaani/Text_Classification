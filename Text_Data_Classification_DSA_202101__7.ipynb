{
 "cells": [
  {
   "cell_type": "markdown",
   "metadata": {},
   "source": [
    "### Text Classification Assignment by:\n",
    "- Yusri Al-Sanaani\n",
    "- Hetvi Soni\n",
    "- Tavleen Kour\n",
    "- Immanuella Iyawe\n",
    "Group: Group: DSA_202101_ 7"
   ]
  },
  {
   "cell_type": "markdown",
   "metadata": {
    "id": "ntZY71fvrE5I"
   },
   "source": [
    "---\n",
    "### Import the required libraries\n",
    "---"
   ]
  },
  {
   "cell_type": "code",
   "execution_count": 1,
   "metadata": {
    "id": "2E6L2RAxrE5K"
   },
   "outputs": [],
   "source": [
    "import re   \n",
    "import nltk\n",
    "import random\n",
    "import pandas as pd\n",
    "import numpy as np"
   ]
  },
  {
   "cell_type": "markdown",
   "metadata": {
    "colab": {
     "base_uri": "https://localhost:8080/"
    },
    "id": "OTr6yqhZjGi-",
    "outputId": "2e12409b-3ed8-424d-adb9-2d986420fcb3"
   },
   "source": [
    "%tensorflow_version 2.x\n",
    "import tensorflow as tf\n",
    "device_name = tf.test.gpu_device_name()\n",
    "if device_name != '/device:GPU:0':\n",
    "  raise SystemError('GPU device not found')\n",
    "print('Found GPU at: {}'.format(device_name))"
   ]
  },
  {
   "cell_type": "markdown",
   "metadata": {
    "id": "uVDaTRqd-eCD"
   },
   "source": [
    "## **1. Data Preparation**"
   ]
  },
  {
   "cell_type": "markdown",
   "metadata": {
    "id": "PgimNjV5rE5L"
   },
   "source": [
    "---\n",
    "## 1.1 Import some books\n",
    "---"
   ]
  },
  {
   "cell_type": "code",
   "execution_count": 5,
   "metadata": {
    "colab": {
     "base_uri": "https://localhost:8080/"
    },
    "id": "vVdTYjAirE5L",
    "outputId": "7b908ff3-d0d9-40c4-eb37-a997318167de",
    "scrolled": true
   },
   "outputs": [
    {
     "name": "stderr",
     "output_type": "stream",
     "text": [
      "[nltk_data] Downloading package gutenberg to\n",
      "[nltk_data]     C:\\Users\\yusri\\AppData\\Roaming\\nltk_data...\n",
      "[nltk_data]   Package gutenberg is already up-to-date!\n"
     ]
    }
   ],
   "source": [
    "nltk.download('gutenberg')\n",
    "book1 = nltk.corpus.gutenberg.raw('chesterton-thursday.txt')\n",
    "book2 = nltk.corpus.gutenberg.raw('carroll-alice.txt')\n",
    "book3 = nltk.corpus.gutenberg.raw('whitman-leaves.txt')\n",
    "book4 = nltk.corpus.gutenberg.raw('milton-paradise.txt')\n",
    "book5 = nltk.corpus.gutenberg.raw('bryant-stories.txt')\n",
    "# Create a list of books\n",
    "books=[book1,book2,book3,book4,book5]"
   ]
  },
  {
   "cell_type": "markdown",
   "metadata": {
    "id": "-nFW8b2DrE5N"
   },
   "source": [
    "## 1.2 Extract the books titles and authors names using regex"
   ]
  },
  {
   "cell_type": "code",
   "execution_count": 6,
   "metadata": {
    "id": "adVPpXA_rE5N"
   },
   "outputs": [],
   "source": [
    "# Extract the books_titles and authors_names by creating a regex pattern \n",
    "# that match book title, author name, and year of publication: \n",
    "books_authors_names=[]\n",
    "for book in books:\n",
    "    la=re.findall(\"(\\[[ a-zA-Z0-9 '_.+-|\\]+ by [ a-zA-Z0-9-]+|\\.[ a-zA-Z0-9-.]+\\])\", book)\n",
    "    books_authors_names.append(''.join(la[0]))\n",
    "\n",
    "# Now, we can remove special characters, numbers,and right/left white space\n",
    "# to get only the book title and author name:\n",
    "clean_books_authors_names=[]\n",
    "for i in range(len(books_authors_names)):\n",
    "    clean_names=re.sub(r'[\\d+\\\\!\"#$%&()*+,-./:;?@[\\]^_`{|}~]',' ',books_authors_names[i]).strip() \n",
    "    split_names=re.split('by',clean_names)\n",
    "    clean_books_authors_names.append(split_names)"
   ]
  },
  {
   "cell_type": "code",
   "execution_count": 7,
   "metadata": {
    "colab": {
     "base_uri": "https://localhost:8080/"
    },
    "id": "ChMXGQIvrE5N",
    "outputId": "e2ab5317-d75e-450b-8ca0-aa0b2d1e1ea2"
   },
   "outputs": [
    {
     "name": "stdout",
     "output_type": "stream",
     "text": [
      "The book title, author name, and year of publication:\n"
     ]
    },
    {
     "data": {
      "text/plain": [
       "['[The Man Who Was Thursday by G. K. Chesterton 1908]',\n",
       " \"[Alice's Adventures in Wonderland by Lewis Carroll 1865]\",\n",
       " '[Leaves of Grass by Walt Whitman 1855]',\n",
       " '[Paradise Lost by John Milton 1667] ',\n",
       " '[Stories to Tell to Children by Sara Cone Bryant 1918] ']"
      ]
     },
     "execution_count": 7,
     "metadata": {},
     "output_type": "execute_result"
    }
   ],
   "source": [
    "# books_authors_names before cleaning\n",
    "print('The book title, author name, and year of publication:')\n",
    "books_authors_names"
   ]
  },
  {
   "cell_type": "code",
   "execution_count": 8,
   "metadata": {
    "colab": {
     "base_uri": "https://localhost:8080/"
    },
    "id": "MZ-Mi4KErE5O",
    "outputId": "18e82163-1fde-46a3-b6a4-d4f3dee5aa27"
   },
   "outputs": [
    {
     "data": {
      "text/plain": [
       "[['The Man Who Was Thursday ', ' G  K  Chesterton'],\n",
       " [\"Alice's Adventures in Wonderland \", ' Lewis Carroll'],\n",
       " ['Leaves of Grass ', ' Walt Whitman'],\n",
       " ['Paradise Lost ', ' John Milton'],\n",
       " ['Stories to Tell to Children ', ' Sara Cone Bryant']]"
      ]
     },
     "execution_count": 8,
     "metadata": {},
     "output_type": "execute_result"
    }
   ],
   "source": [
    "# books_authors_names after cleaning\n",
    "clean_books_authors_names"
   ]
  },
  {
   "cell_type": "code",
   "execution_count": 9,
   "metadata": {
    "id": "fjkqg12zrE5O"
   },
   "outputs": [],
   "source": [
    "# Create book_names list and authors_labels list\n",
    "def list_split(lst):\n",
    "    return lst[:(len(lst)//2)], lst[(len(lst)//2):]\n",
    "books_names=[]\n",
    "authors_names=[]\n",
    "for i in range(len(clean_books_authors_names)):\n",
    "    book, author = list_split(clean_books_authors_names[i])\n",
    "    books_names.append(''.join(book).strip())\n",
    "    authors_names.append(''.join(author).strip())\n",
    "    \n",
    "# Create an automatic list for authors last name:\n",
    "authors_labels=[]\n",
    "for i in range(len(authors_names)):\n",
    "    authors_labels.append(authors_names[i].split()[-1])"
   ]
  },
  {
   "cell_type": "code",
   "execution_count": 10,
   "metadata": {
    "colab": {
     "base_uri": "https://localhost:8080/"
    },
    "id": "cjtfmRtBrE5O",
    "outputId": "3d1e0f27-59da-48a9-b19d-41d82f6bd067"
   },
   "outputs": [
    {
     "data": {
      "text/plain": [
       "['The Man Who Was Thursday',\n",
       " \"Alice's Adventures in Wonderland\",\n",
       " 'Leaves of Grass',\n",
       " 'Paradise Lost',\n",
       " 'Stories to Tell to Children']"
      ]
     },
     "execution_count": 10,
     "metadata": {},
     "output_type": "execute_result"
    }
   ],
   "source": [
    "# we need list of books_lables\n",
    "books_labels=books_names\n",
    "books_labels"
   ]
  },
  {
   "cell_type": "code",
   "execution_count": 11,
   "metadata": {
    "colab": {
     "base_uri": "https://localhost:8080/"
    },
    "id": "6nOeb7sVrE5P",
    "outputId": "890305d4-8808-46d9-a700-03688ef9c99e"
   },
   "outputs": [
    {
     "data": {
      "text/plain": [
       "['Chesterton', 'Carroll', 'Whitman', 'Milton', 'Bryant']"
      ]
     },
     "execution_count": 11,
     "metadata": {},
     "output_type": "execute_result"
    }
   ],
   "source": [
    "# also we need a list of authors_labels ['Chesterton','Carroll','Whitman','Milton','Bryant']\n",
    "authors_labels"
   ]
  },
  {
   "cell_type": "code",
   "execution_count": 12,
   "metadata": {
    "colab": {
     "base_uri": "https://localhost:8080/",
     "height": 202
    },
    "id": "i5SJ8bZFwvHS",
    "outputId": "c4d16853-3b79-4e5e-a1eb-b25a7c4b9663"
   },
   "outputs": [
    {
     "data": {
      "text/html": [
       "<div>\n",
       "<style scoped>\n",
       "    .dataframe tbody tr th:only-of-type {\n",
       "        vertical-align: middle;\n",
       "    }\n",
       "\n",
       "    .dataframe tbody tr th {\n",
       "        vertical-align: top;\n",
       "    }\n",
       "\n",
       "    .dataframe thead th {\n",
       "        text-align: right;\n",
       "    }\n",
       "</style>\n",
       "<table border=\"1\" class=\"dataframe\">\n",
       "  <thead>\n",
       "    <tr style=\"text-align: right;\">\n",
       "      <th></th>\n",
       "      <th>Books</th>\n",
       "      <th>Authors</th>\n",
       "    </tr>\n",
       "  </thead>\n",
       "  <tbody>\n",
       "    <tr>\n",
       "      <th>1</th>\n",
       "      <td>The Man Who Was Thursday</td>\n",
       "      <td>Chesterton</td>\n",
       "    </tr>\n",
       "    <tr>\n",
       "      <th>2</th>\n",
       "      <td>Alice's Adventures in Wonderland</td>\n",
       "      <td>Carroll</td>\n",
       "    </tr>\n",
       "    <tr>\n",
       "      <th>3</th>\n",
       "      <td>Leaves of Grass</td>\n",
       "      <td>Whitman</td>\n",
       "    </tr>\n",
       "    <tr>\n",
       "      <th>4</th>\n",
       "      <td>Paradise Lost</td>\n",
       "      <td>Milton</td>\n",
       "    </tr>\n",
       "    <tr>\n",
       "      <th>5</th>\n",
       "      <td>Stories to Tell to Children</td>\n",
       "      <td>Bryant</td>\n",
       "    </tr>\n",
       "  </tbody>\n",
       "</table>\n",
       "</div>"
      ],
      "text/plain": [
       "                              Books     Authors\n",
       "1          The Man Who Was Thursday  Chesterton\n",
       "2  Alice's Adventures in Wonderland     Carroll\n",
       "3                   Leaves of Grass     Whitman\n",
       "4                     Paradise Lost      Milton\n",
       "5       Stories to Tell to Children      Bryant"
      ]
     },
     "execution_count": 12,
     "metadata": {},
     "output_type": "execute_result"
    }
   ],
   "source": [
    "# Display the books and the curresponding authors\n",
    "books_authors=pd.DataFrame({'Books':books_labels, 'Authors':authors_labels},index=[1,2,3,4,5])\n",
    "books_authors"
   ]
  },
  {
   "cell_type": "markdown",
   "metadata": {
    "id": "wzdJd2izrE5P"
   },
   "source": [
    "## 1.3 Create a general function to clean the data of multiple books\n",
    "\n",
    "This function takes list of books as input and returns a list of cleaned books.\n",
    "The cleaning includes:\n",
    "- Removing multiple spaces and left/right white spaces.\n",
    "- Conevrting capital characters to lower case\n",
    "- Removing special characters\n",
    "- Removing single character word"
   ]
  },
  {
   "cell_type": "code",
   "execution_count": 13,
   "metadata": {
    "id": "hKZNSKsSrE5P"
   },
   "outputs": [],
   "source": [
    "def get_clean_text(textbooks_data):\n",
    "    cleaned_books=[]\n",
    "    for book in textbooks_data:\n",
    "        single_lower= re.sub(r'\\s+',' ',book).lower() # Multiple space removal and conevrt to lower case\n",
    "        #clean_text = re.sub(r'[\\\\!\"#$%&()*+,-./:;?@[\\]^_`{|}~]',' ',single_lower).strip() # Remove special characters\n",
    "        clean_text = re.sub('[^a-zA-Z]',' ', single_lower)\n",
    "        #clean_text = re.sub(r\"\\s+[a-zA-Z]\\s+\", ' ', clean_text) # remove single character word\n",
    "        cleaned_books.append(clean_text)\n",
    "    return cleaned_books"
   ]
  },
  {
   "cell_type": "code",
   "execution_count": 14,
   "metadata": {
    "id": "dn_BcNcgrE5Q"
   },
   "outputs": [],
   "source": [
    "cleaned_books=get_clean_text(books)"
   ]
  },
  {
   "cell_type": "markdown",
   "metadata": {
    "id": "yfbFYZpqrE5Q"
   },
   "source": [
    "## 1.4 Defining a function to partition multiple books (get_chunks() function):\n",
    "- This function takes dict as input  that contains the labels (books and authors names) and books content.\n",
    "- It returns a list of partitioned books with labeling each partition to the book it belongs to."
   ]
  },
  {
   "cell_type": "code",
   "execution_count": 15,
   "metadata": {
    "id": "Vz04-O3frE5Q"
   },
   "outputs": [],
   "source": [
    "# partitioning the text data with auto labeling \n",
    "def get_chunks(chunk_books_dict):\n",
    "    import nltk\n",
    "    nltk.download('punkt')\n",
    "    chunk_books=[]\n",
    "    chunk_books_labels=[]\n",
    "    for label,book in chunk_books_dict.items():\n",
    "        #splits = book.split()\n",
    "        tokenized_word=nltk.word_tokenize(book)\n",
    "        labeled_chunks=[]\n",
    "        chunks_labels=[]\n",
    "        for i in range(0,len(tokenized_word),100):\n",
    "            #labeled_chunks.append((' '.join(tokenized_word[i:100+i]),label))\n",
    "            labeled_chunks.append(' '.join(tokenized_word[i:100+i]))\n",
    "            chunks_labels.append(label)\n",
    "        chunk_books.append(labeled_chunks)\n",
    "        chunk_books_labels.append(chunks_labels)\n",
    "    return chunk_books,chunk_books_labels"
   ]
  },
  {
   "cell_type": "code",
   "execution_count": 16,
   "metadata": {
    "colab": {
     "base_uri": "https://localhost:8080/"
    },
    "id": "b91Wu28oAjpS",
    "outputId": "9e0c633e-f7a6-434a-b103-4affc8a87510"
   },
   "outputs": [
    {
     "name": "stderr",
     "output_type": "stream",
     "text": [
      "[nltk_data] Downloading package punkt to\n",
      "[nltk_data]     C:\\Users\\yusri\\AppData\\Roaming\\nltk_data...\n",
      "[nltk_data]   Package punkt is already up-to-date!\n"
     ]
    }
   ],
   "source": [
    "# uncleaned books books\n",
    "uncleaned_chunk_books_dict={}\n",
    "for i,book in enumerate(books):\n",
    "    uncleaned_chunk_books_dict[authors_labels[i]]=book\n",
    "chunk_books1,chunk_books_labels1=get_chunks(uncleaned_chunk_books_dict)"
   ]
  },
  {
   "cell_type": "code",
   "execution_count": 17,
   "metadata": {
    "colab": {
     "base_uri": "https://localhost:8080/"
    },
    "id": "rCFqx8dCrE5Q",
    "outputId": "6ad94481-b64f-4ba9-8080-fc97afebaef3"
   },
   "outputs": [
    {
     "name": "stderr",
     "output_type": "stream",
     "text": [
      "[nltk_data] Downloading package punkt to\n",
      "[nltk_data]     C:\\Users\\yusri\\AppData\\Roaming\\nltk_data...\n",
      "[nltk_data]   Package punkt is already up-to-date!\n"
     ]
    }
   ],
   "source": [
    "# Try this function:\n",
    "#chunk_books_dict1=dict(zip(authors_labels,cleaned_books))\n",
    "chunk_books_dict={}\n",
    "for i,book in enumerate(cleaned_books):\n",
    "    chunk_books_dict[authors_labels[i]]=book\n",
    "chunk_books,chunk_books_labels=get_chunks(chunk_books_dict)\n",
    "#print(len(chunk_books))\n",
    "#print(chunk_books[0][0],'\\n\\n',chunk_books[1][0])"
   ]
  },
  {
   "cell_type": "code",
   "execution_count": 18,
   "metadata": {
    "colab": {
     "base_uri": "https://localhost:8080/"
    },
    "id": "5CjfJXzrrE5R",
    "outputId": "dae1c047-fe02-4663-a1a4-a5077b2571f9"
   },
   "outputs": [
    {
     "name": "stdout",
     "output_type": "stream",
     "text": [
      "The book # 1 contains 588 chunks.\n",
      "The book # 2 contains 274 chunks.\n",
      "The book # 3 contains 1264 chunks.\n",
      "The book # 4 contains 806 chunks.\n",
      "The book # 5 contains 468 chunks.\n"
     ]
    }
   ],
   "source": [
    "# Check if each book contains enough text data to ensure getting 200 chunks\n",
    "for i,book in enumerate(chunk_books):\n",
    "    if len(book)<200:\n",
    "        print('The book # {} does not contain enough text data (it has only {} chunks).'.format(i+1,len(book)))\n",
    "    else:\n",
    "        print(\"The book # {} contains {} chunks.\".format(i+1,len(book)))"
   ]
  },
  {
   "cell_type": "markdown",
   "metadata": {
    "id": "mDfMELi8rE5R"
   },
   "source": [
    "## 1.5 Creating random samples of 200 partitions for each book\n",
    "Defining a function to return 200 random chunks for each book(get_random_chunks function):\n",
    "- This function takes a list of previously partioned books as input.\n",
    "- It returns a list of books conataining 200 random chunks each."
   ]
  },
  {
   "cell_type": "code",
   "execution_count": 19,
   "metadata": {
    "id": "kwOPA7IzrE5R"
   },
   "outputs": [],
   "source": [
    "def get_random_chunks(chunk_books):\n",
    "    import random\n",
    "    random.seed(1)\n",
    "    random_chunks=[]\n",
    "    for book in chunk_books:\n",
    "        chunks=random.sample(book, 200)\n",
    "        random_chunks.append(chunks)\n",
    "    return random_chunks"
   ]
  },
  {
   "cell_type": "code",
   "execution_count": 20,
   "metadata": {
    "colab": {
     "base_uri": "https://localhost:8080/"
    },
    "id": "fhZKGtgmrE5S",
    "outputId": "56b80260-3503-4130-cc67-d83de426997f"
   },
   "outputs": [
    {
     "name": "stdout",
     "output_type": "stream",
     "text": [
      "The book # 1 contains 200 chunks.\n",
      "The book # 2 contains 200 chunks.\n",
      "The book # 3 contains 200 chunks.\n",
      "The book # 4 contains 200 chunks.\n",
      "The book # 5 contains 200 chunks.\n"
     ]
    }
   ],
   "source": [
    "books_random_chunks_uncleaned=get_random_chunks(chunk_books1)\n",
    "books_random_chunks=get_random_chunks(chunk_books)\n",
    "#print(random_chunks[0][0],'\\n\\n',random_chunks[1][0])\n",
    "# Check if each book contains enough text data to ensure getting 200 chunks\n",
    "for i,book in enumerate(books_random_chunks):\n",
    "    print(\"The book # {} contains {} chunks.\".format(i+1,len(book)))"
   ]
  },
  {
   "cell_type": "markdown",
   "metadata": {
    "id": "buAjt63DrE5S"
   },
   "source": [
    "## 1.6 Create data frame"
   ]
  },
  {
   "cell_type": "code",
   "execution_count": 21,
   "metadata": {
    "colab": {
     "base_uri": "https://localhost:8080/",
     "height": 202
    },
    "id": "QzG6NeckCMKE",
    "outputId": "1095bc6a-3c3d-482f-bfeb-73a394e515b7"
   },
   "outputs": [
    {
     "data": {
      "text/html": [
       "<div>\n",
       "<style scoped>\n",
       "    .dataframe tbody tr th:only-of-type {\n",
       "        vertical-align: middle;\n",
       "    }\n",
       "\n",
       "    .dataframe tbody tr th {\n",
       "        vertical-align: top;\n",
       "    }\n",
       "\n",
       "    .dataframe thead th {\n",
       "        text-align: right;\n",
       "    }\n",
       "</style>\n",
       "<table border=\"1\" class=\"dataframe\">\n",
       "  <thead>\n",
       "    <tr style=\"text-align: right;\">\n",
       "      <th></th>\n",
       "      <th>books_text_data</th>\n",
       "      <th>authors_labels</th>\n",
       "    </tr>\n",
       "  </thead>\n",
       "  <tbody>\n",
       "    <tr>\n",
       "      <th>184</th>\n",
       "      <td>, however , kept him hopeful and yet helpless ...</td>\n",
       "      <td>Chesterton</td>\n",
       "    </tr>\n",
       "    <tr>\n",
       "      <th>101</th>\n",
       "      <td>helpless . It was with some momentary difficul...</td>\n",
       "      <td>Chesterton</td>\n",
       "    </tr>\n",
       "    <tr>\n",
       "      <th>856</th>\n",
       "      <td>the fox began to swim the river . When he was ...</td>\n",
       "      <td>Bryant</td>\n",
       "    </tr>\n",
       "    <tr>\n",
       "      <th>487</th>\n",
       "      <td>mark as my own you shall offset it with your o...</td>\n",
       "      <td>Whitman</td>\n",
       "    </tr>\n",
       "    <tr>\n",
       "      <th>508</th>\n",
       "      <td>of a sick person -- yet behold ! The grass of ...</td>\n",
       "      <td>Whitman</td>\n",
       "    </tr>\n",
       "  </tbody>\n",
       "</table>\n",
       "</div>"
      ],
      "text/plain": [
       "                                       books_text_data authors_labels\n",
       "184  , however , kept him hopeful and yet helpless ...     Chesterton\n",
       "101  helpless . It was with some momentary difficul...     Chesterton\n",
       "856  the fox began to swim the river . When he was ...         Bryant\n",
       "487  mark as my own you shall offset it with your o...        Whitman\n",
       "508  of a sick person -- yet behold ! The grass of ...        Whitman"
      ]
     },
     "execution_count": 21,
     "metadata": {},
     "output_type": "execute_result"
    }
   ],
   "source": [
    "# Uncleaned dataframe\n",
    "df_books1=pd.DataFrame()\n",
    "for i in range(len(books_random_chunks)):\n",
    "    dfs=pd.DataFrame({'books_text_data':books_random_chunks_uncleaned[i],'authors_labels':chunk_books_labels1[i][:200]})\n",
    "    df_books1=df_books1.append(dfs)\n",
    "\n",
    "df_books1.reset_index(drop=True,inplace=True)\n",
    "df_books1.sample(5)"
   ]
  },
  {
   "cell_type": "markdown",
   "metadata": {
    "id": "ozdUX8fM_uMH"
   },
   "source": [
    "# **2. Feature Engineering**"
   ]
  },
  {
   "cell_type": "markdown",
   "metadata": {
    "id": "BlFBNMQT_4Qa"
   },
   "source": [
    "## 2.1 Clean the text"
   ]
  },
  {
   "cell_type": "code",
   "execution_count": 22,
   "metadata": {
    "colab": {
     "base_uri": "https://localhost:8080/",
     "height": 202
    },
    "id": "4RV7pu6k__hw",
    "outputId": "034986ba-3ec9-466a-93ca-6d2030a95a91"
   },
   "outputs": [
    {
     "data": {
      "text/html": [
       "<div>\n",
       "<style scoped>\n",
       "    .dataframe tbody tr th:only-of-type {\n",
       "        vertical-align: middle;\n",
       "    }\n",
       "\n",
       "    .dataframe tbody tr th {\n",
       "        vertical-align: top;\n",
       "    }\n",
       "\n",
       "    .dataframe thead th {\n",
       "        text-align: right;\n",
       "    }\n",
       "</style>\n",
       "<table border=\"1\" class=\"dataframe\">\n",
       "  <thead>\n",
       "    <tr style=\"text-align: right;\">\n",
       "      <th></th>\n",
       "      <th>books_text_data</th>\n",
       "      <th>authors_labels</th>\n",
       "    </tr>\n",
       "  </thead>\n",
       "  <tbody>\n",
       "    <tr>\n",
       "      <th>846</th>\n",
       "      <td>big alligator who lives in the mud down there ...</td>\n",
       "      <td>Bryant</td>\n",
       "    </tr>\n",
       "    <tr>\n",
       "      <th>264</th>\n",
       "      <td>an hour or so and were quite dry again the dod...</td>\n",
       "      <td>Carroll</td>\n",
       "    </tr>\n",
       "    <tr>\n",
       "      <th>286</th>\n",
       "      <td>beautiful soup chapter xi who stole the tarts ...</td>\n",
       "      <td>Carroll</td>\n",
       "    </tr>\n",
       "    <tr>\n",
       "      <th>417</th>\n",
       "      <td>street comes before me the unknown soldier s g...</td>\n",
       "      <td>Whitman</td>\n",
       "    </tr>\n",
       "    <tr>\n",
       "      <th>275</th>\n",
       "      <td>the king the queen the royal children and ever...</td>\n",
       "      <td>Carroll</td>\n",
       "    </tr>\n",
       "  </tbody>\n",
       "</table>\n",
       "</div>"
      ],
      "text/plain": [
       "                                       books_text_data authors_labels\n",
       "846  big alligator who lives in the mud down there ...         Bryant\n",
       "264  an hour or so and were quite dry again the dod...        Carroll\n",
       "286  beautiful soup chapter xi who stole the tarts ...        Carroll\n",
       "417  street comes before me the unknown soldier s g...        Whitman\n",
       "275  the king the queen the royal children and ever...        Carroll"
      ]
     },
     "execution_count": 22,
     "metadata": {},
     "output_type": "execute_result"
    }
   ],
   "source": [
    "# Cleaned text\n",
    "df_books=pd.DataFrame()\n",
    "for i in range(len(books_random_chunks)):\n",
    "    dfs=pd.DataFrame({'books_text_data':books_random_chunks[i],'authors_labels':chunk_books_labels[i][:200]})\n",
    "    df_books=df_books.append(dfs)\n",
    "\n",
    "df_books.reset_index(drop=True,inplace=True)\n",
    "df_books.sample(5)"
   ]
  },
  {
   "cell_type": "markdown",
   "metadata": {
    "id": "Ihb61vq_Difp"
   },
   "source": [
    "## 2.2 Stop words removal"
   ]
  },
  {
   "cell_type": "code",
   "execution_count": 23,
   "metadata": {
    "id": "iAl_F7GJrE5T"
   },
   "outputs": [],
   "source": [
    "# remove Stopwords\n",
    "def remove_stopwords(books_text_data):\n",
    "    nltk.download('stopwords')\n",
    "    stop_words = nltk.corpus.stopwords.words(\"english\")\n",
    "    splited_text=books_text_data.str.split()\n",
    "    text_no_stopwords=[]\n",
    "    for i in range(len(splited_text)):\n",
    "        text_no_stopwords1 = [word for word in splited_text[i] if word not in stop_words]\n",
    "        text_no_stopwords.append(' '.join(text_no_stopwords1))\n",
    "    return text_no_stopwords"
   ]
  },
  {
   "cell_type": "code",
   "execution_count": 24,
   "metadata": {
    "colab": {
     "base_uri": "https://localhost:8080/",
     "height": 237
    },
    "id": "vNsZfB5nrE5T",
    "outputId": "8a89b518-5c57-43ff-cd01-eadb5fcb670a"
   },
   "outputs": [
    {
     "name": "stderr",
     "output_type": "stream",
     "text": [
      "[nltk_data] Downloading package stopwords to\n",
      "[nltk_data]     C:\\Users\\yusri\\AppData\\Roaming\\nltk_data...\n",
      "[nltk_data]   Package stopwords is already up-to-date!\n"
     ]
    },
    {
     "data": {
      "text/html": [
       "<div>\n",
       "<style scoped>\n",
       "    .dataframe tbody tr th:only-of-type {\n",
       "        vertical-align: middle;\n",
       "    }\n",
       "\n",
       "    .dataframe tbody tr th {\n",
       "        vertical-align: top;\n",
       "    }\n",
       "\n",
       "    .dataframe thead th {\n",
       "        text-align: right;\n",
       "    }\n",
       "</style>\n",
       "<table border=\"1\" class=\"dataframe\">\n",
       "  <thead>\n",
       "    <tr style=\"text-align: right;\">\n",
       "      <th></th>\n",
       "      <th>books_text_data</th>\n",
       "      <th>authors_labels</th>\n",
       "      <th>text_no_stopwords</th>\n",
       "    </tr>\n",
       "  </thead>\n",
       "  <tbody>\n",
       "    <tr>\n",
       "      <th>324</th>\n",
       "      <td>kings and queens and among them alice recognis...</td>\n",
       "      <td>Carroll</td>\n",
       "      <td>kings queens among alice recognised white rabb...</td>\n",
       "    </tr>\n",
       "    <tr>\n",
       "      <th>768</th>\n",
       "      <td>where he sat and the third sacred morn began t...</td>\n",
       "      <td>Milton</td>\n",
       "      <td>sat third sacred morn began shine dawning heav...</td>\n",
       "    </tr>\n",
       "    <tr>\n",
       "      <th>497</th>\n",
       "      <td>theban the large ball d eyes the side drooping...</td>\n",
       "      <td>Whitman</td>\n",
       "      <td>theban large ball eyes side drooping neck hand...</td>\n",
       "    </tr>\n",
       "    <tr>\n",
       "      <th>850</th>\n",
       "      <td>passed and felt so wounded that at last he wis...</td>\n",
       "      <td>Bryant</td>\n",
       "      <td>passed felt wounded last wished never born slo...</td>\n",
       "    </tr>\n",
       "    <tr>\n",
       "      <th>918</th>\n",
       "      <td>with harness the lazy man jumped on its back a...</td>\n",
       "      <td>Bryant</td>\n",
       "      <td>harness lazy man jumped back queer low back mo...</td>\n",
       "    </tr>\n",
       "  </tbody>\n",
       "</table>\n",
       "</div>"
      ],
      "text/plain": [
       "                                       books_text_data authors_labels  \\\n",
       "324  kings and queens and among them alice recognis...        Carroll   \n",
       "768  where he sat and the third sacred morn began t...         Milton   \n",
       "497  theban the large ball d eyes the side drooping...        Whitman   \n",
       "850  passed and felt so wounded that at last he wis...         Bryant   \n",
       "918  with harness the lazy man jumped on its back a...         Bryant   \n",
       "\n",
       "                                     text_no_stopwords  \n",
       "324  kings queens among alice recognised white rabb...  \n",
       "768  sat third sacred morn began shine dawning heav...  \n",
       "497  theban large ball eyes side drooping neck hand...  \n",
       "850  passed felt wounded last wished never born slo...  \n",
       "918  harness lazy man jumped back queer low back mo...  "
      ]
     },
     "execution_count": 24,
     "metadata": {},
     "output_type": "execute_result"
    }
   ],
   "source": [
    "a=remove_stopwords(df_books['books_text_data'])\n",
    "df_books['text_no_stopwords']=a; df_books.sample(5)"
   ]
  },
  {
   "cell_type": "markdown",
   "metadata": {
    "id": "QxL-jQ9ZD1yw"
   },
   "source": [
    "## 2.3 Lemmatization and Stemming"
   ]
  },
  {
   "cell_type": "code",
   "execution_count": 25,
   "metadata": {
    "id": "r9Fj1wzhrE5U"
   },
   "outputs": [],
   "source": [
    "# Lemmatisation (convert the word into root word)\n",
    "def lemmatisation(books_text_data):\n",
    "    lem = nltk.stem.wordnet.WordNetLemmatizer()\n",
    "    splited_text=books_text_data.str.split()\n",
    "    lemmatized_words=[]\n",
    "    for i in range(len(splited_text)):\n",
    "        lemmatized_words1 =' '.join([lem.lemmatize(word) for word in splited_text[i]])\n",
    "        lemmatized_words.append(lemmatized_words1)\n",
    "    return lemmatized_words"
   ]
  },
  {
   "cell_type": "code",
   "execution_count": 26,
   "metadata": {
    "colab": {
     "base_uri": "https://localhost:8080/",
     "height": 254
    },
    "id": "Ry3MkercrE5U",
    "outputId": "eec80cb9-41a2-4a96-c52f-04fc7da6fb8b"
   },
   "outputs": [
    {
     "name": "stderr",
     "output_type": "stream",
     "text": [
      "[nltk_data] Downloading package wordnet to\n",
      "[nltk_data]     C:\\Users\\yusri\\AppData\\Roaming\\nltk_data...\n",
      "[nltk_data]   Package wordnet is already up-to-date!\n"
     ]
    },
    {
     "data": {
      "text/html": [
       "<div>\n",
       "<style scoped>\n",
       "    .dataframe tbody tr th:only-of-type {\n",
       "        vertical-align: middle;\n",
       "    }\n",
       "\n",
       "    .dataframe tbody tr th {\n",
       "        vertical-align: top;\n",
       "    }\n",
       "\n",
       "    .dataframe thead th {\n",
       "        text-align: right;\n",
       "    }\n",
       "</style>\n",
       "<table border=\"1\" class=\"dataframe\">\n",
       "  <thead>\n",
       "    <tr style=\"text-align: right;\">\n",
       "      <th></th>\n",
       "      <th>books_text_data</th>\n",
       "      <th>authors_labels</th>\n",
       "      <th>text_no_stopwords</th>\n",
       "      <th>lemmatized_text</th>\n",
       "    </tr>\n",
       "  </thead>\n",
       "  <tbody>\n",
       "    <tr>\n",
       "      <th>395</th>\n",
       "      <td>would bend about easily in any direction like ...</td>\n",
       "      <td>Carroll</td>\n",
       "      <td>would bend easily direction like serpent succe...</td>\n",
       "      <td>would bend about easily in any direction like ...</td>\n",
       "    </tr>\n",
       "    <tr>\n",
       "      <th>417</th>\n",
       "      <td>street comes before me the unknown soldier s g...</td>\n",
       "      <td>Whitman</td>\n",
       "      <td>street comes unknown soldier grave comes inscr...</td>\n",
       "      <td>street come before me the unknown soldier s gr...</td>\n",
       "    </tr>\n",
       "    <tr>\n",
       "      <th>87</th>\n",
       "      <td>you will destroy mankind you will destroy the ...</td>\n",
       "      <td>Chesterton</td>\n",
       "      <td>destroy mankind destroy world let suffice yet ...</td>\n",
       "      <td>you will destroy mankind you will destroy the ...</td>\n",
       "    </tr>\n",
       "    <tr>\n",
       "      <th>428</th>\n",
       "      <td>i had him sit next me at table my fire lock le...</td>\n",
       "      <td>Whitman</td>\n",
       "      <td>sit next table fire lock lean corner twenty ei...</td>\n",
       "      <td>i had him sit next me at table my fire lock le...</td>\n",
       "    </tr>\n",
       "    <tr>\n",
       "      <th>91</th>\n",
       "      <td>are you prepared in the presence of that card ...</td>\n",
       "      <td>Chesterton</td>\n",
       "      <td>prepared presence card deny company shall say ...</td>\n",
       "      <td>are you prepared in the presence of that card ...</td>\n",
       "    </tr>\n",
       "  </tbody>\n",
       "</table>\n",
       "</div>"
      ],
      "text/plain": [
       "                                       books_text_data authors_labels  \\\n",
       "395  would bend about easily in any direction like ...        Carroll   \n",
       "417  street comes before me the unknown soldier s g...        Whitman   \n",
       "87   you will destroy mankind you will destroy the ...     Chesterton   \n",
       "428  i had him sit next me at table my fire lock le...        Whitman   \n",
       "91   are you prepared in the presence of that card ...     Chesterton   \n",
       "\n",
       "                                     text_no_stopwords  \\\n",
       "395  would bend easily direction like serpent succe...   \n",
       "417  street comes unknown soldier grave comes inscr...   \n",
       "87   destroy mankind destroy world let suffice yet ...   \n",
       "428  sit next table fire lock lean corner twenty ei...   \n",
       "91   prepared presence card deny company shall say ...   \n",
       "\n",
       "                                       lemmatized_text  \n",
       "395  would bend about easily in any direction like ...  \n",
       "417  street come before me the unknown soldier s gr...  \n",
       "87   you will destroy mankind you will destroy the ...  \n",
       "428  i had him sit next me at table my fire lock le...  \n",
       "91   are you prepared in the presence of that card ...  "
      ]
     },
     "execution_count": 26,
     "metadata": {},
     "output_type": "execute_result"
    }
   ],
   "source": [
    "nltk.download('wordnet')\n",
    "b=lemmatisation(df_books['books_text_data'])\n",
    "df_books['lemmatized_text']=b; df_books.sample(5)"
   ]
  },
  {
   "cell_type": "code",
   "execution_count": 27,
   "metadata": {
    "colab": {
     "base_uri": "https://localhost:8080/",
     "height": 289
    },
    "id": "lGOhL6pnkW0M",
    "outputId": "18bc2aa4-d793-42a4-9fc0-a2406f9e7a68"
   },
   "outputs": [
    {
     "data": {
      "text/html": [
       "<div>\n",
       "<style scoped>\n",
       "    .dataframe tbody tr th:only-of-type {\n",
       "        vertical-align: middle;\n",
       "    }\n",
       "\n",
       "    .dataframe tbody tr th {\n",
       "        vertical-align: top;\n",
       "    }\n",
       "\n",
       "    .dataframe thead th {\n",
       "        text-align: right;\n",
       "    }\n",
       "</style>\n",
       "<table border=\"1\" class=\"dataframe\">\n",
       "  <thead>\n",
       "    <tr style=\"text-align: right;\">\n",
       "      <th></th>\n",
       "      <th>books_text_data</th>\n",
       "      <th>authors_labels</th>\n",
       "      <th>text_no_stopwords</th>\n",
       "      <th>lemmatized_text</th>\n",
       "      <th>lemm_nostopwords_text</th>\n",
       "    </tr>\n",
       "  </thead>\n",
       "  <tbody>\n",
       "    <tr>\n",
       "      <th>682</th>\n",
       "      <td>upper world the rest were all far to the inlan...</td>\n",
       "      <td>Milton</td>\n",
       "      <td>upper world rest far inland retired walls pand...</td>\n",
       "      <td>upper world the rest were all far to the inlan...</td>\n",
       "      <td>upper world rest far inland retired wall pande...</td>\n",
       "    </tr>\n",
       "    <tr>\n",
       "      <th>838</th>\n",
       "      <td>had a splendid brain in her little head it lik...</td>\n",
       "      <td>Bryant</td>\n",
       "      <td>splendid brain little head liked study thought...</td>\n",
       "      <td>had a splendid brain in her little head it lik...</td>\n",
       "      <td>splendid brain little head liked study thought...</td>\n",
       "    </tr>\n",
       "    <tr>\n",
       "      <th>996</th>\n",
       "      <td>for many minutes for it was not a soft place i...</td>\n",
       "      <td>Bryant</td>\n",
       "      <td>many minutes soft place assure wished soft war...</td>\n",
       "      <td>for many minute for it wa not a soft place i c...</td>\n",
       "      <td>many minute soft place assure wished soft warm...</td>\n",
       "    </tr>\n",
       "    <tr>\n",
       "      <th>363</th>\n",
       "      <td>dreadfully fond of beheading people here the g...</td>\n",
       "      <td>Carroll</td>\n",
       "      <td>dreadfully fond beheading people great wonder ...</td>\n",
       "      <td>dreadfully fond of beheading people here the g...</td>\n",
       "      <td>dreadfully fond beheading people great wonder ...</td>\n",
       "    </tr>\n",
       "    <tr>\n",
       "      <th>188</th>\n",
       "      <td>time he finds it quite difficult to walk uprig...</td>\n",
       "      <td>Chesterton</td>\n",
       "      <td>time finds quite difficult walk upright good g...</td>\n",
       "      <td>time he find it quite difficult to walk uprigh...</td>\n",
       "      <td>time find quite difficult walk upright good go...</td>\n",
       "    </tr>\n",
       "  </tbody>\n",
       "</table>\n",
       "</div>"
      ],
      "text/plain": [
       "                                       books_text_data authors_labels  \\\n",
       "682  upper world the rest were all far to the inlan...         Milton   \n",
       "838  had a splendid brain in her little head it lik...         Bryant   \n",
       "996  for many minutes for it was not a soft place i...         Bryant   \n",
       "363  dreadfully fond of beheading people here the g...        Carroll   \n",
       "188  time he finds it quite difficult to walk uprig...     Chesterton   \n",
       "\n",
       "                                     text_no_stopwords  \\\n",
       "682  upper world rest far inland retired walls pand...   \n",
       "838  splendid brain little head liked study thought...   \n",
       "996  many minutes soft place assure wished soft war...   \n",
       "363  dreadfully fond beheading people great wonder ...   \n",
       "188  time finds quite difficult walk upright good g...   \n",
       "\n",
       "                                       lemmatized_text  \\\n",
       "682  upper world the rest were all far to the inlan...   \n",
       "838  had a splendid brain in her little head it lik...   \n",
       "996  for many minute for it wa not a soft place i c...   \n",
       "363  dreadfully fond of beheading people here the g...   \n",
       "188  time he find it quite difficult to walk uprigh...   \n",
       "\n",
       "                                 lemm_nostopwords_text  \n",
       "682  upper world rest far inland retired wall pande...  \n",
       "838  splendid brain little head liked study thought...  \n",
       "996  many minute soft place assure wished soft warm...  \n",
       "363  dreadfully fond beheading people great wonder ...  \n",
       "188  time find quite difficult walk upright good go...  "
      ]
     },
     "execution_count": 27,
     "metadata": {},
     "output_type": "execute_result"
    }
   ],
   "source": [
    "bb=lemmatisation(df_books['text_no_stopwords'])\n",
    "df_books['lemm_nostopwords_text']=bb; df_books.sample(5)"
   ]
  },
  {
   "cell_type": "code",
   "execution_count": 28,
   "metadata": {
    "id": "gfVct6C2rE5U"
   },
   "outputs": [],
   "source": [
    "#Stemming\n",
    "def stem_word(books_text_data):\n",
    "    ps=nltk.stem.porter.PorterStemmer()\n",
    "    splited_text=books_text_data.str.split()\n",
    "    stem_words=[]\n",
    "    for i in range(len(splited_text)):\n",
    "        stem_words1 =' '.join([ps.stem(word) for word in splited_text[i]])\n",
    "        stem_words.append(stem_words1)\n",
    "    return stem_words"
   ]
  },
  {
   "cell_type": "code",
   "execution_count": 29,
   "metadata": {
    "colab": {
     "base_uri": "https://localhost:8080/",
     "height": 289
    },
    "id": "crnEv0ezrE5V",
    "outputId": "3fca406c-ce01-44d7-bb6d-3306e7b5d5df"
   },
   "outputs": [
    {
     "data": {
      "text/html": [
       "<div>\n",
       "<style scoped>\n",
       "    .dataframe tbody tr th:only-of-type {\n",
       "        vertical-align: middle;\n",
       "    }\n",
       "\n",
       "    .dataframe tbody tr th {\n",
       "        vertical-align: top;\n",
       "    }\n",
       "\n",
       "    .dataframe thead th {\n",
       "        text-align: right;\n",
       "    }\n",
       "</style>\n",
       "<table border=\"1\" class=\"dataframe\">\n",
       "  <thead>\n",
       "    <tr style=\"text-align: right;\">\n",
       "      <th></th>\n",
       "      <th>books_text_data</th>\n",
       "      <th>authors_labels</th>\n",
       "      <th>text_no_stopwords</th>\n",
       "      <th>lemmatized_text</th>\n",
       "      <th>lemm_nostopwords_text</th>\n",
       "      <th>stem_text</th>\n",
       "    </tr>\n",
       "  </thead>\n",
       "  <tbody>\n",
       "    <tr>\n",
       "      <th>138</th>\n",
       "      <td>so jolly like a balloon himself said dr bull d...</td>\n",
       "      <td>Chesterton</td>\n",
       "      <td>jolly like balloon said dr bull desperately un...</td>\n",
       "      <td>so jolly like a balloon himself said dr bull d...</td>\n",
       "      <td>jolly like balloon said dr bull desperately un...</td>\n",
       "      <td>so jolli like a balloon himself said dr bull d...</td>\n",
       "    </tr>\n",
       "    <tr>\n",
       "      <th>993</th>\n",
       "      <td>found her sitting in a tent by the side of an ...</td>\n",
       "      <td>Bryant</td>\n",
       "      <td>found sitting tent side old white haired hermi...</td>\n",
       "      <td>found her sitting in a tent by the side of an ...</td>\n",
       "      <td>found sitting tent side old white haired hermi...</td>\n",
       "      <td>found her sit in a tent by the side of an old ...</td>\n",
       "    </tr>\n",
       "    <tr>\n",
       "      <th>729</th>\n",
       "      <td>seed shall bruise the serpent s head piteous a...</td>\n",
       "      <td>Milton</td>\n",
       "      <td>seed shall bruise serpent head piteous amends ...</td>\n",
       "      <td>seed shall bruise the serpent s head piteous a...</td>\n",
       "      <td>seed shall bruise serpent head piteous amends ...</td>\n",
       "      <td>seed shall bruis the serpent s head piteou ame...</td>\n",
       "    </tr>\n",
       "    <tr>\n",
       "      <th>952</th>\n",
       "      <td>of nature there sprang from the sons of odin a...</td>\n",
       "      <td>Bryant</td>\n",
       "      <td>nature sprang sons odin race men became mighty...</td>\n",
       "      <td>of nature there sprang from the son of odin a ...</td>\n",
       "      <td>nature sprang son odin race men became mighty ...</td>\n",
       "      <td>of natur there sprang from the son of odin a r...</td>\n",
       "    </tr>\n",
       "    <tr>\n",
       "      <th>190</th>\n",
       "      <td>don t mind being anything in german thought ar...</td>\n",
       "      <td>Chesterton</td>\n",
       "      <td>mind anything german thought police service sa...</td>\n",
       "      <td>don t mind being anything in german thought ar...</td>\n",
       "      <td>mind anything german thought police service sa...</td>\n",
       "      <td>don t mind be anyth in german thought are you ...</td>\n",
       "    </tr>\n",
       "  </tbody>\n",
       "</table>\n",
       "</div>"
      ],
      "text/plain": [
       "                                       books_text_data authors_labels  \\\n",
       "138  so jolly like a balloon himself said dr bull d...     Chesterton   \n",
       "993  found her sitting in a tent by the side of an ...         Bryant   \n",
       "729  seed shall bruise the serpent s head piteous a...         Milton   \n",
       "952  of nature there sprang from the sons of odin a...         Bryant   \n",
       "190  don t mind being anything in german thought ar...     Chesterton   \n",
       "\n",
       "                                     text_no_stopwords  \\\n",
       "138  jolly like balloon said dr bull desperately un...   \n",
       "993  found sitting tent side old white haired hermi...   \n",
       "729  seed shall bruise serpent head piteous amends ...   \n",
       "952  nature sprang sons odin race men became mighty...   \n",
       "190  mind anything german thought police service sa...   \n",
       "\n",
       "                                       lemmatized_text  \\\n",
       "138  so jolly like a balloon himself said dr bull d...   \n",
       "993  found her sitting in a tent by the side of an ...   \n",
       "729  seed shall bruise the serpent s head piteous a...   \n",
       "952  of nature there sprang from the son of odin a ...   \n",
       "190  don t mind being anything in german thought ar...   \n",
       "\n",
       "                                 lemm_nostopwords_text  \\\n",
       "138  jolly like balloon said dr bull desperately un...   \n",
       "993  found sitting tent side old white haired hermi...   \n",
       "729  seed shall bruise serpent head piteous amends ...   \n",
       "952  nature sprang son odin race men became mighty ...   \n",
       "190  mind anything german thought police service sa...   \n",
       "\n",
       "                                             stem_text  \n",
       "138  so jolli like a balloon himself said dr bull d...  \n",
       "993  found her sit in a tent by the side of an old ...  \n",
       "729  seed shall bruis the serpent s head piteou ame...  \n",
       "952  of natur there sprang from the son of odin a r...  \n",
       "190  don t mind be anyth in german thought are you ...  "
      ]
     },
     "execution_count": 29,
     "metadata": {},
     "output_type": "execute_result"
    }
   ],
   "source": [
    "c=stem_word(df_books['books_text_data'])\n",
    "df_books['stem_text']=c; df_books.sample(5)"
   ]
  },
  {
   "cell_type": "code",
   "execution_count": 30,
   "metadata": {
    "id": "3fN4lCV4nJXp"
   },
   "outputs": [],
   "source": [
    "#df_books[['books_text_data','authors_labels']]"
   ]
  },
  {
   "cell_type": "code",
   "execution_count": 31,
   "metadata": {
    "id": "x7jwquYMrE5V"
   },
   "outputs": [],
   "source": [
    "#print(str(ss.iloc[0][0]))\n",
    "#print(str(df_books.iloc[0][0]))"
   ]
  },
  {
   "cell_type": "markdown",
   "metadata": {
    "id": "y3q182J9ESv6"
   },
   "source": [
    "## 2.4 Labels encoding"
   ]
  },
  {
   "cell_type": "code",
   "execution_count": 32,
   "metadata": {
    "colab": {
     "base_uri": "https://localhost:8080/"
    },
    "id": "q0MEwy7wrE5W",
    "outputId": "0c92bbc1-d648-47f8-f0e3-78b010ef1404"
   },
   "outputs": [
    {
     "name": "stdout",
     "output_type": "stream",
     "text": [
      "['Bryant', 'Carroll', 'Chesterton', 'Milton', 'Whitman']\n"
     ]
    }
   ],
   "source": [
    "# Encode the authors labels\n",
    "from sklearn import preprocessing\n",
    "le = preprocessing.LabelEncoder()\n",
    "labels_encoder=le.fit_transform(df_books['authors_labels'])\n",
    "#print(labels_encoder)\n",
    "#print(list(le.classes_))\n",
    "#print(list(le.inverse_transform(labels_encoder)))\n",
    "#print(list(le.inverse_transform(le.classes_)))\n",
    "print(list(le.inverse_transform([0,1,2,3,4]))) # decode the labels to get the orginal labels"
   ]
  },
  {
   "cell_type": "code",
   "execution_count": 33,
   "metadata": {
    "id": "vcZTiX-MrE5W"
   },
   "outputs": [],
   "source": [
    "df_books.insert(loc=2, column='labels_encoder',value=labels_encoder) # insert the encoded labels to the dataframe"
   ]
  },
  {
   "cell_type": "code",
   "execution_count": 34,
   "metadata": {
    "colab": {
     "base_uri": "https://localhost:8080/",
     "height": 358
    },
    "id": "qtJ06arJrE5W",
    "outputId": "d7ee1565-3a2e-426b-96dd-b4ae8c624cfc"
   },
   "outputs": [
    {
     "data": {
      "text/html": [
       "<div>\n",
       "<style scoped>\n",
       "    .dataframe tbody tr th:only-of-type {\n",
       "        vertical-align: middle;\n",
       "    }\n",
       "\n",
       "    .dataframe tbody tr th {\n",
       "        vertical-align: top;\n",
       "    }\n",
       "\n",
       "    .dataframe thead th {\n",
       "        text-align: right;\n",
       "    }\n",
       "</style>\n",
       "<table border=\"1\" class=\"dataframe\">\n",
       "  <thead>\n",
       "    <tr style=\"text-align: right;\">\n",
       "      <th></th>\n",
       "      <th>books_text_data</th>\n",
       "      <th>authors_labels</th>\n",
       "      <th>labels_encoder</th>\n",
       "      <th>text_no_stopwords</th>\n",
       "      <th>lemmatized_text</th>\n",
       "      <th>lemm_nostopwords_text</th>\n",
       "      <th>stem_text</th>\n",
       "    </tr>\n",
       "  </thead>\n",
       "  <tbody>\n",
       "    <tr>\n",
       "      <th>626</th>\n",
       "      <td>howled within unseen far less abhorred than th...</td>\n",
       "      <td>Milton</td>\n",
       "      <td>3</td>\n",
       "      <td>howled within unseen far less abhorred vexed s...</td>\n",
       "      <td>howled within unseen far le abhorred than thes...</td>\n",
       "      <td>howled within unseen far le abhorred vexed scy...</td>\n",
       "      <td>howl within unseen far less abhor than these v...</td>\n",
       "    </tr>\n",
       "    <tr>\n",
       "      <th>300</th>\n",
       "      <td>and i wish you wouldn t keep appearing and van...</td>\n",
       "      <td>Carroll</td>\n",
       "      <td>1</td>\n",
       "      <td>wish keep appearing vanishing suddenly make on...</td>\n",
       "      <td>and i wish you wouldn t keep appearing and van...</td>\n",
       "      <td>wish keep appearing vanishing suddenly make on...</td>\n",
       "      <td>and i wish you wouldn t keep appear and vanish...</td>\n",
       "    </tr>\n",
       "    <tr>\n",
       "      <th>383</th>\n",
       "      <td>heard a little pattering of footsteps in the d...</td>\n",
       "      <td>Carroll</td>\n",
       "      <td>1</td>\n",
       "      <td>heard little pattering footsteps distance look...</td>\n",
       "      <td>heard a little pattering of footstep in the di...</td>\n",
       "      <td>heard little pattering footstep distance looke...</td>\n",
       "      <td>heard a littl patter of footstep in the distan...</td>\n",
       "    </tr>\n",
       "    <tr>\n",
       "      <th>142</th>\n",
       "      <td>unquestionably urgent that all this time syme ...</td>\n",
       "      <td>Chesterton</td>\n",
       "      <td>2</td>\n",
       "      <td>unquestionably urgent time syme staring doctor...</td>\n",
       "      <td>unquestionably urgent that all this time syme ...</td>\n",
       "      <td>unquestionably urgent time syme staring doctor...</td>\n",
       "      <td>unquestion urgent that all thi time syme had b...</td>\n",
       "    </tr>\n",
       "    <tr>\n",
       "      <th>1</th>\n",
       "      <td>man you lie no agonies can be too great to buy...</td>\n",
       "      <td>Chesterton</td>\n",
       "      <td>2</td>\n",
       "      <td>man lie agonies great buy right say accuser al...</td>\n",
       "      <td>man you lie no agony can be too great to buy t...</td>\n",
       "      <td>man lie agony great buy right say accuser also...</td>\n",
       "      <td>man you lie no agoni can be too great to buy t...</td>\n",
       "    </tr>\n",
       "  </tbody>\n",
       "</table>\n",
       "</div>"
      ],
      "text/plain": [
       "                                       books_text_data authors_labels  \\\n",
       "626  howled within unseen far less abhorred than th...         Milton   \n",
       "300  and i wish you wouldn t keep appearing and van...        Carroll   \n",
       "383  heard a little pattering of footsteps in the d...        Carroll   \n",
       "142  unquestionably urgent that all this time syme ...     Chesterton   \n",
       "1    man you lie no agonies can be too great to buy...     Chesterton   \n",
       "\n",
       "     labels_encoder                                  text_no_stopwords  \\\n",
       "626               3  howled within unseen far less abhorred vexed s...   \n",
       "300               1  wish keep appearing vanishing suddenly make on...   \n",
       "383               1  heard little pattering footsteps distance look...   \n",
       "142               2  unquestionably urgent time syme staring doctor...   \n",
       "1                 2  man lie agonies great buy right say accuser al...   \n",
       "\n",
       "                                       lemmatized_text  \\\n",
       "626  howled within unseen far le abhorred than thes...   \n",
       "300  and i wish you wouldn t keep appearing and van...   \n",
       "383  heard a little pattering of footstep in the di...   \n",
       "142  unquestionably urgent that all this time syme ...   \n",
       "1    man you lie no agony can be too great to buy t...   \n",
       "\n",
       "                                 lemm_nostopwords_text  \\\n",
       "626  howled within unseen far le abhorred vexed scy...   \n",
       "300  wish keep appearing vanishing suddenly make on...   \n",
       "383  heard little pattering footstep distance looke...   \n",
       "142  unquestionably urgent time syme staring doctor...   \n",
       "1    man lie agony great buy right say accuser also...   \n",
       "\n",
       "                                             stem_text  \n",
       "626  howl within unseen far less abhor than these v...  \n",
       "300  and i wish you wouldn t keep appear and vanish...  \n",
       "383  heard a littl patter of footstep in the distan...  \n",
       "142  unquestion urgent that all thi time syme had b...  \n",
       "1    man you lie no agoni can be too great to buy t...  "
      ]
     },
     "execution_count": 34,
     "metadata": {},
     "output_type": "execute_result"
    }
   ],
   "source": [
    "df_books.sample(5)"
   ]
  },
  {
   "cell_type": "markdown",
   "metadata": {
    "id": "-17_zPvBE59g"
   },
   "source": [
    "## 2.5 Text Data Analysis\n",
    "### 2.5.1 Chunks count"
   ]
  },
  {
   "cell_type": "code",
   "execution_count": 35,
   "metadata": {
    "colab": {
     "base_uri": "https://localhost:8080/",
     "height": 360
    },
    "id": "c3EuiLM2rE5Y",
    "outputId": "6f6f96c2-f854-4087-8f81-a7d556ea6f00"
   },
   "outputs": [
    {
     "data": {
      "image/png": "[encoded data removed]",
      "text/plain": [
       "<Figure size 720x360 with 1 Axes>"
      ]
     },
     "metadata": {
      "needs_background": "light"
     },
     "output_type": "display_data"
    }
   ],
   "source": [
    "## for plotting\n",
    "import matplotlib.pyplot as plt\n",
    "import seaborn as sns\n",
    "#import wordcloud\n",
    "fig, ax = plt.subplots()\n",
    "fig.suptitle('Chunks Count', fontsize=12)\n",
    "df_books[\"authors_labels\"].reset_index().groupby(\"authors_labels\").count().sort_values(by= \n",
    "       \"index\").plot(kind=\"barh\", legend=False, ax=ax,figsize=(10,5),fontsize=14)\n",
    "plt.show()"
   ]
  },
  {
   "cell_type": "markdown",
   "metadata": {
    "id": "3An4J_a8FDry"
   },
   "source": [
    "### 2.5.2 Length Analysis"
   ]
  },
  {
   "cell_type": "code",
   "execution_count": 34,
   "metadata": {
    "colab": {
     "base_uri": "https://localhost:8080/",
     "height": 289
    },
    "id": "hEuKg2hR1cWX",
    "outputId": "8c47686c-a275-4762-fd23-23599defd55c"
   },
   "outputs": [
    {
     "data": {
      "text/html": [
       "<div>\n",
       "<style scoped>\n",
       "    .dataframe tbody tr th:only-of-type {\n",
       "        vertical-align: middle;\n",
       "    }\n",
       "\n",
       "    .dataframe tbody tr th {\n",
       "        vertical-align: top;\n",
       "    }\n",
       "\n",
       "    .dataframe thead th {\n",
       "        text-align: right;\n",
       "    }\n",
       "</style>\n",
       "<table border=\"1\" class=\"dataframe\">\n",
       "  <thead>\n",
       "    <tr style=\"text-align: right;\">\n",
       "      <th></th>\n",
       "      <th>books_text_data</th>\n",
       "      <th>authors_labels</th>\n",
       "      <th>labels_encoder</th>\n",
       "      <th>word_count</th>\n",
       "      <th>char_count</th>\n",
       "      <th>sentence_count</th>\n",
       "      <th>avg_word_length</th>\n",
       "      <th>avg_sentence_lenght</th>\n",
       "    </tr>\n",
       "  </thead>\n",
       "  <tbody>\n",
       "    <tr>\n",
       "      <th>622</th>\n",
       "      <td>have fixed my lot certain to undergo like doom...</td>\n",
       "      <td>Milton</td>\n",
       "      <td>3</td>\n",
       "      <td>100</td>\n",
       "      <td>394</td>\n",
       "      <td>1</td>\n",
       "      <td>3.94</td>\n",
       "      <td>100.0</td>\n",
       "    </tr>\n",
       "    <tr>\n",
       "      <th>512</th>\n",
       "      <td>companions to buy tokens souvenirs of gems and...</td>\n",
       "      <td>Whitman</td>\n",
       "      <td>4</td>\n",
       "      <td>100</td>\n",
       "      <td>432</td>\n",
       "      <td>1</td>\n",
       "      <td>4.32</td>\n",
       "      <td>100.0</td>\n",
       "    </tr>\n",
       "    <tr>\n",
       "      <th>147</th>\n",
       "      <td>mouth to put it syme sprang to his feet and sa...</td>\n",
       "      <td>Chesterton</td>\n",
       "      <td>2</td>\n",
       "      <td>100</td>\n",
       "      <td>398</td>\n",
       "      <td>1</td>\n",
       "      <td>3.98</td>\n",
       "      <td>100.0</td>\n",
       "    </tr>\n",
       "    <tr>\n",
       "      <th>313</th>\n",
       "      <td>at the stick and tumbled head over heels in it...</td>\n",
       "      <td>Carroll</td>\n",
       "      <td>1</td>\n",
       "      <td>100</td>\n",
       "      <td>397</td>\n",
       "      <td>1</td>\n",
       "      <td>3.97</td>\n",
       "      <td>100.0</td>\n",
       "    </tr>\n",
       "    <tr>\n",
       "      <th>704</th>\n",
       "      <td>armies bright which but th omnipotent none cou...</td>\n",
       "      <td>Milton</td>\n",
       "      <td>3</td>\n",
       "      <td>100</td>\n",
       "      <td>467</td>\n",
       "      <td>1</td>\n",
       "      <td>4.67</td>\n",
       "      <td>100.0</td>\n",
       "    </tr>\n",
       "  </tbody>\n",
       "</table>\n",
       "</div>"
      ],
      "text/plain": [
       "                                       books_text_data  ... avg_sentence_lenght\n",
       "622  have fixed my lot certain to undergo like doom...  ...               100.0\n",
       "512  companions to buy tokens souvenirs of gems and...  ...               100.0\n",
       "147  mouth to put it syme sprang to his feet and sa...  ...               100.0\n",
       "313  at the stick and tumbled head over heels in it...  ...               100.0\n",
       "704  armies bright which but th omnipotent none cou...  ...               100.0\n",
       "\n",
       "[5 rows x 8 columns]"
      ]
     },
     "execution_count": 34,
     "metadata": {
      "tags": []
     },
     "output_type": "execute_result"
    }
   ],
   "source": [
    "#For Length Analysis, create a new dataframe\n",
    "new_df_books=df_books[[\"books_text_data\",\"authors_labels\",'labels_encoder']].copy()\n",
    "new_df_books['word_count'] = new_df_books[\"books_text_data\"].apply(lambda x: len(str(x).split()))\n",
    "new_df_books['char_count'] = new_df_books[\"books_text_data\"].apply(lambda x: sum(len(word) for word in str(x).split()))\n",
    "new_df_books['sentence_count'] = new_df_books[\"books_text_data\"].apply(lambda x: len(str(x).split(\".\")))\n",
    "new_df_books['avg_word_length'] = new_df_books['char_count'] / new_df_books['word_count']\n",
    "new_df_books['avg_sentence_lenght'] = new_df_books['word_count'] / new_df_books['sentence_count']\n",
    "new_df_books.sample(5)"
   ]
  },
  {
   "cell_type": "code",
   "execution_count": 35,
   "metadata": {
    "colab": {
     "base_uri": "https://localhost:8080/",
     "height": 827
    },
    "id": "kCV-Ex2x4YvF",
    "outputId": "37dc5082-31f6-4b12-dd8f-9267baedbb34"
   },
   "outputs": [
    {
     "name": "stderr",
     "output_type": "stream",
     "text": [
      "/usr/local/lib/python3.6/dist-packages/seaborn/distributions.py:2557: FutureWarning: `distplot` is a deprecated function and will be removed in a future version. Please adapt your code to use either `displot` (a figure-level function with similar flexibility) or `histplot` (an axes-level function for histograms).\n",
      "  warnings.warn(msg, FutureWarning)\n"
     ]
    },
    {
     "data": {
      "image/png": "[encoded data removed]",
      "text/plain": [
       "<Figure size 432x288 with 1 Axes>"
      ]
     },
     "metadata": {
      "needs_background": "light",
      "tags": []
     },
     "output_type": "display_data"
    },
    {
     "name": "stderr",
     "output_type": "stream",
     "text": [
      "/usr/local/lib/python3.6/dist-packages/seaborn/distributions.py:2557: FutureWarning: `distplot` is a deprecated function and will be removed in a future version. Please adapt your code to use either `displot` (a figure-level function with similar flexibility) or `kdeplot` (an axes-level function for kernel density plots).\n",
      "  warnings.warn(msg, FutureWarning)\n",
      "/usr/local/lib/python3.6/dist-packages/seaborn/distributions.py:2557: FutureWarning: `distplot` is a deprecated function and will be removed in a future version. Please adapt your code to use either `displot` (a figure-level function with similar flexibility) or `kdeplot` (an axes-level function for kernel density plots).\n",
      "  warnings.warn(msg, FutureWarning)\n",
      "/usr/local/lib/python3.6/dist-packages/seaborn/distributions.py:2557: FutureWarning: `distplot` is a deprecated function and will be removed in a future version. Please adapt your code to use either `displot` (a figure-level function with similar flexibility) or `kdeplot` (an axes-level function for kernel density plots).\n",
      "  warnings.warn(msg, FutureWarning)\n",
      "/usr/local/lib/python3.6/dist-packages/seaborn/distributions.py:2557: FutureWarning: `distplot` is a deprecated function and will be removed in a future version. Please adapt your code to use either `displot` (a figure-level function with similar flexibility) or `kdeplot` (an axes-level function for kernel density plots).\n",
      "  warnings.warn(msg, FutureWarning)\n",
      "/usr/local/lib/python3.6/dist-packages/seaborn/distributions.py:2557: FutureWarning: `distplot` is a deprecated function and will be removed in a future version. Please adapt your code to use either `displot` (a figure-level function with similar flexibility) or `kdeplot` (an axes-level function for kernel density plots).\n",
      "  warnings.warn(msg, FutureWarning)\n"
     ]
    },
    {
     "data": {
      "image/png": "[encoded data removed]",
      "text/plain": [
       "<Figure size 432x288 with 1 Axes>"
      ]
     },
     "metadata": {
      "needs_background": "light",
      "tags": []
     },
     "output_type": "display_data"
    }
   ],
   "source": [
    "#length distributions:\n",
    "x, y = \"char_count\", \"authors_labels\"\n",
    "fig, ax = plt.subplots()\n",
    "fig.suptitle('Character Counts', fontsize=12)\n",
    "for i in new_df_books[y].unique():\n",
    "    a=sns.distplot(new_df_books[new_df_books[y]==i][x], hist=True, kde=False, \n",
    "                 bins=10, hist_kws={\"alpha\":1}, \n",
    "                 axlabel=\"Histogram\", ax=ax)\n",
    "ax.grid(False); ax.legend(new_df_books[y].unique()); plt.show()\n",
    "# -------------------------------------------------------------------\n",
    "fig, ax = plt.subplots()\n",
    "fig.suptitle('Character Counts', fontsize=12)\n",
    "for i in new_df_books[y].unique():\n",
    "    sns.distplot(new_df_books[df_books[y]==i][x], hist=False, kde=True, \n",
    "                 kde_kws={\"shade\":True}, axlabel=\"density\", ax=ax)\n",
    "ax.grid(False); ax.legend(new_df_books[y].unique()); plt.show()"
   ]
  },
  {
   "cell_type": "markdown",
   "metadata": {
    "id": "7sbHmtXLFabg"
   },
   "source": [
    "### 2.5.3 Word Frequency"
   ]
  },
  {
   "cell_type": "code",
   "execution_count": 36,
   "metadata": {
    "colab": {
     "base_uri": "https://localhost:8080/",
     "height": 698
    },
    "id": "all-ARNJAbwi",
    "outputId": "61fddbb5-b8b8-4f47-f270-7e86332734e6"
   },
   "outputs": [
    {
     "name": "stdout",
     "output_type": "stream",
     "text": [
      "[nltk_data] Downloading package punkt to /root/nltk_data...\n",
      "[nltk_data]   Package punkt is already up-to-date!\n"
     ]
    },
    {
     "data": {
      "image/png": "[encoded data removed]",
      "text/plain": [
       "<Figure size 720x360 with 1 Axes>"
      ]
     },
     "metadata": {
      "needs_background": "light",
      "tags": []
     },
     "output_type": "display_data"
    },
    {
     "data": {
      "image/png": "[encoded data removed]",
      "text/plain": [
       "<Figure size 720x360 with 1 Axes>"
      ]
     },
     "metadata": {
      "needs_background": "light",
      "tags": []
     },
     "output_type": "display_data"
    }
   ],
   "source": [
    "#Word Frequency\n",
    "top=10\n",
    "nltk.download('punkt')\n",
    "## for vectorizer\n",
    "from sklearn import feature_extraction, manifold\n",
    "y = 0 # BOOK 1\n",
    "corpus = new_df_books[new_df_books[\"labels_encoder\"]==y][\"books_text_data\"]\n",
    "lst_tokens = nltk.tokenize.word_tokenize(corpus.str.cat(sep=\" \"))   \n",
    "## unigrams\n",
    "fig, ax = plt.subplots() \n",
    "dic_words_freq = nltk.FreqDist(lst_tokens)\n",
    "dtf_uni = pd.DataFrame(dic_words_freq.most_common(), columns=[\"Word\",\"Freq\"])\n",
    "dtf_uni.set_index(\"Word\").iloc[:top,:].sort_values(by=\"Freq\").plot(\n",
    "    kind=\"barh\", title=\"Most frequent words-Unigrams\", ax=ax,legend=False,\n",
    "    figsize=(10,5),fontsize=14).grid(axis='x'); ax.set(ylabel=None); plt.show()\n",
    "\n",
    "## bigrams\n",
    "fig, ax = plt.subplots()\n",
    "dic_words_freq = nltk.FreqDist(nltk.ngrams(lst_tokens, 2))\n",
    "dtf_bi = pd.DataFrame(dic_words_freq.most_common(), columns=[\"Word\",\"Freq\"])\n",
    "dtf_bi[\"Word\"] = dtf_bi[\"Word\"].apply(lambda x: \" \".join(string for string in x) )\n",
    "dtf_bi.set_index(\"Word\").iloc[:top,:].sort_values(by=\"Freq\").plot(\n",
    "    kind=\"barh\", title=\"Most frequent words-Bigrams\", ax=ax,legend=False,\n",
    "    figsize=(10,5),fontsize=14).grid(axis='x'); ax.set(ylabel=None); plt.show()"
   ]
  },
  {
   "cell_type": "code",
   "execution_count": 37,
   "metadata": {
    "id": "b5fDD_aSrE5c"
   },
   "outputs": [],
   "source": [
    "#df_books.drop(df_books_X)\n",
    "#new_df_books.drop(columns='love',inplace=True)\n",
    "#new_df_books"
   ]
  },
  {
   "cell_type": "markdown",
   "metadata": {
    "id": "ah0DdWRzFqh9"
   },
   "source": [
    "### 2.5.4 Visualization-wordcloud"
   ]
  },
  {
   "cell_type": "code",
   "execution_count": 38,
   "metadata": {
    "colab": {
     "base_uri": "https://localhost:8080/",
     "height": 362
    },
    "id": "NK9O_mJmrE5d",
    "outputId": "d40c74db-47a1-496c-aa25-a8a0d8c268a8"
   },
   "outputs": [
    {
     "name": "stdout",
     "output_type": "stream",
     "text": [
      "Requirement already satisfied: wordcloud in /usr/local/lib/python3.6/dist-packages (1.5.0)\n",
      "Requirement already satisfied: pillow in /usr/local/lib/python3.6/dist-packages (from wordcloud) (7.0.0)\n",
      "Requirement already satisfied: numpy>=1.6.1 in /usr/local/lib/python3.6/dist-packages (from wordcloud) (1.19.5)\n"
     ]
    },
    {
     "data": {
      "image/png": "[encoded data removed]",
      "text/plain": [
       "<Figure size 720x720 with 1 Axes>"
      ]
     },
     "metadata": {
      "needs_background": "light",
      "tags": []
     },
     "output_type": "display_data"
    }
   ],
   "source": [
    "# Visualization- wordcloud:\n",
    "!pip install wordcloud\n",
    "#from wordcloud import WordCloud, STOPWORDS, ImageColorGenerator\n",
    "import wordcloud\n",
    "word_cloud = wordcloud.WordCloud(background_color='black', max_words=200, \n",
    "                         max_font_size=25)\n",
    "word_cloud = word_cloud.generate(str(corpus))\n",
    "fig = plt.figure(num=1,figsize=(10,10)); plt.axis('off')\n",
    "plt.imshow(word_cloud, cmap=None); plt.show()"
   ]
  },
  {
   "cell_type": "markdown",
   "metadata": {
    "id": "f4JETx7CrE5e"
   },
   "source": [
    "-----------------------------\n",
    "---------------------\n",
    "------------"
   ]
  },
  {
   "cell_type": "markdown",
   "metadata": {
    "id": "ehCt9ihYg2Q4"
   },
   "source": [
    "## 2.6 Train-test split\n",
    "Divide the data to training set and testing set 85/15"
   ]
  },
  {
   "cell_type": "code",
   "execution_count": 36,
   "metadata": {
    "id": "qpMRD7YUrE5e"
   },
   "outputs": [],
   "source": [
    "# divide the data to training set and testing set 85/15\n",
    "from sklearn.model_selection import train_test_split\n",
    "df_books_train, df_books_test, df_books_labels_train, df_books_labels_test = train_test_split(\n",
    "df_books['lemm_nostopwords_text'],df_books['labels_encoder'], test_size=0.15, random_state=0)"
   ]
  },
  {
   "cell_type": "markdown",
   "metadata": {
    "id": "Eeq2rVdmhFsj"
   },
   "source": [
    "## 2.7 Text representation\n",
    "### 2.7.1 BOW Transformation"
   ]
  },
  {
   "cell_type": "code",
   "execution_count": 37,
   "metadata": {
    "colab": {
     "base_uri": "https://localhost:8080/"
    },
    "id": "1qt9bp5vrE5f",
    "outputId": "0210ac39-15f4-4924-9a76-2db220dc760a"
   },
   "outputs": [
    {
     "name": "stdout",
     "output_type": "stream",
     "text": [
      "(850, 8992)\n",
      "(150, 8992)\n"
     ]
    }
   ],
   "source": [
    "# Transformation BOW\n",
    "from sklearn.feature_extraction.text import CountVectorizer\n",
    "count_vect = CountVectorizer()\n",
    "df_books_BOW=count_vect.fit_transform(df_books['lemm_nostopwords_text']).toarray()\n",
    "#Divide Test and Train for BOW\n",
    "df_books_train_BOW, df_books_test_BOW, df_books_labels_train_BOW, df_books_labels_test_BOW=train_test_split(\n",
    "df_books_BOW,df_books['labels_encoder'], test_size=0.15, random_state=0)\n",
    "\n",
    "print(df_books_train_BOW.shape)\n",
    "print(df_books_test_BOW.shape)"
   ]
  },
  {
   "cell_type": "markdown",
   "metadata": {
    "id": "Wu7G3okamK8M"
   },
   "source": [
    "### 2.7.2 TF-iDF Transformation"
   ]
  },
  {
   "cell_type": "code",
   "execution_count": 38,
   "metadata": {
    "colab": {
     "base_uri": "https://localhost:8080/"
    },
    "id": "2OC5w6zIrE5f",
    "outputId": "3f7fdbb7-50fa-4706-8b4f-0d7d1e38ce03"
   },
   "outputs": [
    {
     "name": "stdout",
     "output_type": "stream",
     "text": [
      "(850, 761)\n",
      "(150, 761)\n"
     ]
    }
   ],
   "source": [
    "#TFiDF Transformation\n",
    "# Parameter election\n",
    "from sklearn.feature_extraction.text import TfidfVectorizer\n",
    "ngram_range = (1,2); min_df = 10; max_df = 1.\n",
    "#; max_features = 300\n",
    "# max_features=max_features\n",
    "tfidf = TfidfVectorizer(encoding='utf-8',\n",
    "                        ngram_range=ngram_range,\n",
    "                        stop_words=None,\n",
    "                        lowercase=False,\n",
    "                        max_df=max_df,\n",
    "                        min_df=min_df,\n",
    "                        norm='l2',\n",
    "                        sublinear_tf=True)\n",
    "df_books_train_tfidf = tfidf.fit_transform(df_books_train).toarray()\n",
    "print(df_books_train_tfidf.shape)\n",
    "df_books_test_tfidf = tfidf.transform(df_books_test).toarray()\n",
    "print(df_books_test_tfidf.shape)"
   ]
  },
  {
   "cell_type": "code",
   "execution_count": 42,
   "metadata": {},
   "outputs": [
    {
     "name": "stdout",
     "output_type": "stream",
     "text": [
      "TfidfVectorizer(lowercase=False, min_df=10, ngram_range=(1, 2),\n",
      "                sublinear_tf=True)\n"
     ]
    }
   ],
   "source": [
    "print(tfidf)"
   ]
  },
  {
   "cell_type": "markdown",
   "metadata": {
    "id": "aXLUy59nHZya"
   },
   "source": [
    "# 3. Machine Learning Models\n",
    "\n",
    "We will try three machine learning classification models and compare them to find the best one.\n",
    "- Support Vector Machine\n",
    "- K Nearest Neighbors\n",
    "- Decision Tree\n",
    "- Multinomial Naïve Bayes\n",
    "\n",
    "The methodology used to train each model is as follows:\n",
    "- At first check what parameters the model has.\n",
    "- Implement the baseline model and measure its accuracy.\n",
    "- Perform 10-fold cross validation, check the accuracy.\n",
    "- Then, decide what parameters we need to tune in order to get better performance.\n",
    "- Measure the model performance by defining the metric (accuracy). \n",
    "- Perform Grid Search Cross Validation process to  find the best hyperparameters.\n",
    "- When getting the best parameters, the confusion matrix, classification report, and accuracy are used to analyze the model performance on both training and test data.\n",
    "- Compare the accuracy of baseline model and tuned model to check if we got better performance.\n",
    "- The best model will be chosen based on testing accuracy."
   ]
  },
  {
   "cell_type": "markdown",
   "metadata": {
    "id": "xJip2NKGzisN"
   },
   "source": [
    "## **3.1 SVM**"
   ]
  },
  {
   "cell_type": "code",
   "execution_count": 42,
   "metadata": {
    "colab": {
     "base_uri": "https://localhost:8080/"
    },
    "id": "XTycI3MnrE5m",
    "outputId": "ea904329-1040-4560-94d5-ba5f0313e829"
   },
   "outputs": [
    {
     "name": "stdout",
     "output_type": "stream",
     "text": [
      "Check the parameters of SVM:\n",
      " {'C': 1.0, 'break_ties': False, 'cache_size': 200, 'class_weight': None, 'coef0': 0.0, 'decision_function_shape': 'ovr', 'degree': 3, 'gamma': 'scale', 'kernel': 'rbf', 'max_iter': -1, 'probability': False, 'random_state': None, 'shrinking': True, 'tol': 0.001, 'verbose': False}\n"
     ]
    }
   ],
   "source": [
    "# First, we can see what hyperparameters the model has:\n",
    "from sklearn.metrics import classification_report, confusion_matrix, accuracy_score\n",
    "from sklearn import svm\n",
    "SVM = svm.SVC()\n",
    "print('Check the parameters of SVM:\\n',SVM.get_params())"
   ]
  },
  {
   "cell_type": "code",
   "execution_count": 43,
   "metadata": {
    "colab": {
     "base_uri": "https://localhost:8080/"
    },
    "id": "xFGSPUuGy9B4",
    "outputId": "9673ca42-39dc-45d0-ae2d-2993d696259c"
   },
   "outputs": [
    {
     "name": "stdout",
     "output_type": "stream",
     "text": [
      "The accuracy score of SVM_base_model: 0.8933333333333333\n"
     ]
    }
   ],
   "source": [
    "# Check the accuracy of the SVM base model:\n",
    "from sklearn import svm\n",
    "SVM_base_model = svm.SVC()\n",
    "SVM_base_model.fit(df_books_train_tfidf, df_books_labels_train)\n",
    "SVM_base_model_accur=accuracy_score(df_books_labels_test, SVM_base_model.predict(df_books_test_tfidf))\n",
    "print('The accuracy score of SVM_base_model:',SVM_base_model_accur)"
   ]
  },
  {
   "cell_type": "markdown",
   "metadata": {
    "id": "U966Vl4VhFpH"
   },
   "source": [
    "### 3.1.1 SVM Cross-Validation"
   ]
  },
  {
   "cell_type": "code",
   "execution_count": 44,
   "metadata": {
    "colab": {
     "base_uri": "https://localhost:8080/"
    },
    "id": "PDac3ONDzveD",
    "outputId": "283f86ef-e9a3-4d3a-8cd9-d79052d2561b"
   },
   "outputs": [
    {
     "name": "stdout",
     "output_type": "stream",
     "text": [
      "By using 10-fold cross-validation for SVM model:\n",
      " [0.90196078 0.89411765 0.92156863 0.90588235 0.91764706 0.91372549\n",
      " 0.88235294 0.90588235 0.92156863 0.91372549]\n",
      "\n",
      " mean: 0.91\n",
      " std: 0.0119\n"
     ]
    }
   ],
   "source": [
    "# SVM model with 10-fold cross-validation\n",
    "from sklearn import svm\n",
    "from sklearn.model_selection import  cross_val_score\n",
    "from sklearn.model_selection import ShuffleSplit\n",
    "cv = ShuffleSplit(n_splits=10, test_size=0.3, random_state=0)\n",
    "SVM_cross = svm.SVC()\n",
    "SVM_cross.fit(df_books_train_tfidf, df_books_labels_train)\n",
    "scores = cross_val_score(SVM_cross, df_books_train_tfidf, df_books_labels_train, cv=cv)\n",
    "print(\"By using 10-fold cross-validation for SVM model:\\n\",np.array(scores))\n",
    "print(\"\\n\",\"mean: {:.2f}\\n std: {:.4f}\".format(scores.mean(),scores.std()))\n",
    "# Okay, 0.91 is bery good. That means that the average accuracy (percentage of correct classifications using the\n",
    "# trained model) is 91 %. That accuracy is  high, but let’s see if better parameters can be found using grid search."
   ]
  },
  {
   "cell_type": "markdown",
   "metadata": {
    "id": "EKe0vTLPh1SO"
   },
   "source": [
    "### 3.1.2 Grid Search Cross Validation\n",
    "Creating parameters grid for:\n",
    "- Penalty parameter(C)\n",
    "- Kernel coefficient(gamma)\n",
    "- degree of the polynomial\n",
    "- Kernel type\n",
    "- probability\n"
   ]
  },
  {
   "cell_type": "code",
   "execution_count": 45,
   "metadata": {
    "colab": {
     "base_uri": "https://localhost:8080/"
    },
    "id": "wG5Xnj28rE5o",
    "outputId": "94c7b8ff-343b-4ebf-c0f5-27262b057f56"
   },
   "outputs": [
    {
     "name": "stdout",
     "output_type": "stream",
     "text": [
      "Fitting 10 folds for each of 35 candidates, totalling 350 fits\n"
     ]
    },
    {
     "name": "stderr",
     "output_type": "stream",
     "text": [
      "[Parallel(n_jobs=1)]: Using backend SequentialBackend with 1 concurrent workers.\n",
      "[Parallel(n_jobs=1)]: Done 350 out of 350 | elapsed: 17.2min finished\n"
     ]
    },
    {
     "data": {
      "text/plain": [
       "GridSearchCV(cv=ShuffleSplit(n_splits=10, random_state=0, test_size=0.3, train_size=None),\n",
       "             error_score=nan,\n",
       "             estimator=SVC(C=1.0, break_ties=False, cache_size=200,\n",
       "                           class_weight=None, coef0=0.0,\n",
       "                           decision_function_shape='ovr', degree=3,\n",
       "                           gamma='scale', kernel='rbf', max_iter=-1,\n",
       "                           probability=False, random_state=None, shrinking=True,\n",
       "                           tol=0.001, verbose=False),\n",
       "             iid='deprecat...\n",
       "             param_grid=[{'C': [0.0001, 0.001, 0.01, 0.1, 1],\n",
       "                          'kernel': ['linear'], 'probability': [True]},\n",
       "                         {'C': [0.0001, 0.001, 0.01, 0.1, 1],\n",
       "                          'degree': [3, 4, 5], 'kernel': ['poly'],\n",
       "                          'probability': [True]},\n",
       "                         {'C': [0.0001, 0.001, 0.01, 0.1, 1],\n",
       "                          'gamma': [1, 10, 100], 'kernel': ['rbf'],\n",
       "                          'probability': [True]}],\n",
       "             pre_dispatch='2*n_jobs', refit=True, return_train_score=False,\n",
       "             scoring='accuracy', verbose=1)"
      ]
     },
     "execution_count": 45,
     "metadata": {
      "tags": []
     },
     "output_type": "execute_result"
    }
   ],
   "source": [
    "# Grid Search Cross Validation\n",
    "from sklearn.model_selection import GridSearchCV\n",
    "from sklearn.model_selection import ShuffleSplit\n",
    "C = [.0001,.001,.01,.1,1]; degree = [3,4,5]; gamma = [1,10,100]; probability = [True]\n",
    "grid_SVM = [{'C': C, 'kernel':['linear'], 'probability':probability},\n",
    "              {'C': C, 'kernel':['poly'], 'degree':degree, 'probability':probability},\n",
    "              {'C': C, 'kernel':['rbf'], 'gamma':gamma, 'probability':probability}]\n",
    "\n",
    "# Create a base model\n",
    "SVM_model = svm.SVC()\n",
    "cv = ShuffleSplit(n_splits=10, test_size=0.3, random_state=0)\n",
    "SVM_grid_search = GridSearchCV(SVM_model, param_grid=grid_SVM, scoring='accuracy',cv=cv, verbose=1)\n",
    "\n",
    "# Fit the grid search to the data\n",
    "SVM_grid_search.fit(df_books_train_tfidf, df_books_labels_train)"
   ]
  },
  {
   "cell_type": "code",
   "execution_count": 46,
   "metadata": {
    "colab": {
     "base_uri": "https://localhost:8080/"
    },
    "id": "lzhfOuyXrE5p",
    "outputId": "f431b1e6-fc13-4c70-ad97-abeb944bebf8"
   },
   "outputs": [
    {
     "name": "stdout",
     "output_type": "stream",
     "text": [
      "The best parameters for SVM model from Grid Search:\n",
      " {'C': 1, 'kernel': 'linear', 'probability': True} \n",
      "\n",
      "The mean accuracy of SVM model: 0.9086274509803921\n"
     ]
    }
   ],
   "source": [
    "# The best obtained parameters from grid search:\n",
    "print(\"The best parameters for SVM model from Grid Search:\\n\",SVM_grid_search.best_params_,'\\n')\n",
    "print(\"The mean accuracy of SVM model:\",SVM_grid_search.best_score_)"
   ]
  },
  {
   "cell_type": "code",
   "execution_count": 48,
   "metadata": {
    "colab": {
     "base_uri": "https://localhost:8080/"
    },
    "id": "-U60oHhPrE5p",
    "outputId": "f02a639c-9956-45ea-b10a-7caf60f9c976"
   },
   "outputs": [
    {
     "data": {
      "text/plain": [
       "SVC(C=1, break_ties=False, cache_size=200, class_weight=None, coef0=0.0,\n",
       "    decision_function_shape='ovr', degree=3, gamma='scale', kernel='linear',\n",
       "    max_iter=-1, probability=True, random_state=None, shrinking=True, tol=0.001,\n",
       "    verbose=False)"
      ]
     },
     "execution_count": 48,
     "metadata": {
      "tags": []
     },
     "output_type": "execute_result"
    }
   ],
   "source": [
    "# so far, we got the best tuned parameters for SVM model.\n",
    "# store it as best_SVM:\n",
    "best_SVM = SVM_grid_search.best_estimator_\n",
    "best_SVM\n",
    "#best_SVM_BOW=SVM_grid_search.best_estimator_"
   ]
  },
  {
   "cell_type": "markdown",
   "metadata": {
    "id": "jp3PBmRWzesa"
   },
   "source": [
    "### 3.1.3 SVM Model Performance\n",
    "The confusion matrix, classification report, and accuracy are used to analyze the model performance on both training and test data.\n"
   ]
  },
  {
   "cell_type": "code",
   "execution_count": 49,
   "metadata": {
    "colab": {
     "base_uri": "https://localhost:8080/"
    },
    "id": "rtZR6eMmrE5q",
    "outputId": "88ce9bde-5c74-410b-b17c-f5fdc6957abb"
   },
   "outputs": [
    {
     "name": "stdout",
     "output_type": "stream",
     "text": [
      "The accuracy score of SVM_base_model: 0.8933333333333333\n",
      "\n",
      "The accuracy score of best_SVM model: 0.8933333333333333\n",
      "\n",
      "Training accuracy of SVM model:  0.9976470588235294\n",
      "\n",
      "Test accuracy of SVM model:  0.8933333333333333\n",
      "\n",
      "Classification report of SVM model:\n",
      "               precision    recall  f1-score   support\n",
      "\n",
      "           0       0.85      0.92      0.88        25\n",
      "           1       1.00      0.93      0.96        40\n",
      "           2       0.90      0.86      0.88        21\n",
      "           3       0.88      0.88      0.88        32\n",
      "           4       0.82      0.88      0.85        32\n",
      "\n",
      "    accuracy                           0.89       150\n",
      "   macro avg       0.89      0.89      0.89       150\n",
      "weighted avg       0.90      0.89      0.89       150\n",
      "\n"
     ]
    }
   ],
   "source": [
    "best_SVM.fit(df_books_train_tfidf, df_books_labels_train) # fit the DT model to the training data\n",
    "best_SVM_pred = best_SVM.predict(df_books_test_tfidf)   # let the model predict the test data\n",
    "# compare the model after parameters tuning to its base model to check if we got a better model\n",
    "SVM_base_model_accur=accuracy_score(df_books_labels_test, SVM_base_model.predict(df_books_test_tfidf))\n",
    "best_SVM_accur=accuracy_score(df_books_labels_test, best_SVM.predict(df_books_test_tfidf))\n",
    "print('The accuracy score of SVM_base_model:',SVM_base_model_accur)\n",
    "print('\\nThe accuracy score of best_SVM model:',best_SVM_accur)\n",
    "\n",
    "# Training accuracy\n",
    "print(\"\\nTraining accuracy of SVM model: \",accuracy_score(df_books_labels_train, best_SVM.predict(df_books_train_tfidf)))\n",
    "# Test accuracy\n",
    "print(\"\\nTest accuracy of SVM model: \",accuracy_score(df_books_labels_test, best_SVM_pred))\n",
    "# Classification report\n",
    "print(\"\\nClassification report of SVM model:\\n\", classification_report(df_books_labels_test,best_SVM_pred))"
   ]
  },
  {
   "cell_type": "code",
   "execution_count": 50,
   "metadata": {
    "colab": {
     "base_uri": "https://localhost:8080/"
    },
    "id": "2FyWWu-j57mq",
    "outputId": "282621a9-d52a-4bd2-b4c0-4fcca20a211f"
   },
   "outputs": [
    {
     "name": "stdout",
     "output_type": "stream",
     "text": [
      "Collecting mlxtend\n",
      "\u001b[?25l  Downloading https://files.pythonhosted.org/packages/86/30/781c0b962a70848db83339567ecab656638c62f05adb064cb33c0ae49244/mlxtend-0.18.0-py2.py3-none-any.whl (1.3MB)\n",
      "\r",
      "\u001b[K     |▎                               | 10kB 27.4MB/s eta 0:00:01\r",
      "\u001b[K     |▌                               | 20kB 33.1MB/s eta 0:00:01\r",
      "\u001b[K     |▊                               | 30kB 19.9MB/s eta 0:00:01\r",
      "\u001b[K     |█                               | 40kB 23.6MB/s eta 0:00:01\r",
      "\u001b[K     |█▏                              | 51kB 22.4MB/s eta 0:00:01\r",
      "\u001b[K     |█▌                              | 61kB 25.0MB/s eta 0:00:01\r",
      "\u001b[K     |█▊                              | 71kB 17.0MB/s eta 0:00:01\r",
      "\u001b[K     |██                              | 81kB 18.0MB/s eta 0:00:01\r",
      "\u001b[K     |██▏                             | 92kB 16.7MB/s eta 0:00:01\r",
      "\u001b[K     |██▍                             | 102kB 16.9MB/s eta 0:00:01\r",
      "\u001b[K     |██▊                             | 112kB 16.9MB/s eta 0:00:01\r",
      "\u001b[K     |███                             | 122kB 16.9MB/s eta 0:00:01\r",
      "\u001b[K     |███▏                            | 133kB 16.9MB/s eta 0:00:01\r",
      "\u001b[K     |███▍                            | 143kB 16.9MB/s eta 0:00:01\r",
      "\u001b[K     |███▋                            | 153kB 16.9MB/s eta 0:00:01\r",
      "\u001b[K     |████                            | 163kB 16.9MB/s eta 0:00:01\r",
      "\u001b[K     |████▏                           | 174kB 16.9MB/s eta 0:00:01\r",
      "\u001b[K     |████▍                           | 184kB 16.9MB/s eta 0:00:01\r",
      "\u001b[K     |████▋                           | 194kB 16.9MB/s eta 0:00:01\r",
      "\u001b[K     |████▉                           | 204kB 16.9MB/s eta 0:00:01\r",
      "\u001b[K     |█████▏                          | 215kB 16.9MB/s eta 0:00:01\r",
      "\u001b[K     |█████▍                          | 225kB 16.9MB/s eta 0:00:01\r",
      "\u001b[K     |█████▋                          | 235kB 16.9MB/s eta 0:00:01\r",
      "\u001b[K     |█████▉                          | 245kB 16.9MB/s eta 0:00:01\r",
      "\u001b[K     |██████                          | 256kB 16.9MB/s eta 0:00:01\r",
      "\u001b[K     |██████▎                         | 266kB 16.9MB/s eta 0:00:01\r",
      "\u001b[K     |██████▋                         | 276kB 16.9MB/s eta 0:00:01\r",
      "\u001b[K     |██████▉                         | 286kB 16.9MB/s eta 0:00:01\r",
      "\u001b[K     |███████                         | 296kB 16.9MB/s eta 0:00:01\r",
      "\u001b[K     |███████▎                        | 307kB 16.9MB/s eta 0:00:01\r",
      "\u001b[K     |███████▌                        | 317kB 16.9MB/s eta 0:00:01\r",
      "\u001b[K     |███████▉                        | 327kB 16.9MB/s eta 0:00:01\r",
      "\u001b[K     |████████                        | 337kB 16.9MB/s eta 0:00:01\r",
      "\u001b[K     |████████▎                       | 348kB 16.9MB/s eta 0:00:01\r",
      "\u001b[K     |████████▌                       | 358kB 16.9MB/s eta 0:00:01\r",
      "\u001b[K     |████████▊                       | 368kB 16.9MB/s eta 0:00:01\r",
      "\u001b[K     |█████████                       | 378kB 16.9MB/s eta 0:00:01\r",
      "\u001b[K     |█████████▎                      | 389kB 16.9MB/s eta 0:00:01\r",
      "\u001b[K     |█████████▌                      | 399kB 16.9MB/s eta 0:00:01\r",
      "\u001b[K     |█████████▊                      | 409kB 16.9MB/s eta 0:00:01\r",
      "\u001b[K     |██████████                      | 419kB 16.9MB/s eta 0:00:01\r",
      "\u001b[K     |██████████▎                     | 430kB 16.9MB/s eta 0:00:01\r",
      "\u001b[K     |██████████▌                     | 440kB 16.9MB/s eta 0:00:01\r",
      "\u001b[K     |██████████▊                     | 450kB 16.9MB/s eta 0:00:01\r",
      "\u001b[K     |███████████                     | 460kB 16.9MB/s eta 0:00:01\r",
      "\u001b[K     |███████████▏                    | 471kB 16.9MB/s eta 0:00:01\r",
      "\u001b[K     |███████████▌                    | 481kB 16.9MB/s eta 0:00:01\r",
      "\u001b[K     |███████████▊                    | 491kB 16.9MB/s eta 0:00:01\r",
      "\u001b[K     |████████████                    | 501kB 16.9MB/s eta 0:00:01\r",
      "\u001b[K     |████████████▏                   | 512kB 16.9MB/s eta 0:00:01\r",
      "\u001b[K     |████████████▍                   | 522kB 16.9MB/s eta 0:00:01\r",
      "\u001b[K     |████████████▋                   | 532kB 16.9MB/s eta 0:00:01\r",
      "\u001b[K     |█████████████                   | 542kB 16.9MB/s eta 0:00:01\r",
      "\u001b[K     |█████████████▏                  | 552kB 16.9MB/s eta 0:00:01\r",
      "\u001b[K     |█████████████▍                  | 563kB 16.9MB/s eta 0:00:01\r",
      "\u001b[K     |█████████████▋                  | 573kB 16.9MB/s eta 0:00:01\r",
      "\u001b[K     |█████████████▉                  | 583kB 16.9MB/s eta 0:00:01\r",
      "\u001b[K     |██████████████▏                 | 593kB 16.9MB/s eta 0:00:01\r",
      "\u001b[K     |██████████████▍                 | 604kB 16.9MB/s eta 0:00:01\r",
      "\u001b[K     |██████████████▋                 | 614kB 16.9MB/s eta 0:00:01\r",
      "\u001b[K     |██████████████▉                 | 624kB 16.9MB/s eta 0:00:01\r",
      "\u001b[K     |███████████████                 | 634kB 16.9MB/s eta 0:00:01\r",
      "\u001b[K     |███████████████▍                | 645kB 16.9MB/s eta 0:00:01\r",
      "\u001b[K     |███████████████▋                | 655kB 16.9MB/s eta 0:00:01\r",
      "\u001b[K     |███████████████▉                | 665kB 16.9MB/s eta 0:00:01\r",
      "\u001b[K     |████████████████                | 675kB 16.9MB/s eta 0:00:01\r",
      "\u001b[K     |████████████████▎               | 686kB 16.9MB/s eta 0:00:01\r",
      "\u001b[K     |████████████████▋               | 696kB 16.9MB/s eta 0:00:01\r",
      "\u001b[K     |████████████████▉               | 706kB 16.9MB/s eta 0:00:01\r",
      "\u001b[K     |█████████████████               | 716kB 16.9MB/s eta 0:00:01\r",
      "\u001b[K     |█████████████████▎              | 727kB 16.9MB/s eta 0:00:01\r",
      "\u001b[K     |█████████████████▌              | 737kB 16.9MB/s eta 0:00:01\r",
      "\u001b[K     |█████████████████▊              | 747kB 16.9MB/s eta 0:00:01\r",
      "\u001b[K     |██████████████████              | 757kB 16.9MB/s eta 0:00:01\r",
      "\u001b[K     |██████████████████▎             | 768kB 16.9MB/s eta 0:00:01\r",
      "\u001b[K     |██████████████████▌             | 778kB 16.9MB/s eta 0:00:01\r",
      "\u001b[K     |██████████████████▊             | 788kB 16.9MB/s eta 0:00:01\r",
      "\u001b[K     |███████████████████             | 798kB 16.9MB/s eta 0:00:01\r",
      "\u001b[K     |███████████████████▎            | 808kB 16.9MB/s eta 0:00:01\r",
      "\u001b[K     |███████████████████▌            | 819kB 16.9MB/s eta 0:00:01\r",
      "\u001b[K     |███████████████████▊            | 829kB 16.9MB/s eta 0:00:01\r",
      "\u001b[K     |████████████████████            | 839kB 16.9MB/s eta 0:00:01\r",
      "\u001b[K     |████████████████████▏           | 849kB 16.9MB/s eta 0:00:01\r",
      "\u001b[K     |████████████████████▌           | 860kB 16.9MB/s eta 0:00:01\r",
      "\u001b[K     |████████████████████▊           | 870kB 16.9MB/s eta 0:00:01\r",
      "\u001b[K     |█████████████████████           | 880kB 16.9MB/s eta 0:00:01\r",
      "\u001b[K     |█████████████████████▏          | 890kB 16.9MB/s eta 0:00:01\r",
      "\u001b[K     |█████████████████████▍          | 901kB 16.9MB/s eta 0:00:01\r",
      "\u001b[K     |█████████████████████▊          | 911kB 16.9MB/s eta 0:00:01\r",
      "\u001b[K     |██████████████████████          | 921kB 16.9MB/s eta 0:00:01\r",
      "\u001b[K     |██████████████████████▏         | 931kB 16.9MB/s eta 0:00:01\r",
      "\u001b[K     |██████████████████████▍         | 942kB 16.9MB/s eta 0:00:01\r",
      "\u001b[K     |██████████████████████▋         | 952kB 16.9MB/s eta 0:00:01\r",
      "\u001b[K     |███████████████████████         | 962kB 16.9MB/s eta 0:00:01\r",
      "\u001b[K     |███████████████████████▏        | 972kB 16.9MB/s eta 0:00:01\r",
      "\u001b[K     |███████████████████████▍        | 983kB 16.9MB/s eta 0:00:01\r",
      "\u001b[K     |███████████████████████▋        | 993kB 16.9MB/s eta 0:00:01\r",
      "\u001b[K     |███████████████████████▉        | 1.0MB 16.9MB/s eta 0:00:01\r",
      "\u001b[K     |████████████████████████        | 1.0MB 16.9MB/s eta 0:00:01\r",
      "\u001b[K     |████████████████████████▍       | 1.0MB 16.9MB/s eta 0:00:01\r",
      "\u001b[K     |████████████████████████▋       | 1.0MB 16.9MB/s eta 0:00:01\r",
      "\u001b[K     |████████████████████████▉       | 1.0MB 16.9MB/s eta 0:00:01\r",
      "\u001b[K     |█████████████████████████       | 1.1MB 16.9MB/s eta 0:00:01\r",
      "\u001b[K     |█████████████████████████▎      | 1.1MB 16.9MB/s eta 0:00:01\r",
      "\u001b[K     |█████████████████████████▋      | 1.1MB 16.9MB/s eta 0:00:01\r",
      "\u001b[K     |█████████████████████████▉      | 1.1MB 16.9MB/s eta 0:00:01\r",
      "\u001b[K     |██████████████████████████      | 1.1MB 16.9MB/s eta 0:00:01\r",
      "\u001b[K     |██████████████████████████▎     | 1.1MB 16.9MB/s eta 0:00:01\r",
      "\u001b[K     |██████████████████████████▌     | 1.1MB 16.9MB/s eta 0:00:01\r",
      "\u001b[K     |██████████████████████████▉     | 1.1MB 16.9MB/s eta 0:00:01\r",
      "\u001b[K     |███████████████████████████     | 1.1MB 16.9MB/s eta 0:00:01\r",
      "\u001b[K     |███████████████████████████▎    | 1.1MB 16.9MB/s eta 0:00:01\r",
      "\u001b[K     |███████████████████████████▌    | 1.2MB 16.9MB/s eta 0:00:01\r",
      "\u001b[K     |███████████████████████████▊    | 1.2MB 16.9MB/s eta 0:00:01\r",
      "\u001b[K     |████████████████████████████    | 1.2MB 16.9MB/s eta 0:00:01\r",
      "\u001b[K     |████████████████████████████▎   | 1.2MB 16.9MB/s eta 0:00:01\r",
      "\u001b[K     |████████████████████████████▌   | 1.2MB 16.9MB/s eta 0:00:01\r",
      "\u001b[K     |████████████████████████████▊   | 1.2MB 16.9MB/s eta 0:00:01\r",
      "\u001b[K     |█████████████████████████████   | 1.2MB 16.9MB/s eta 0:00:01\r",
      "\u001b[K     |█████████████████████████████▏  | 1.2MB 16.9MB/s eta 0:00:01\r",
      "\u001b[K     |█████████████████████████████▌  | 1.2MB 16.9MB/s eta 0:00:01\r",
      "\u001b[K     |█████████████████████████████▊  | 1.2MB 16.9MB/s eta 0:00:01\r",
      "\u001b[K     |██████████████████████████████  | 1.3MB 16.9MB/s eta 0:00:01\r",
      "\u001b[K     |██████████████████████████████▏ | 1.3MB 16.9MB/s eta 0:00:01\r",
      "\u001b[K     |██████████████████████████████▍ | 1.3MB 16.9MB/s eta 0:00:01\r",
      "\u001b[K     |██████████████████████████████▊ | 1.3MB 16.9MB/s eta 0:00:01\r",
      "\u001b[K     |███████████████████████████████ | 1.3MB 16.9MB/s eta 0:00:01\r",
      "\u001b[K     |███████████████████████████████▏| 1.3MB 16.9MB/s eta 0:00:01\r",
      "\u001b[K     |███████████████████████████████▍| 1.3MB 16.9MB/s eta 0:00:01\r",
      "\u001b[K     |███████████████████████████████▋| 1.3MB 16.9MB/s eta 0:00:01\r",
      "\u001b[K     |████████████████████████████████| 1.3MB 16.9MB/s eta 0:00:01\r",
      "\u001b[K     |████████████████████████████████| 1.4MB 16.9MB/s \n",
      "\u001b[?25hInstalling collected packages: mlxtend\n",
      "  Found existing installation: mlxtend 0.14.0\n",
      "    Uninstalling mlxtend-0.14.0:\n",
      "      Successfully uninstalled mlxtend-0.14.0\n",
      "Successfully installed mlxtend-0.18.0\n"
     ]
    }
   ],
   "source": [
    "# Make a model\n",
    "#import mlxtend\n",
    "\n",
    "!pip install mlxtend --upgrade --no-deps\n",
    "\n",
    "\n",
    "#from mlxtend.evaluate import bias_variance_decomp\n",
    "#from mlxtend.evaluate import bias_variance_decomp"
   ]
  },
  {
   "cell_type": "code",
   "execution_count": 51,
   "metadata": {
    "colab": {
     "base_uri": "https://localhost:8080/"
    },
    "id": "UqSjcm_kzRXv",
    "outputId": "8e78165f-8d70-4d44-ec4c-de0c4ad55997"
   },
   "outputs": [
    {
     "name": "stdout",
     "output_type": "stream",
     "text": [
      " Average MSE: 0.482233\n",
      " Average Bias: 0.2933\n",
      " Average Variance: 0.1890\n"
     ]
    }
   ],
   "source": [
    "# Gauge the bias and varianc\n",
    "import mlxtend\n",
    "from mlxtend.evaluate import bias_variance_decomp\n",
    "mse_SVM, bias_SVM, var_SVM = bias_variance_decomp(best_SVM, df_books_train_tfidf, \n",
    "                                                  df_books_labels_train.values,\n",
    "                                                  df_books_test_tfidf, df_books_labels_test.values, \n",
    "                                                  loss='mse')\n",
    "print(' Average MSE: {:4f}\\n Average Bias: {:.4f}\\n Average Variance: {:.4f}'.\n",
    "      format(mse_SVM,bias_SVM,var_SVM))"
   ]
  },
  {
   "cell_type": "code",
   "execution_count": 52,
   "metadata": {
    "colab": {
     "base_uri": "https://localhost:8080/",
     "height": 358
    },
    "id": "jVrczX4Kzb17",
    "outputId": "839d1981-3e98-4b2a-abae-2ef6e64d2a70"
   },
   "outputs": [
    {
     "data": {
      "image/png": "[encoded data removed]",
      "text/plain": [
       "<Figure size 1008x360 with 2 Axes>"
      ]
     },
     "metadata": {
      "needs_background": "light",
      "tags": []
     },
     "output_type": "display_data"
    }
   ],
   "source": [
    "# Confusion matrix\n",
    "SVM_df = df_books[['authors_labels', 'labels_encoder']].drop_duplicates().sort_values('labels_encoder')\n",
    "font = {'family': 'serif','color':  'darkred','weight': 'bold','size': 14}\n",
    "SVM_conf_matrix = confusion_matrix(df_books_labels_test, best_SVM_pred)\n",
    "plt.figure(figsize=(14,5))\n",
    "sns.heatmap(SVM_conf_matrix, \n",
    "            annot=True,\n",
    "            xticklabels=SVM_df['authors_labels'].values, \n",
    "            yticklabels=SVM_df['authors_labels'].values,\n",
    "            cmap=\"Greens\")\n",
    "plt.ylabel('Predicted',fontdict=font)\n",
    "plt.xlabel('Actual',fontdict=font)\n",
    "plt.title('Confusion Matrix SVM',fontdict=font)\n",
    "plt.xticks(fontsize=12);plt.yticks(fontsize=12)\n",
    "plt.show()"
   ]
  },
  {
   "cell_type": "code",
   "execution_count": 53,
   "metadata": {
    "colab": {
     "base_uri": "https://localhost:8080/",
     "height": 79
    },
    "id": "o1-VzE7K6Irn",
    "outputId": "b17eecee-5151-4741-cfbd-04300a6bac6b"
   },
   "outputs": [
    {
     "data": {
      "text/html": [
       "<div>\n",
       "<style scoped>\n",
       "    .dataframe tbody tr th:only-of-type {\n",
       "        vertical-align: middle;\n",
       "    }\n",
       "\n",
       "    .dataframe tbody tr th {\n",
       "        vertical-align: top;\n",
       "    }\n",
       "\n",
       "    .dataframe thead th {\n",
       "        text-align: right;\n",
       "    }\n",
       "</style>\n",
       "<table border=\"1\" class=\"dataframe\">\n",
       "  <thead>\n",
       "    <tr style=\"text-align: right;\">\n",
       "      <th></th>\n",
       "      <th>Model</th>\n",
       "      <th>Training Accuracy</th>\n",
       "      <th>Test Accuracy</th>\n",
       "      <th>Precision</th>\n",
       "      <th>Recall</th>\n",
       "      <th>Fscore</th>\n",
       "      <th>MSE</th>\n",
       "      <th>Bias</th>\n",
       "      <th>Var</th>\n",
       "    </tr>\n",
       "  </thead>\n",
       "  <tbody>\n",
       "    <tr>\n",
       "      <th>0</th>\n",
       "      <td>SVM</td>\n",
       "      <td>0.957647</td>\n",
       "      <td>0.893333</td>\n",
       "      <td>0.890076</td>\n",
       "      <td>0.890429</td>\n",
       "      <td>0.889438</td>\n",
       "      <td>0.482233</td>\n",
       "      <td>0.293263</td>\n",
       "      <td>0.188971</td>\n",
       "    </tr>\n",
       "  </tbody>\n",
       "</table>\n",
       "</div>"
      ],
      "text/plain": [
       "  Model  Training Accuracy  Test Accuracy  ...       MSE      Bias       Var\n",
       "0   SVM           0.957647       0.893333  ...  0.482233  0.293263  0.188971\n",
       "\n",
       "[1 rows x 9 columns]"
      ]
     },
     "execution_count": 53,
     "metadata": {
      "tags": []
     },
     "output_type": "execute_result"
    }
   ],
   "source": [
    "# We'll create a dataset with a model summary to compare models later on:\n",
    "from sklearn.metrics import precision_recall_fscore_support as score\n",
    "precision_SVM,recall_SVM,fscore_SVM,support_SVM=score(df_books_labels_test,best_SVM_pred,average='macro')\n",
    "SVM_model = {'Model': 'SVM', 'Training Accuracy': \n",
    "            accuracy_score(df_books_labels_train, best_SVM.predict(df_books_train_tfidf)),\n",
    "            'Test Accuracy': accuracy_score(df_books_labels_test, best_SVM_pred),\n",
    "             'Precision':precision_SVM,'Recall':recall_SVM,'Fscore':fscore_SVM,\n",
    "             'MSE':mse_SVM,'Bias':bias_SVM,'Var':var_SVM}\n",
    "SVM_model_df = pd.DataFrame(SVM_model, index=[0])\n",
    "SVM_model_df"
   ]
  },
  {
   "cell_type": "code",
   "execution_count": null,
   "metadata": {
    "colab": {
     "base_uri": "https://localhost:8080/",
     "height": 79
    },
    "id": "2k-CXkoxXDXj",
    "outputId": "946a9e01-a4bc-4400-92ff-ede4dda7c668"
   },
   "outputs": [
    {
     "data": {
      "text/html": [
       "<div>\n",
       "<style scoped>\n",
       "    .dataframe tbody tr th:only-of-type {\n",
       "        vertical-align: middle;\n",
       "    }\n",
       "\n",
       "    .dataframe tbody tr th {\n",
       "        vertical-align: top;\n",
       "    }\n",
       "\n",
       "    .dataframe thead th {\n",
       "        text-align: right;\n",
       "    }\n",
       "</style>\n",
       "<table border=\"1\" class=\"dataframe\">\n",
       "  <thead>\n",
       "    <tr style=\"text-align: right;\">\n",
       "      <th></th>\n",
       "      <th>Model</th>\n",
       "      <th>Training Accuracy</th>\n",
       "      <th>Test Accuracy</th>\n",
       "      <th>Precision</th>\n",
       "      <th>Recall</th>\n",
       "      <th>Fscore</th>\n",
       "    </tr>\n",
       "  </thead>\n",
       "  <tbody>\n",
       "    <tr>\n",
       "      <th>0</th>\n",
       "      <td>SVM-BOW</td>\n",
       "      <td>1.0</td>\n",
       "      <td>0.933333</td>\n",
       "      <td>0.932301</td>\n",
       "      <td>0.933452</td>\n",
       "      <td>0.932141</td>\n",
       "    </tr>\n",
       "  </tbody>\n",
       "</table>\n",
       "</div>"
      ],
      "text/plain": [
       "     Model  Training Accuracy  Test Accuracy  Precision    Recall    Fscore\n",
       "0  SVM-BOW                1.0       0.933333   0.932301  0.933452  0.932141"
      ]
     },
     "execution_count": 212,
     "metadata": {
      "tags": []
     },
     "output_type": "execute_result"
    }
   ],
   "source": [
    "# TRY BOW INSTEAD OF TF-IDF\n",
    "#df_books_train_BOW, df_books_test_BOW, df_books_labels_train_BOW, df_books_labels_test_BOW\n",
    "# We'll create a dataset with a model summary to compare models later on:\n",
    "from sklearn.metrics import precision_recall_fscore_support as score\n",
    "best_SVM_BOW.fit(df_books_train_BOW, df_books_labels_train_BOW) # fit the DT model to the training data\n",
    "best_SVM_pred_BOW = best_SVM_BOW.predict(df_books_test_BOW)   # let the model predict the test data\n",
    "precision_SVM1,recall_SVM1,fscore_SVM1,support_SVM1=score(df_books_labels_test_BOW,best_SVM_pred_BOW,average='macro')\n",
    "SVM_model_BOW = {'Model': 'SVM-BOW', 'Training Accuracy': \n",
    "            accuracy_score(df_books_labels_train_BOW, best_SVM_BOW.predict(df_books_train_BOW)),\n",
    "            'Test Accuracy': accuracy_score(df_books_labels_test_BOW, best_SVM_pred_BOW),\n",
    "             'Precision':precision_SVM1,'Recall':recall_SVM1,'Fscore':fscore_SVM1}\n",
    "SVM_model_df_BOW = pd.DataFrame(SVM_model_BOW, index=[0])\n",
    "SVM_model_df_BOW"
   ]
  },
  {
   "cell_type": "code",
   "execution_count": null,
   "metadata": {
    "colab": {
     "base_uri": "https://localhost:8080/"
    },
    "id": "cT9G9yzqbizt",
    "outputId": "b0a10b2c-b1f2-43d3-f839-83d4a8b9a46a"
   },
   "outputs": [
    {
     "name": "stdout",
     "output_type": "stream",
     "text": [
      "The accuracy score of SVM_base_model: 0.8933333333333333\n"
     ]
    }
   ],
   "source": [
    "# TRY BOW INSTEAD OF TF-IDF\n",
    "# Check the accuracy of the SVM base model:\n",
    "from sklearn import svm\n",
    "SVM_base_model1 = svm.SVC()\n",
    "SVM_base_model1.fit(df_books_train_BOW, df_books_labels_train_BOW)\n",
    "SVM_base_model1_accur=accuracy_score(df_books_labels_test_BOW, SVM_base_model1.predict(df_books_test_BOW))\n",
    "print('The accuracy score of SVM_base_model:',SVM_base_model1_accur)"
   ]
  },
  {
   "cell_type": "code",
   "execution_count": null,
   "metadata": {
    "colab": {
     "base_uri": "https://localhost:8080/"
    },
    "id": "WjNledaTcWZK",
    "outputId": "cdf57485-d6ff-4f38-c83c-0c5d7f519442"
   },
   "outputs": [
    {
     "name": "stdout",
     "output_type": "stream",
     "text": [
      "By using 10-fold cross-validation for SVM model:\n",
      " [0.72156863 0.7254902  0.7372549  0.69803922 0.74509804 0.69019608\n",
      " 0.69411765 0.71372549 0.76078431 0.74901961]\n",
      "\n",
      " mean: 0.89\n",
      " std: 0.0212\n"
     ]
    }
   ],
   "source": [
    "# TRY BOW INSTEAD OF TF-IDF\n",
    "from sklearn import svm\n",
    "from sklearn.model_selection import  cross_val_score\n",
    "from sklearn.model_selection import ShuffleSplit\n",
    "cv = ShuffleSplit(n_splits=10, test_size=0.3, random_state=0)\n",
    "SVM_cross1 = svm.SVC()\n",
    "SVM_cross1.fit(df_books_train_BOW, df_books_labels_train_BOW)\n",
    "scores1 = cross_val_score(SVM_cross1, df_books_train_BOW, df_books_labels_train_BOW, cv=cv)\n",
    "print(\"By using 10-fold cross-validation for SVM model:\\n\",np.array(scores))\n",
    "print(\"\\n\",\"mean: {:.2f}\\n std: {:.4f}\".format(scores1.mean(),scores1.std()))"
   ]
  },
  {
   "cell_type": "code",
   "execution_count": null,
   "metadata": {
    "id": "GK19bogPCvZB"
   },
   "outputs": [],
   "source": [
    "# We can see that in all cases the category is not 100% clear, since these articles contain concepts of\n",
    "# both categories. These errors will always happen and we are not looking forward to be 100% accurate on them."
   ]
  },
  {
   "cell_type": "markdown",
   "metadata": {
    "id": "OQGV9SmgTlVq"
   },
   "source": [
    "## 3.2 **KNN** Model"
   ]
  },
  {
   "cell_type": "code",
   "execution_count": null,
   "metadata": {
    "colab": {
     "base_uri": "https://localhost:8080/"
    },
    "id": "Li90cItr_CxT",
    "outputId": "ffc5253f-3d65-4a97-9e22-9dd8bca84500"
   },
   "outputs": [
    {
     "name": "stdout",
     "output_type": "stream",
     "text": [
      "Check the parameters of KNN:\n",
      " {'algorithm': 'auto', 'leaf_size': 30, 'metric': 'minkowski', 'metric_params': None, 'n_jobs': None, 'n_neighbors': 5, 'p': 2, 'weights': 'uniform'}\n"
     ]
    }
   ],
   "source": [
    "# First, we can see what parameters the model has:\n",
    "from sklearn.neighbors import KNeighborsClassifier\n",
    "KNN=KNeighborsClassifier()\n",
    "print('Check the parameters of KNN:\\n',KNN.get_params())"
   ]
  },
  {
   "cell_type": "code",
   "execution_count": null,
   "metadata": {
    "colab": {
     "base_uri": "https://localhost:8080/"
    },
    "id": "FybQlEEWjSOB",
    "outputId": "64b6542d-1db0-4011-ca68-c0b716edb54e"
   },
   "outputs": [
    {
     "name": "stdout",
     "output_type": "stream",
     "text": [
      "The accuracy score of KNN_base_model: 0.8333333333333334\n"
     ]
    }
   ],
   "source": [
    "# Check the accuracy of the KNN base model:\n",
    "KNN_base_model = KNeighborsClassifier()\n",
    "KNN_base_model.fit(df_books_train_tfidf, df_books_labels_train)\n",
    "KNN_base_model_accur=accuracy_score(df_books_labels_test, KNN_base_model.predict(df_books_test_tfidf))\n",
    "print('The accuracy score of KNN_base_model:',KNN_base_model_accur)"
   ]
  },
  {
   "cell_type": "markdown",
   "metadata": {
    "id": "-oF5HETF391J"
   },
   "source": [
    "### 3.2.1 KNN Cross-Validation"
   ]
  },
  {
   "cell_type": "code",
   "execution_count": null,
   "metadata": {
    "colab": {
     "base_uri": "https://localhost:8080/"
    },
    "id": "3YvmesK7lfby",
    "outputId": "fa3d49f3-4581-459f-cf69-32fd89480496"
   },
   "outputs": [
    {
     "name": "stdout",
     "output_type": "stream",
     "text": [
      "By sing 10-fold cross-validation for KNN model:\n",
      " mean: 0.83\n",
      " std: 0.0303\n"
     ]
    }
   ],
   "source": [
    "# KNN model with 10-fold cross-validation\n",
    "from sklearn.model_selection import  cross_val_score\n",
    "cv = ShuffleSplit(n_splits=10, test_size=0.3, random_state=0)\n",
    "KNN_cross = KNeighborsClassifier()\n",
    "KNN_cross.fit(df_books_train_tfidf, df_books_labels_train)\n",
    "scores = cross_val_score(KNN_cross, df_books_train_tfidf, df_books_labels_train, cv=cv)\n",
    "print(\"By sing 10-fold cross-validation for KNN model:\\n\",\"mean: {:.2f}\\n std: {:.4f}\".format(scores.mean(),scores.std()))\n",
    "# Okay, 0.720 is not too bad. That means that the average accuracy (percentage of correct classifications using the\n",
    "# trained model) is 72%. That accuracy is  high, but let’s if see if better parameters can be found using grid search:"
   ]
  },
  {
   "cell_type": "markdown",
   "metadata": {
    "id": "KML3vLAx5E-f"
   },
   "source": [
    "### 3.2.2 Grid Search Cross Validation\n",
    "Use grid search to check if we can tune the number of neighbors (k)."
   ]
  },
  {
   "cell_type": "code",
   "execution_count": null,
   "metadata": {
    "colab": {
     "base_uri": "https://localhost:8080/"
    },
    "id": "HkEgOhtT_hRH",
    "outputId": "0f3acfd1-b877-48fb-a44c-b259357ac5b1"
   },
   "outputs": [
    {
     "name": "stdout",
     "output_type": "stream",
     "text": [
      "Fitting 10 folds for each of 100 candidates, totalling 1000 fits\n"
     ]
    },
    {
     "name": "stderr",
     "output_type": "stream",
     "text": [
      "[Parallel(n_jobs=1)]: Using backend SequentialBackend with 1 concurrent workers.\n",
      "[Parallel(n_jobs=1)]: Done 1000 out of 1000 | elapsed:  4.0min finished\n"
     ]
    },
    {
     "data": {
      "text/plain": [
       "GridSearchCV(cv=ShuffleSplit(n_splits=10, random_state=0, test_size=0.3, train_size=None),\n",
       "             error_score=nan,\n",
       "             estimator=KNeighborsClassifier(algorithm='auto', leaf_size=30,\n",
       "                                            metric='minkowski',\n",
       "                                            metric_params=None, n_jobs=None,\n",
       "                                            n_neighbors=5, p=2,\n",
       "                                            weights='uniform'),\n",
       "             iid='deprecated', n_jobs=None,\n",
       "             param_grid={'n_neighbors': [1, 2, 3, 4, 5, 6, 7, 8, 9, 10, 11, 12,\n",
       "                                         13, 14, 15, 16, 17, 18, 19, 20, 21, 22,\n",
       "                                         23, 24, 25, 26, 27, 28, 29, 30, ...]},\n",
       "             pre_dispatch='2*n_jobs', refit=True, return_train_score=False,\n",
       "             scoring='accuracy', verbose=1)"
      ]
     },
     "execution_count": 61,
     "metadata": {
      "tags": []
     },
     "output_type": "execute_result"
    }
   ],
   "source": [
    "# Creating a parameter grid for number of neighbors (k)\n",
    "param_grid = {'n_neighbors': [int(x) for x in np.linspace(start = 1, stop = 100, num = 100)]}\n",
    "KNN_model = KNeighborsClassifier() # Create a base model\n",
    "cv = ShuffleSplit(n_splits=10, test_size=0.3, random_state=0)\n",
    "KNN_grid_search = GridSearchCV(KNN_model, param_grid=param_grid, scoring='accuracy',cv=cv, verbose=1)\n",
    "# Fit the grid search to the train data\n",
    "KNN_grid_search.fit(df_books_train_tfidf, df_books_labels_train)"
   ]
  },
  {
   "cell_type": "code",
   "execution_count": null,
   "metadata": {
    "colab": {
     "base_uri": "https://localhost:8080/"
    },
    "id": "5NBeqp7VAUzA",
    "outputId": "3beb5c43-476d-49ee-e6de-1de592d5a6b8"
   },
   "outputs": [
    {
     "name": "stdout",
     "output_type": "stream",
     "text": [
      "The best parameters for KNN model from Grid Search:\n",
      " {'n_neighbors': 93} \n",
      "\n",
      "The mean accuracy of KNN model: 0.887843137254902\n"
     ]
    }
   ],
   "source": [
    "# The best obtained parameter from grid search:\n",
    "print(\"The best parameters for KNN model from Grid Search:\\n\",KNN_grid_search.best_params_,'\\n')\n",
    "print(\"The mean accuracy of KNN model:\",KNN_grid_search.best_score_)"
   ]
  },
  {
   "cell_type": "code",
   "execution_count": null,
   "metadata": {
    "colab": {
     "base_uri": "https://localhost:8080/"
    },
    "id": "vfX-6KAyA8BX",
    "outputId": "2c8ace31-9a23-487d-9e6e-5c2592aeed77"
   },
   "outputs": [
    {
     "data": {
      "text/plain": [
       "KNeighborsClassifier(algorithm='auto', leaf_size=30, metric='minkowski',\n",
       "                     metric_params=None, n_jobs=None, n_neighbors=93, p=2,\n",
       "                     weights='uniform')"
      ]
     },
     "execution_count": 63,
     "metadata": {
      "tags": []
     },
     "output_type": "execute_result"
    }
   ],
   "source": [
    "# so far, we got the best tuned parameter for KNN model.\n",
    "# store it as best_KNN:\n",
    "best_KNN = KNN_grid_search.best_estimator_\n",
    "best_KNN\n",
    "#best_KNN_BOW=KNN_grid_search.best_estimator_"
   ]
  },
  {
   "cell_type": "markdown",
   "metadata": {
    "id": "t12Z5DmO86PE"
   },
   "source": [
    "### 3.2.3 KNN Model Performance\n",
    "The confusion matrix, classification report, and accuracy are used to analyze the model performance on both training and test data.\n"
   ]
  },
  {
   "cell_type": "code",
   "execution_count": null,
   "metadata": {
    "colab": {
     "base_uri": "https://localhost:8080/"
    },
    "id": "7kkISPoC9SfO",
    "outputId": "64176e0a-ada2-48f7-b256-48cbffb4895f"
   },
   "outputs": [
    {
     "name": "stdout",
     "output_type": "stream",
     "text": [
      "The accuracy score of SVM_base_model: 0.8333333333333334\n",
      "\n",
      "The accuracy score of best_SVM model: 0.8666666666666667\n",
      "\n",
      "Training accuracy of KNN model:  0.9035294117647059\n",
      "\n",
      "Test accuracy of KNN model:  0.8666666666666667\n",
      "\n",
      "Classification report of KNN model:\n",
      "               precision    recall  f1-score   support\n",
      "\n",
      "           0       0.87      0.80      0.83        25\n",
      "           1       0.93      0.97      0.95        40\n",
      "           2       0.83      0.90      0.86        21\n",
      "           3       0.83      0.94      0.88        32\n",
      "           4       0.85      0.69      0.76        32\n",
      "\n",
      "    accuracy                           0.87       150\n",
      "   macro avg       0.86      0.86      0.86       150\n",
      "weighted avg       0.87      0.87      0.86       150\n",
      "\n"
     ]
    }
   ],
   "source": [
    "# compare the model after parameters tuning to its base model to check if we got a better model\n",
    "best_KNN_accur=accuracy_score(df_books_labels_test, best_KNN.predict(df_books_test_tfidf))\n",
    "print('The accuracy score of SVM_base_model:',KNN_base_model_accur)\n",
    "print('\\nThe accuracy score of best_SVM model:',best_KNN_accur)\n",
    "\n",
    "best_KNN.fit(df_books_train_tfidf, df_books_labels_train) # fit the DT model to the training data\n",
    "best_KNN_pred = best_KNN.predict(df_books_test_tfidf)   # let the model predict the test data\n",
    "# Training accuracy\n",
    "print(\"\\nTraining accuracy of KNN model: \",accuracy_score(df_books_labels_train, best_KNN.predict(df_books_train_tfidf)))\n",
    "# Test accuracy\n",
    "print(\"\\nTest accuracy of KNN model: \",accuracy_score(df_books_labels_test, best_KNN_pred))\n",
    "# Classification report\n",
    "print(\"\\nClassification report of KNN model:\\n\", classification_report(df_books_labels_test,best_KNN_pred))"
   ]
  },
  {
   "cell_type": "code",
   "execution_count": null,
   "metadata": {
    "colab": {
     "base_uri": "https://localhost:8080/"
    },
    "id": "Xr0oI2aGbcIQ",
    "outputId": "f21b5d9f-e837-411e-df69-72fb32438adb"
   },
   "outputs": [
    {
     "name": "stdout",
     "output_type": "stream",
     "text": [
      " Average MSE: 0.656200\n",
      " Average Bias: 0.4306\n",
      " Average Variance: 0.2256\n"
     ]
    }
   ],
   "source": [
    "mse_KNN, bias_KNN, var_KNN = bias_variance_decomp(best_KNN, df_books_train_tfidf, \n",
    "                                                  df_books_labels_train.values,\n",
    "                                                  df_books_test_tfidf, df_books_labels_test.values, \n",
    "                                                  loss='mse')\n",
    "print(' Average MSE: {:4f}\\n Average Bias: {:.4f}\\n Average Variance: {:.4f}'.\n",
    "      format(mse_KNN,bias_KNN,var_KNN))"
   ]
  },
  {
   "cell_type": "code",
   "execution_count": null,
   "metadata": {
    "colab": {
     "base_uri": "https://localhost:8080/",
     "height": 358
    },
    "id": "CVL_9dLpI8Tb",
    "outputId": "0e43297a-6b76-4954-e7d8-34f9734718b1"
   },
   "outputs": [
    {
     "data": {
      "image/png": "[encoded data removed]",
      "text/plain": [
       "<Figure size 1008x360 with 2 Axes>"
      ]
     },
     "metadata": {
      "needs_background": "light",
      "tags": []
     },
     "output_type": "display_data"
    }
   ],
   "source": [
    "#confusion matrix\n",
    "KNN_df = df_books[['authors_labels', 'labels_encoder']].drop_duplicates().sort_values('labels_encoder')\n",
    "font = {'family': 'serif','color':  'darkred','weight': 'bold','size': 14}\n",
    "KNN_conf_matrix = confusion_matrix(df_books_labels_test, best_KNN_pred)\n",
    "plt.figure(figsize=(14,5))\n",
    "sns.heatmap(KNN_conf_matrix, \n",
    "            annot=True,\n",
    "            xticklabels=KNN_df['authors_labels'].values, \n",
    "            yticklabels=KNN_df['authors_labels'].values,\n",
    "            cmap=\"Greens\")\n",
    "plt.ylabel('Predicted',fontdict=font)\n",
    "plt.xlabel('Actual',fontdict=font)\n",
    "plt.title('Confusion Matrix - KNN',fontdict=font)\n",
    "plt.xticks(fontsize=12);plt.yticks(fontsize=12)\n",
    "plt.show()"
   ]
  },
  {
   "cell_type": "code",
   "execution_count": null,
   "metadata": {
    "id": "aiSmvv-fLKxC"
   },
   "outputs": [],
   "source": [
    " #cmap=\"YlGnBu\",\"Blues\",\"BuPu\",\"Greens\""
   ]
  },
  {
   "cell_type": "code",
   "execution_count": null,
   "metadata": {
    "id": "6lsFMJc_SrL0"
   },
   "outputs": [],
   "source": [
    "#We can see that the default model (with 5 Nearest Neighbors) performs better. However, \n",
    "#in our Grid Search Cross Validation process we tried with that number of neighbors. \n",
    "#The reason why we may be getting this result is because de Grid Search performs a Cross Validation scheme, \n",
    "# while this last comparison uses all training data."
   ]
  },
  {
   "cell_type": "code",
   "execution_count": null,
   "metadata": {
    "colab": {
     "base_uri": "https://localhost:8080/",
     "height": 79
    },
    "id": "TT1lkpxZS7Zq",
    "outputId": "d7ef89ad-b116-4485-e3c1-ba32d3831271"
   },
   "outputs": [
    {
     "data": {
      "text/html": [
       "<div>\n",
       "<style scoped>\n",
       "    .dataframe tbody tr th:only-of-type {\n",
       "        vertical-align: middle;\n",
       "    }\n",
       "\n",
       "    .dataframe tbody tr th {\n",
       "        vertical-align: top;\n",
       "    }\n",
       "\n",
       "    .dataframe thead th {\n",
       "        text-align: right;\n",
       "    }\n",
       "</style>\n",
       "<table border=\"1\" class=\"dataframe\">\n",
       "  <thead>\n",
       "    <tr style=\"text-align: right;\">\n",
       "      <th></th>\n",
       "      <th>Model</th>\n",
       "      <th>Training Accuracy</th>\n",
       "      <th>Test Accuracy</th>\n",
       "      <th>Precision</th>\n",
       "      <th>Recall</th>\n",
       "      <th>Fscore</th>\n",
       "      <th>MSE</th>\n",
       "      <th>Bias</th>\n",
       "      <th>Var</th>\n",
       "    </tr>\n",
       "  </thead>\n",
       "  <tbody>\n",
       "    <tr>\n",
       "      <th>0</th>\n",
       "      <td>KNN</td>\n",
       "      <td>0.863529</td>\n",
       "      <td>0.866667</td>\n",
       "      <td>0.860742</td>\n",
       "      <td>0.860952</td>\n",
       "      <td>0.857833</td>\n",
       "      <td>0.6562</td>\n",
       "      <td>0.430624</td>\n",
       "      <td>0.225576</td>\n",
       "    </tr>\n",
       "  </tbody>\n",
       "</table>\n",
       "</div>"
      ],
      "text/plain": [
       "  Model  Training Accuracy  Test Accuracy  ...     MSE      Bias       Var\n",
       "0   KNN           0.863529       0.866667  ...  0.6562  0.430624  0.225576\n",
       "\n",
       "[1 rows x 9 columns]"
      ]
     },
     "execution_count": 68,
     "metadata": {
      "tags": []
     },
     "output_type": "execute_result"
    }
   ],
   "source": [
    "from sklearn.metrics import precision_recall_fscore_support as score\n",
    "precision_KNN,recall_KNN,fscore_KNN,support_KNN=score(df_books_labels_test,best_KNN_pred,average='macro')\n",
    "KNN_model = {'Model': 'KNN', 'Training Accuracy': \n",
    "            accuracy_score(df_books_labels_train, best_KNN.predict(df_books_train_tfidf)),\n",
    "            'Test Accuracy': accuracy_score(df_books_labels_test, best_KNN_pred),\n",
    "             'Precision':precision_KNN,'Recall':recall_KNN,'Fscore':fscore_KNN,\n",
    "             'MSE':mse_KNN,'Bias':bias_KNN,'Var':var_KNN}\n",
    "KNN_model_df = pd.DataFrame(KNN_model, index=[0])\n",
    "KNN_model_df"
   ]
  },
  {
   "cell_type": "code",
   "execution_count": null,
   "metadata": {
    "colab": {
     "base_uri": "https://localhost:8080/"
    },
    "id": "BuP9R5ypeu4W",
    "outputId": "95ff1e3f-1512-482c-d0a2-41494b30f51d"
   },
   "outputs": [
    {
     "name": "stdout",
     "output_type": "stream",
     "text": [
      "By sing 10-fold cross-validation for KNN model:\n",
      " mean: 0.50\n",
      " std: 0.0350\n"
     ]
    }
   ],
   "source": [
    "# KNN model with 10-fold cross-validation\n",
    "from sklearn.model_selection import  cross_val_score\n",
    "cv = ShuffleSplit(n_splits=10, test_size=0.3, random_state=0)\n",
    "KNN_cross1 = KNeighborsClassifier()\n",
    "KNN_cross1.fit(df_books_train_BOW, df_books_labels_train_BOW)\n",
    "scores1 = cross_val_score(KNN_cross1, df_books_train_BOW, df_books_labels_train_BOW, cv=cv)\n",
    "print(\"By sing 10-fold cross-validation for KNN model:\\n\",\"mean: {:.2f}\\n std: {:.4f}\".format(scores1.mean(),scores1.std()))\n",
    "# Okay, 0.720 is not too bad. That means that the average accuracy (percentage of correct classifications using the\n",
    "# trained model) is 72%. That accuracy is  high, but let’s if see if better parameters can be found using grid search:"
   ]
  },
  {
   "cell_type": "code",
   "execution_count": null,
   "metadata": {
    "colab": {
     "base_uri": "https://localhost:8080/",
     "height": 134
    },
    "id": "WLcT3-ccdSr3",
    "outputId": "f8737295-676e-443b-9625-b5a140377168"
   },
   "outputs": [
    {
     "name": "stderr",
     "output_type": "stream",
     "text": [
      "/usr/local/lib/python3.6/dist-packages/sklearn/metrics/_classification.py:1272: UndefinedMetricWarning: Precision and F-score are ill-defined and being set to 0.0 in labels with no predicted samples. Use `zero_division` parameter to control this behavior.\n",
      "  _warn_prf(average, modifier, msg_start, len(result))\n"
     ]
    },
    {
     "data": {
      "text/html": [
       "<div>\n",
       "<style scoped>\n",
       "    .dataframe tbody tr th:only-of-type {\n",
       "        vertical-align: middle;\n",
       "    }\n",
       "\n",
       "    .dataframe tbody tr th {\n",
       "        vertical-align: top;\n",
       "    }\n",
       "\n",
       "    .dataframe thead th {\n",
       "        text-align: right;\n",
       "    }\n",
       "</style>\n",
       "<table border=\"1\" class=\"dataframe\">\n",
       "  <thead>\n",
       "    <tr style=\"text-align: right;\">\n",
       "      <th></th>\n",
       "      <th>Model</th>\n",
       "      <th>Training Accuracy</th>\n",
       "      <th>Test Accuracy</th>\n",
       "      <th>Precision</th>\n",
       "      <th>Recall</th>\n",
       "      <th>Fscore</th>\n",
       "    </tr>\n",
       "  </thead>\n",
       "  <tbody>\n",
       "    <tr>\n",
       "      <th>0</th>\n",
       "      <td>KNN-BOW</td>\n",
       "      <td>0.397647</td>\n",
       "      <td>0.433333</td>\n",
       "      <td>0.562899</td>\n",
       "      <td>0.410381</td>\n",
       "      <td>0.337023</td>\n",
       "    </tr>\n",
       "  </tbody>\n",
       "</table>\n",
       "</div>"
      ],
      "text/plain": [
       "     Model  Training Accuracy  Test Accuracy  Precision    Recall    Fscore\n",
       "0  KNN-BOW           0.397647       0.433333   0.562899  0.410381  0.337023"
      ]
     },
     "execution_count": 194,
     "metadata": {
      "tags": []
     },
     "output_type": "execute_result"
    }
   ],
   "source": [
    "#df_books_train_BOW, df_books_test_BOW, df_books_labels_train_BOW, df_books_labels_test_BOW\n",
    "# We'll create a dataset with a model summary to compare models later on:\n",
    "from sklearn.metrics import precision_recall_fscore_support as score\n",
    "best_KNN_BOW.fit(df_books_train_BOW, df_books_labels_train_BOW) # fit the DT model to the training data\n",
    "best_KNN_pred_BOW = best_KNN_BOW.predict(df_books_test_BOW)   # let the model predict the test data\n",
    "precision_KNN1,recall_KNN1,fscore_KNN1,support_KNN1=score(df_books_labels_test_BOW,best_KNN_pred_BOW,average='macro')\n",
    "KNN_model_BOW = {'Model': 'KNN-BOW', 'Training Accuracy': \n",
    "            accuracy_score(df_books_labels_train_BOW, best_KNN_BOW.predict(df_books_train_BOW)),\n",
    "            'Test Accuracy': accuracy_score(df_books_labels_test_BOW, best_KNN_pred_BOW),\n",
    "             'Precision':precision_KNN1,'Recall':recall_KNN1,'Fscore':fscore_KNN1}\n",
    "KNN_model_df_BOW = pd.DataFrame(KNN_model_BOW, index=[0])\n",
    "KNN_model_df_BOW"
   ]
  },
  {
   "cell_type": "markdown",
   "metadata": {
    "id": "Ny7W777hHLk4"
   },
   "source": [
    "### **3.3 Decision Trees**"
   ]
  },
  {
   "cell_type": "code",
   "execution_count": null,
   "metadata": {
    "colab": {
     "base_uri": "https://localhost:8080/"
    },
    "id": "QsLEv-oMKo0B",
    "outputId": "20411fee-a42f-4f8a-ccd6-b31f523107b7"
   },
   "outputs": [
    {
     "name": "stdout",
     "output_type": "stream",
     "text": [
      "Accuracy: 0.7333333333333333\n"
     ]
    }
   ],
   "source": [
    "# DT base model:\n",
    "from sklearn.tree import DecisionTreeClassifier # Import Decision Tree Classifier\n",
    "from sklearn import metrics #Import scikit-learn metrics module for accuracy calculation\n",
    "\n",
    "DT_base_model= DecisionTreeClassifier() # Create Decision Tree classifer object\n",
    "DT_base_model=DT_base_model.fit(df_books_train_tfidf, df_books_labels_train) # Train Decision Tree Classifer\n",
    "#Predict the response for test dataset\n",
    "DT_base_model_pred = DT_base_model.predict(df_books_test_tfidf)\n",
    "DT_base_model_accur=accuracy_score(df_books_labels_test, DT_base_model.predict(df_books_test_tfidf))\n",
    "print(\"Accuracy:\",metrics.accuracy_score(df_books_labels_test, DT_base_model_pred))"
   ]
  },
  {
   "cell_type": "markdown",
   "metadata": {
    "id": "04aSaiAOFnkR"
   },
   "source": [
    "### 3.3.1 DT Cross-Validation"
   ]
  },
  {
   "cell_type": "code",
   "execution_count": null,
   "metadata": {
    "colab": {
     "base_uri": "https://localhost:8080/"
    },
    "id": "cf-oPLccULu6",
    "outputId": "021869a0-5ec0-4957-e40d-3312673a226a"
   },
   "outputs": [
    {
     "name": "stdout",
     "output_type": "stream",
     "text": [
      "By sing 10-fold cross-validation for DT model:\n",
      " mean: 0.72\n",
      " std: 0.0297\n"
     ]
    }
   ],
   "source": [
    "# DT model with 10-fold cross-validation\n",
    "from sklearn.model_selection import  cross_val_score\n",
    "cv = ShuffleSplit(n_splits=10, test_size=0.3, random_state=0)\n",
    "DT_cross = DecisionTreeClassifier()\n",
    "DT_cross.fit(df_books_train_tfidf, df_books_labels_train)\n",
    "scores = cross_val_score(DT_cross, df_books_train_tfidf, df_books_labels_train, cv=cv)\n",
    "print(\"By sing 10-fold cross-validation for DT model:\\n\",\"mean: {:.2f}\\n std: {:.4f}\".format(scores.mean(),scores.std()))\n",
    "# Okay, 0.720 is not too bad. That means that the average accuracy (percentage of correct classifications using the\n",
    "# trained model) is 72%. That accuracy is  high, but let’s if see if better parameters can be found using grid search:"
   ]
  },
  {
   "cell_type": "code",
   "execution_count": null,
   "metadata": {
    "id": "NOaNpY3qWq1V"
   },
   "outputs": [],
   "source": [
    "# Okay, 0.720 is not too bad. That means that the average accuracy (percentage of correct classifications using the\n",
    "# trained model) is 72%. That accuracy is  high, but let’s if see if better parameters can be found using grid search:\n"
   ]
  },
  {
   "cell_type": "markdown",
   "metadata": {
    "id": "4yI0Z696F9RG"
   },
   "source": [
    "### 3.3.2 Grid Search Cross Validation for DT"
   ]
  },
  {
   "cell_type": "code",
   "execution_count": null,
   "metadata": {
    "colab": {
     "base_uri": "https://localhost:8080/"
    },
    "id": "OkZBzs74NxDy",
    "outputId": "0b9a4473-cab5-47e3-c1b6-b536164a929f"
   },
   "outputs": [
    {
     "data": {
      "text/plain": [
       "GridSearchCV(cv=ShuffleSplit(n_splits=10, random_state=0, test_size=0.3, train_size=None),\n",
       "             error_score=nan,\n",
       "             estimator=DecisionTreeClassifier(ccp_alpha=0.0, class_weight=None,\n",
       "                                              criterion='gini', max_depth=None,\n",
       "                                              max_features=None,\n",
       "                                              max_leaf_nodes=None,\n",
       "                                              min_impurity_decrease=0.0,\n",
       "                                              min_impurity_split=None,\n",
       "                                              min_samples_leaf=1,\n",
       "                                              min_samples_split=2,\n",
       "                                              min_weight_fraction_leaf=0.0,\n",
       "                                              presort='deprecated',\n",
       "                                              random_state=None,\n",
       "                                              splitter='best'),\n",
       "             iid='deprecated', n_jobs=None,\n",
       "             param_grid={'criterion': ['gini', 'entropy'],\n",
       "                         'max_depth': [None, 2, 5, 10],\n",
       "                         'max_leaf_nodes': [None, 5, 10, 20],\n",
       "                         'min_samples_leaf': [1, 5, 10],\n",
       "                         'min_samples_split': [2, 10, 20]},\n",
       "             pre_dispatch='2*n_jobs', refit=True, return_train_score=False,\n",
       "             scoring=None, verbose=0)"
      ]
     },
     "execution_count": 71,
     "metadata": {
      "tags": []
     },
     "output_type": "execute_result"
    }
   ],
   "source": [
    "DT_clf= DecisionTreeClassifier()\n",
    "param_grid = {\"criterion\": [\"gini\", \"entropy\"], \"min_samples_split\": [2, 10, 20],\n",
    "              \"max_depth\": [None, 2, 5, 10],\n",
    "              \"min_samples_leaf\": [1, 5, 10],\n",
    "              \"max_leaf_nodes\": [None, 5, 10, 20]}\n",
    "cv = ShuffleSplit(n_splits=10, test_size=0.3, random_state=0)\n",
    "grid_search_DT = GridSearchCV(DT_clf, param_grid=param_grid, cv=cv)\n",
    "grid_search_DT.fit(df_books_train_tfidf, df_books_labels_train)"
   ]
  },
  {
   "cell_type": "code",
   "execution_count": null,
   "metadata": {
    "colab": {
     "base_uri": "https://localhost:8080/"
    },
    "id": "DeHcg8MmOyCz",
    "outputId": "7829e4a6-2e97-4dba-8676-61ab6444af3d"
   },
   "outputs": [
    {
     "name": "stdout",
     "output_type": "stream",
     "text": [
      "The best parameters for DT model from Grid Search:\n",
      " {'criterion': 'gini', 'max_depth': None, 'max_leaf_nodes': 20, 'min_samples_leaf': 1, 'min_samples_split': 2} \n",
      "\n",
      "The mean accuracy of DT model is: 0.74\n"
     ]
    }
   ],
   "source": [
    "# The best parameters obtained from grid search:\n",
    "print(\"The best parameters for DT model from Grid Search:\\n\",grid_search_DT.best_params_,'\\n')\n",
    "print(\"The mean accuracy of DT model is:\",grid_search_DT.best_score_)"
   ]
  },
  {
   "cell_type": "code",
   "execution_count": null,
   "metadata": {
    "id": "Lu0o1ABAaHDa"
   },
   "outputs": [],
   "source": [
    "# store the best DT model\n",
    "best_DT = grid_search_DT.best_estimator_\n",
    "#best_DT_BOW=grid_search_DT.best_estimator_"
   ]
  },
  {
   "cell_type": "markdown",
   "metadata": {
    "id": "mdKC2nOmHEmt"
   },
   "source": [
    "### 3.3.3 DT Model Performance\n",
    "The confusion matrix, classification report, and accuracy are used to analyze the model performance on both training and test data.\n"
   ]
  },
  {
   "cell_type": "code",
   "execution_count": null,
   "metadata": {
    "colab": {
     "base_uri": "https://localhost:8080/"
    },
    "id": "9cEFg2vhHWre",
    "outputId": "5c35fc30-652b-4dd2-b8c6-17752ce58035"
   },
   "outputs": [
    {
     "name": "stdout",
     "output_type": "stream",
     "text": [
      "The accuracy score of DT_base_model: 0.7333333333333333\n",
      "\n",
      "The accuracy score of best DT model: 0.7533333333333333\n",
      "\n",
      "Training accuracy of DT model:  0.8129411764705883\n",
      "\n",
      "Test accuracy of DT model:  0.7533333333333333\n",
      "\n",
      "Classification report of DT model:\n",
      "               precision    recall  f1-score   support\n",
      "\n",
      "           0       0.59      0.80      0.68        25\n",
      "           1       1.00      0.78      0.87        40\n",
      "           2       0.81      0.62      0.70        21\n",
      "           3       0.95      0.66      0.78        32\n",
      "           4       0.60      0.88      0.71        32\n",
      "\n",
      "    accuracy                           0.75       150\n",
      "   macro avg       0.79      0.75      0.75       150\n",
      "weighted avg       0.81      0.75      0.76       150\n",
      "\n"
     ]
    }
   ],
   "source": [
    "# compare the model after parameters tuning to its base model to check if we got a better model\n",
    "best_DT_accur=accuracy_score(df_books_labels_test, best_DT.predict(df_books_test_tfidf))\n",
    "print('The accuracy score of DT_base_model:',DT_base_model_accur)\n",
    "print('\\nThe accuracy score of best DT model:',best_DT_accur)\n",
    "\n",
    "best_DT.fit(df_books_train_tfidf, df_books_labels_train) # fit the DT model to the training data\n",
    "best_DT_pred = best_DT.predict(df_books_test_tfidf)   # let the model predict the test data\n",
    "# Training accuracy\n",
    "print(\"\\nTraining accuracy of DT model: \",accuracy_score(df_books_labels_train, best_DT.predict(df_books_train_tfidf)))\n",
    "# Test accuracy\n",
    "print(\"\\nTest accuracy of DT model: \",accuracy_score(df_books_labels_test, best_DT_pred))\n",
    "# Classification report\n",
    "print(\"\\nClassification report of DT model:\\n\", classification_report(df_books_labels_test,best_DT_pred))"
   ]
  },
  {
   "cell_type": "code",
   "execution_count": null,
   "metadata": {
    "colab": {
     "base_uri": "https://localhost:8080/"
    },
    "id": "l_tx0zg0b1lI",
    "outputId": "edf56a3a-3ab3-4900-c052-2d210e150569"
   },
   "outputs": [
    {
     "name": "stdout",
     "output_type": "stream",
     "text": [
      " Average MSE: 1.518800\n",
      " Average Bias: 0.9208\n",
      " Average Variance: 0.5980\n"
     ]
    }
   ],
   "source": [
    "mse_DT, bias_DT, var_DT = bias_variance_decomp(best_DT, df_books_train_tfidf, \n",
    "                                                  df_books_labels_train.values,\n",
    "                                                  df_books_test_tfidf, df_books_labels_test.values, \n",
    "                                                  loss='mse')\n",
    "print(' Average MSE: {:4f}\\n Average Bias: {:.4f}\\n Average Variance: {:.4f}'.\n",
    "      format(mse_DT,bias_DT,var_DT))"
   ]
  },
  {
   "cell_type": "code",
   "execution_count": null,
   "metadata": {
    "colab": {
     "base_uri": "https://localhost:8080/",
     "height": 358
    },
    "id": "TB9uW5PMVOgU",
    "outputId": "57395b80-ffa9-4f69-f246-f88285082499"
   },
   "outputs": [
    {
     "data": {
      "image/png": "[encoded data removed]",
      "text/plain": [
       "<Figure size 1008x360 with 2 Axes>"
      ]
     },
     "metadata": {
      "needs_background": "light",
      "tags": []
     },
     "output_type": "display_data"
    }
   ],
   "source": [
    "DT_df = df_books[['authors_labels', 'labels_encoder']].drop_duplicates().sort_values('labels_encoder')\n",
    "font = {'family': 'serif','color':  'darkred','weight': 'bold','size': 14}\n",
    "DT_conf_matrix = confusion_matrix(df_books_labels_test, best_DT_pred)\n",
    "plt.figure(figsize=(14,5))\n",
    "sns.heatmap(DT_conf_matrix, \n",
    "            annot=True,\n",
    "            xticklabels=DT_df['authors_labels'].values, \n",
    "            yticklabels=DT_df['authors_labels'].values,\n",
    "            cmap=\"Greens\")\n",
    "plt.ylabel('Predicted',fontdict=font)\n",
    "plt.xlabel('Actual',fontdict=font)\n",
    "plt.title('Confusion Matrix - DT',fontdict=font)\n",
    "plt.xticks(fontsize=12);plt.yticks(fontsize=12)\n",
    "plt.show()"
   ]
  },
  {
   "cell_type": "code",
   "execution_count": null,
   "metadata": {
    "colab": {
     "base_uri": "https://localhost:8080/",
     "height": 79
    },
    "id": "Nb1GBtgqei0J",
    "outputId": "1e5cc6b9-5107-4f9f-a0ae-cbfcc58a5134"
   },
   "outputs": [
    {
     "data": {
      "text/html": [
       "<div>\n",
       "<style scoped>\n",
       "    .dataframe tbody tr th:only-of-type {\n",
       "        vertical-align: middle;\n",
       "    }\n",
       "\n",
       "    .dataframe tbody tr th {\n",
       "        vertical-align: top;\n",
       "    }\n",
       "\n",
       "    .dataframe thead th {\n",
       "        text-align: right;\n",
       "    }\n",
       "</style>\n",
       "<table border=\"1\" class=\"dataframe\">\n",
       "  <thead>\n",
       "    <tr style=\"text-align: right;\">\n",
       "      <th></th>\n",
       "      <th>Model</th>\n",
       "      <th>Training Accuracy</th>\n",
       "      <th>Test Accuracy</th>\n",
       "      <th>Precision</th>\n",
       "      <th>Recall</th>\n",
       "      <th>Fscore</th>\n",
       "      <th>MSE</th>\n",
       "      <th>Bias</th>\n",
       "      <th>Var</th>\n",
       "    </tr>\n",
       "  </thead>\n",
       "  <tbody>\n",
       "    <tr>\n",
       "      <th>0</th>\n",
       "      <td>DT</td>\n",
       "      <td>0.8</td>\n",
       "      <td>0.753333</td>\n",
       "      <td>0.790205</td>\n",
       "      <td>0.74506</td>\n",
       "      <td>0.748109</td>\n",
       "      <td>1.5188</td>\n",
       "      <td>0.920826</td>\n",
       "      <td>0.597974</td>\n",
       "    </tr>\n",
       "  </tbody>\n",
       "</table>\n",
       "</div>"
      ],
      "text/plain": [
       "  Model  Training Accuracy  Test Accuracy  ...     MSE      Bias       Var\n",
       "0    DT                0.8       0.753333  ...  1.5188  0.920826  0.597974\n",
       "\n",
       "[1 rows x 9 columns]"
      ]
     },
     "execution_count": 78,
     "metadata": {
      "tags": []
     },
     "output_type": "execute_result"
    }
   ],
   "source": [
    "from sklearn.metrics import precision_recall_fscore_support as score\n",
    "precision_DT,recall_DT,fscore_DT,support_DT=score(df_books_labels_test,best_DT_pred,average='macro')\n",
    "\n",
    "DT_model = {'Model': 'DT', 'Training Accuracy': \n",
    "            accuracy_score(df_books_labels_train, best_DT.predict(df_books_train_tfidf)),\n",
    "            'Test Accuracy': accuracy_score(df_books_labels_test, best_DT_pred),\n",
    "            'Precision':precision_DT,'Recall':recall_DT,'Fscore':fscore_DT,\n",
    "            'MSE':mse_DT,'Bias':bias_DT,'Var':var_DT}\n",
    "DT_model_df = pd.DataFrame(DT_model, index=[0])\n",
    "DT_model_df"
   ]
  },
  {
   "cell_type": "code",
   "execution_count": null,
   "metadata": {
    "colab": {
     "base_uri": "https://localhost:8080/",
     "height": 79
    },
    "id": "AjmJDt2Xfece",
    "outputId": "6455b8e6-fb0e-426c-a6fb-fb34c5007c83"
   },
   "outputs": [
    {
     "data": {
      "text/html": [
       "<div>\n",
       "<style scoped>\n",
       "    .dataframe tbody tr th:only-of-type {\n",
       "        vertical-align: middle;\n",
       "    }\n",
       "\n",
       "    .dataframe tbody tr th {\n",
       "        vertical-align: top;\n",
       "    }\n",
       "\n",
       "    .dataframe thead th {\n",
       "        text-align: right;\n",
       "    }\n",
       "</style>\n",
       "<table border=\"1\" class=\"dataframe\">\n",
       "  <thead>\n",
       "    <tr style=\"text-align: right;\">\n",
       "      <th></th>\n",
       "      <th>Model</th>\n",
       "      <th>Training Accuracy</th>\n",
       "      <th>Test Accuracy</th>\n",
       "      <th>Precision</th>\n",
       "      <th>Recall</th>\n",
       "      <th>Fscore</th>\n",
       "    </tr>\n",
       "  </thead>\n",
       "  <tbody>\n",
       "    <tr>\n",
       "      <th>0</th>\n",
       "      <td>DT-BOW</td>\n",
       "      <td>0.810588</td>\n",
       "      <td>0.72</td>\n",
       "      <td>0.781677</td>\n",
       "      <td>0.71381</td>\n",
       "      <td>0.715322</td>\n",
       "    </tr>\n",
       "  </tbody>\n",
       "</table>\n",
       "</div>"
      ],
      "text/plain": [
       "    Model  Training Accuracy  Test Accuracy  Precision   Recall    Fscore\n",
       "0  DT-BOW           0.810588           0.72   0.781677  0.71381  0.715322"
      ]
     },
     "execution_count": 193,
     "metadata": {
      "tags": []
     },
     "output_type": "execute_result"
    }
   ],
   "source": [
    "#df_books_train_BOW, df_books_test_BOW, df_books_labels_train_BOW, df_books_labels_test_BOW\n",
    "# We'll create a dataset with a model summary to compare models later on:\n",
    "from sklearn.metrics import precision_recall_fscore_support as score\n",
    "best_DT_BOW.fit(df_books_train_BOW, df_books_labels_train_BOW) # fit the DT model to the training data\n",
    "best_DT_pred_BOW = best_DT_BOW.predict(df_books_test_BOW)   # let the model predict the test data\n",
    "precision_DT1,recall_DT1,fscore_DT1,support_DT1=score(df_books_labels_test_BOW,best_DT_pred_BOW,average='macro')\n",
    "DT_model_BOW = {'Model': 'DT-BOW', 'Training Accuracy': \n",
    "            accuracy_score(df_books_labels_train_BOW, best_DT_BOW.predict(df_books_train_BOW)),\n",
    "            'Test Accuracy': accuracy_score(df_books_labels_test_BOW, best_DT_pred_BOW),\n",
    "             'Precision':precision_DT1,'Recall':recall_DT1,'Fscore':fscore_DT1}\n",
    "DT_model_df_BOW = pd.DataFrame(DT_model_BOW, index=[0])\n",
    "DT_model_df_BOW"
   ]
  },
  {
   "cell_type": "markdown",
   "metadata": {
    "id": "xfvULlVT84XR"
   },
   "source": [
    "# **4. Best Model Selection**\n",
    "\n",
    "Three classification models have been used in this assignment"
   ]
  },
  {
   "cell_type": "markdown",
   "metadata": {
    "id": "vM3QeE20vkf4"
   },
   "source": [
    "### 4.1 Models **Summary** and Comparison\n",
    "\n",
    "\n"
   ]
  },
  {
   "cell_type": "code",
   "execution_count": null,
   "metadata": {
    "colab": {
     "base_uri": "https://localhost:8080/",
     "height": 141
    },
    "id": "l8dvrqPB89S2",
    "outputId": "0f7ddd0e-a0dc-4fa7-ff76-9a638a75f152"
   },
   "outputs": [
    {
     "data": {
      "text/html": [
       "<div>\n",
       "<style scoped>\n",
       "    .dataframe tbody tr th:only-of-type {\n",
       "        vertical-align: middle;\n",
       "    }\n",
       "\n",
       "    .dataframe tbody tr th {\n",
       "        vertical-align: top;\n",
       "    }\n",
       "\n",
       "    .dataframe thead th {\n",
       "        text-align: right;\n",
       "    }\n",
       "</style>\n",
       "<table border=\"1\" class=\"dataframe\">\n",
       "  <thead>\n",
       "    <tr style=\"text-align: right;\">\n",
       "      <th></th>\n",
       "      <th>Model</th>\n",
       "      <th>Training Accuracy</th>\n",
       "      <th>Test Accuracy</th>\n",
       "      <th>Precision</th>\n",
       "      <th>Recall</th>\n",
       "      <th>Fscore</th>\n",
       "      <th>MSE</th>\n",
       "      <th>Bias</th>\n",
       "      <th>Var</th>\n",
       "    </tr>\n",
       "  </thead>\n",
       "  <tbody>\n",
       "    <tr>\n",
       "      <th>0</th>\n",
       "      <td>DT</td>\n",
       "      <td>0.800000</td>\n",
       "      <td>0.753333</td>\n",
       "      <td>0.790205</td>\n",
       "      <td>0.745060</td>\n",
       "      <td>0.748109</td>\n",
       "      <td>1.5188</td>\n",
       "      <td>0.920826</td>\n",
       "      <td>0.597974</td>\n",
       "    </tr>\n",
       "    <tr>\n",
       "      <th>1</th>\n",
       "      <td>KNN</td>\n",
       "      <td>0.863529</td>\n",
       "      <td>0.866667</td>\n",
       "      <td>0.860742</td>\n",
       "      <td>0.860952</td>\n",
       "      <td>0.857833</td>\n",
       "      <td>0.6562</td>\n",
       "      <td>0.430624</td>\n",
       "      <td>0.225576</td>\n",
       "    </tr>\n",
       "    <tr>\n",
       "      <th>2</th>\n",
       "      <td>SVM</td>\n",
       "      <td>0.963529</td>\n",
       "      <td>0.893333</td>\n",
       "      <td>0.890076</td>\n",
       "      <td>0.890429</td>\n",
       "      <td>0.889438</td>\n",
       "      <td>0.4761</td>\n",
       "      <td>0.296762</td>\n",
       "      <td>0.179338</td>\n",
       "    </tr>\n",
       "  </tbody>\n",
       "</table>\n",
       "</div>"
      ],
      "text/plain": [
       "  Model  Training Accuracy  Test Accuracy  ...     MSE      Bias       Var\n",
       "0    DT           0.800000       0.753333  ...  1.5188  0.920826  0.597974\n",
       "1   KNN           0.863529       0.866667  ...  0.6562  0.430624  0.225576\n",
       "2   SVM           0.963529       0.893333  ...  0.4761  0.296762  0.179338\n",
       "\n",
       "[3 rows x 9 columns]"
      ]
     },
     "execution_count": 79,
     "metadata": {
      "tags": []
     },
     "output_type": "execute_result"
    }
   ],
   "source": [
    "df_summary = pd.DataFrame()\n",
    "models=[DT_model_df,KNN_model_df,SVM_model_df]\n",
    "for df in models:\n",
    "  df_summary=df_summary.append(df).reset_index().drop('index', axis=1)\n",
    "df_summary"
   ]
  },
  {
   "cell_type": "code",
   "execution_count": null,
   "metadata": {
    "colab": {
     "base_uri": "https://localhost:8080/",
     "height": 141
    },
    "id": "oBN3rO6M-1Qi",
    "outputId": "5032d15e-6b75-489f-90ce-8ddb3c46dca2"
   },
   "outputs": [
    {
     "data": {
      "text/html": [
       "<div>\n",
       "<style scoped>\n",
       "    .dataframe tbody tr th:only-of-type {\n",
       "        vertical-align: middle;\n",
       "    }\n",
       "\n",
       "    .dataframe tbody tr th {\n",
       "        vertical-align: top;\n",
       "    }\n",
       "\n",
       "    .dataframe thead th {\n",
       "        text-align: right;\n",
       "    }\n",
       "</style>\n",
       "<table border=\"1\" class=\"dataframe\">\n",
       "  <thead>\n",
       "    <tr style=\"text-align: right;\">\n",
       "      <th></th>\n",
       "      <th>Model</th>\n",
       "      <th>Training Accuracy</th>\n",
       "      <th>Test Accuracy</th>\n",
       "      <th>Precision</th>\n",
       "      <th>Recall</th>\n",
       "      <th>Fscore</th>\n",
       "      <th>MSE</th>\n",
       "      <th>Bias</th>\n",
       "      <th>Var</th>\n",
       "    </tr>\n",
       "  </thead>\n",
       "  <tbody>\n",
       "    <tr>\n",
       "      <th>0</th>\n",
       "      <td>SVM</td>\n",
       "      <td>0.963529</td>\n",
       "      <td>0.893333</td>\n",
       "      <td>0.890076</td>\n",
       "      <td>0.890429</td>\n",
       "      <td>0.889438</td>\n",
       "      <td>0.4761</td>\n",
       "      <td>0.296762</td>\n",
       "      <td>0.179338</td>\n",
       "    </tr>\n",
       "    <tr>\n",
       "      <th>1</th>\n",
       "      <td>KNN</td>\n",
       "      <td>0.863529</td>\n",
       "      <td>0.866667</td>\n",
       "      <td>0.860742</td>\n",
       "      <td>0.860952</td>\n",
       "      <td>0.857833</td>\n",
       "      <td>0.6562</td>\n",
       "      <td>0.430624</td>\n",
       "      <td>0.225576</td>\n",
       "    </tr>\n",
       "    <tr>\n",
       "      <th>2</th>\n",
       "      <td>DT</td>\n",
       "      <td>0.800000</td>\n",
       "      <td>0.753333</td>\n",
       "      <td>0.790205</td>\n",
       "      <td>0.745060</td>\n",
       "      <td>0.748109</td>\n",
       "      <td>1.5188</td>\n",
       "      <td>0.920826</td>\n",
       "      <td>0.597974</td>\n",
       "    </tr>\n",
       "  </tbody>\n",
       "</table>\n",
       "</div>"
      ],
      "text/plain": [
       "  Model  Training Accuracy  Test Accuracy  ...     MSE      Bias       Var\n",
       "0   SVM           0.963529       0.893333  ...  0.4761  0.296762  0.179338\n",
       "1   KNN           0.863529       0.866667  ...  0.6562  0.430624  0.225576\n",
       "2    DT           0.800000       0.753333  ...  1.5188  0.920826  0.597974\n",
       "\n",
       "[3 rows x 9 columns]"
      ]
     },
     "execution_count": 81,
     "metadata": {
      "tags": []
     },
     "output_type": "execute_result"
    }
   ],
   "source": [
    "df_summary.sort_values('Test Accuracy', ascending=False).reset_index().drop('index', axis=1) # And sort it by Test Accuracy:"
   ]
  },
  {
   "cell_type": "markdown",
   "metadata": {
    "id": "YzzhKl4ikl_F"
   },
   "source": [
    "The DT seems to be overfit, so we'll discard it. From the remaining models, we will choose the Support Vector Machine since it has the highest Test Accuracy."
   ]
  },
  {
   "cell_type": "code",
   "execution_count": null,
   "metadata": {
    "colab": {
     "base_uri": "https://localhost:8080/",
     "height": 141
    },
    "id": "ExJyK8NvhZ_E",
    "outputId": "3ff82a75-9e0f-48ee-acc9-8cf197bcf06a"
   },
   "outputs": [
    {
     "data": {
      "text/html": [
       "<div>\n",
       "<style scoped>\n",
       "    .dataframe tbody tr th:only-of-type {\n",
       "        vertical-align: middle;\n",
       "    }\n",
       "\n",
       "    .dataframe tbody tr th {\n",
       "        vertical-align: top;\n",
       "    }\n",
       "\n",
       "    .dataframe thead th {\n",
       "        text-align: right;\n",
       "    }\n",
       "</style>\n",
       "<table border=\"1\" class=\"dataframe\">\n",
       "  <thead>\n",
       "    <tr style=\"text-align: right;\">\n",
       "      <th></th>\n",
       "      <th>Model</th>\n",
       "      <th>Training Accuracy</th>\n",
       "      <th>Test Accuracy</th>\n",
       "      <th>Precision</th>\n",
       "      <th>Recall</th>\n",
       "      <th>Fscore</th>\n",
       "    </tr>\n",
       "  </thead>\n",
       "  <tbody>\n",
       "    <tr>\n",
       "      <th>0</th>\n",
       "      <td>DT-BOW</td>\n",
       "      <td>0.810588</td>\n",
       "      <td>0.720000</td>\n",
       "      <td>0.781677</td>\n",
       "      <td>0.713810</td>\n",
       "      <td>0.715322</td>\n",
       "    </tr>\n",
       "    <tr>\n",
       "      <th>1</th>\n",
       "      <td>KNN-BOW</td>\n",
       "      <td>0.397647</td>\n",
       "      <td>0.433333</td>\n",
       "      <td>0.562899</td>\n",
       "      <td>0.410381</td>\n",
       "      <td>0.337023</td>\n",
       "    </tr>\n",
       "    <tr>\n",
       "      <th>2</th>\n",
       "      <td>SVM-BOW</td>\n",
       "      <td>1.000000</td>\n",
       "      <td>0.933333</td>\n",
       "      <td>0.932301</td>\n",
       "      <td>0.933452</td>\n",
       "      <td>0.932141</td>\n",
       "    </tr>\n",
       "  </tbody>\n",
       "</table>\n",
       "</div>"
      ],
      "text/plain": [
       "     Model  Training Accuracy  Test Accuracy  Precision    Recall    Fscore\n",
       "0   DT-BOW           0.810588       0.720000   0.781677  0.713810  0.715322\n",
       "1  KNN-BOW           0.397647       0.433333   0.562899  0.410381  0.337023\n",
       "2  SVM-BOW           1.000000       0.933333   0.932301  0.933452  0.932141"
      ]
     },
     "execution_count": 205,
     "metadata": {
      "tags": []
     },
     "output_type": "execute_result"
    }
   ],
   "source": [
    "# create dataframe for the models with BOW\n",
    "df_summary_BOW = pd.DataFrame()\n",
    "models_BOW=[DT_model_df_BOW,KNN_model_df_BOW,SVM_model_df_BOW]\n",
    "for df in models_BOW:\n",
    "  df_summary_BOW=df_summary_BOW.append(df).reset_index().drop('index', axis=1)\n",
    "df_summary_BOW"
   ]
  },
  {
   "cell_type": "code",
   "execution_count": null,
   "metadata": {
    "colab": {
     "base_uri": "https://localhost:8080/",
     "height": 141
    },
    "id": "cah-JU_7iQX9",
    "outputId": "9d64eadc-be51-4077-ed5b-2e7c96a3d20f"
   },
   "outputs": [
    {
     "data": {
      "text/html": [
       "<div>\n",
       "<style scoped>\n",
       "    .dataframe tbody tr th:only-of-type {\n",
       "        vertical-align: middle;\n",
       "    }\n",
       "\n",
       "    .dataframe tbody tr th {\n",
       "        vertical-align: top;\n",
       "    }\n",
       "\n",
       "    .dataframe thead th {\n",
       "        text-align: right;\n",
       "    }\n",
       "</style>\n",
       "<table border=\"1\" class=\"dataframe\">\n",
       "  <thead>\n",
       "    <tr style=\"text-align: right;\">\n",
       "      <th></th>\n",
       "      <th>Model</th>\n",
       "      <th>Training Accuracy</th>\n",
       "      <th>Test Accuracy</th>\n",
       "      <th>Precision</th>\n",
       "      <th>Recall</th>\n",
       "      <th>Fscore</th>\n",
       "    </tr>\n",
       "  </thead>\n",
       "  <tbody>\n",
       "    <tr>\n",
       "      <th>0</th>\n",
       "      <td>SVM-BOW</td>\n",
       "      <td>1.000000</td>\n",
       "      <td>0.933333</td>\n",
       "      <td>0.932301</td>\n",
       "      <td>0.933452</td>\n",
       "      <td>0.932141</td>\n",
       "    </tr>\n",
       "    <tr>\n",
       "      <th>1</th>\n",
       "      <td>DT-BOW</td>\n",
       "      <td>0.810588</td>\n",
       "      <td>0.720000</td>\n",
       "      <td>0.781677</td>\n",
       "      <td>0.713810</td>\n",
       "      <td>0.715322</td>\n",
       "    </tr>\n",
       "    <tr>\n",
       "      <th>2</th>\n",
       "      <td>KNN-BOW</td>\n",
       "      <td>0.397647</td>\n",
       "      <td>0.433333</td>\n",
       "      <td>0.562899</td>\n",
       "      <td>0.410381</td>\n",
       "      <td>0.337023</td>\n",
       "    </tr>\n",
       "  </tbody>\n",
       "</table>\n",
       "</div>"
      ],
      "text/plain": [
       "     Model  Training Accuracy  Test Accuracy  Precision    Recall    Fscore\n",
       "0  SVM-BOW           1.000000       0.933333   0.932301  0.933452  0.932141\n",
       "1   DT-BOW           0.810588       0.720000   0.781677  0.713810  0.715322\n",
       "2  KNN-BOW           0.397647       0.433333   0.562899  0.410381  0.337023"
      ]
     },
     "execution_count": 207,
     "metadata": {
      "tags": []
     },
     "output_type": "execute_result"
    }
   ],
   "source": [
    "df_summary_BOW.sort_values('Test Accuracy', ascending=False).reset_index().drop('index', axis=1) # And sort it by Test Accuracy:"
   ]
  },
  {
   "cell_type": "code",
   "execution_count": null,
   "metadata": {
    "id": "fsXRcnml_T2e"
   },
   "outputs": [],
   "source": []
  },
  {
   "cell_type": "code",
   "execution_count": null,
   "metadata": {
    "id": "5FQ92v_-LzxE"
   },
   "outputs": [],
   "source": [
    "df_summary.to_excel(\"output.xlsx\") \n",
    "df_summary.to_excel(r'D:\\SUMMARY.xlsx', index = False)"
   ]
  },
  {
   "cell_type": "markdown",
   "metadata": {
    "id": "TWl6JZnFL1mX"
   },
   "source": [
    "### 4.2 Best Model Interpretation\n",
    "\n",
    "At this point we have selected the SVM as our preferred model to do the predictions. We will now study its behaviour by analyzing misclassified text. Hopefully this will give us some insights on the way the model is working."
   ]
  },
  {
   "cell_type": "code",
   "execution_count": null,
   "metadata": {
    "colab": {
     "base_uri": "https://localhost:8080/",
     "height": 355
    },
    "id": "AReXzVw9L2Tp",
    "outputId": "6af89e35-f325-43eb-c8fe-84e98fb10a97"
   },
   "outputs": [
    {
     "data": {
      "text/html": [
       "<div>\n",
       "<style scoped>\n",
       "    .dataframe tbody tr th:only-of-type {\n",
       "        vertical-align: middle;\n",
       "    }\n",
       "\n",
       "    .dataframe tbody tr th {\n",
       "        vertical-align: top;\n",
       "    }\n",
       "\n",
       "    .dataframe thead th {\n",
       "        text-align: right;\n",
       "    }\n",
       "</style>\n",
       "<table border=\"1\" class=\"dataframe\">\n",
       "  <thead>\n",
       "    <tr style=\"text-align: right;\">\n",
       "      <th></th>\n",
       "      <th>books_text_data</th>\n",
       "      <th>authors_labels</th>\n",
       "      <th>Predicted_Authors</th>\n",
       "    </tr>\n",
       "  </thead>\n",
       "  <tbody>\n",
       "    <tr>\n",
       "      <th>408</th>\n",
       "      <td>spin around turning always towards mecca i see...</td>\n",
       "      <td>Whitman</td>\n",
       "      <td>Whitman</td>\n",
       "    </tr>\n",
       "    <tr>\n",
       "      <th>412</th>\n",
       "      <td>earth does this is curious and may not be real...</td>\n",
       "      <td>Whitman</td>\n",
       "      <td>Whitman</td>\n",
       "    </tr>\n",
       "    <tr>\n",
       "      <th>958</th>\n",
       "      <td>clown answered very sadly that it was just as ...</td>\n",
       "      <td>Bryant</td>\n",
       "      <td>Bryant</td>\n",
       "    </tr>\n",
       "    <tr>\n",
       "      <th>531</th>\n",
       "      <td>city but these and all and the brown and sprea...</td>\n",
       "      <td>Whitman</td>\n",
       "      <td>Whitman</td>\n",
       "    </tr>\n",
       "    <tr>\n",
       "      <th>319</th>\n",
       "      <td>ve got to grow up again let me see how is it t...</td>\n",
       "      <td>Carroll</td>\n",
       "      <td>Carroll</td>\n",
       "    </tr>\n",
       "    <tr>\n",
       "      <th>939</th>\n",
       "      <td>lazy man what became of him and his crab no on...</td>\n",
       "      <td>Bryant</td>\n",
       "      <td>Bryant</td>\n",
       "    </tr>\n",
       "    <tr>\n",
       "      <th>636</th>\n",
       "      <td>so might the wrath fond wish couldst thou supp...</td>\n",
       "      <td>Milton</td>\n",
       "      <td>Milton</td>\n",
       "    </tr>\n",
       "    <tr>\n",
       "      <th>993</th>\n",
       "      <td>found her sitting in a tent by the side of an ...</td>\n",
       "      <td>Bryant</td>\n",
       "      <td>Bryant</td>\n",
       "    </tr>\n",
       "    <tr>\n",
       "      <th>859</th>\n",
       "      <td>come along home like this all right mammy said...</td>\n",
       "      <td>Bryant</td>\n",
       "      <td>Bryant</td>\n",
       "    </tr>\n",
       "    <tr>\n",
       "      <th>495</th>\n",
       "      <td>all all is for individuals all is for you no c...</td>\n",
       "      <td>Whitman</td>\n",
       "      <td>Whitman</td>\n",
       "    </tr>\n",
       "  </tbody>\n",
       "</table>\n",
       "</div>"
      ],
      "text/plain": [
       "                                       books_text_data authors_labels  \\\n",
       "408  spin around turning always towards mecca i see...        Whitman   \n",
       "412  earth does this is curious and may not be real...        Whitman   \n",
       "958  clown answered very sadly that it was just as ...         Bryant   \n",
       "531  city but these and all and the brown and sprea...        Whitman   \n",
       "319  ve got to grow up again let me see how is it t...        Carroll   \n",
       "939  lazy man what became of him and his crab no on...         Bryant   \n",
       "636  so might the wrath fond wish couldst thou supp...         Milton   \n",
       "993  found her sitting in a tent by the side of an ...         Bryant   \n",
       "859  come along home like this all right mammy said...         Bryant   \n",
       "495  all all is for individuals all is for you no c...        Whitman   \n",
       "\n",
       "    Predicted_Authors  \n",
       "408           Whitman  \n",
       "412           Whitman  \n",
       "958            Bryant  \n",
       "531           Whitman  \n",
       "319           Carroll  \n",
       "939            Bryant  \n",
       "636            Milton  \n",
       "993            Bryant  \n",
       "859            Bryant  \n",
       "495           Whitman  "
      ]
     },
     "execution_count": 140,
     "metadata": {
      "tags": []
     },
     "output_type": "execute_result"
    }
   ],
   "source": [
    "# Indexes of the test set\n",
    "best_SVM.fit(df_books_train_tfidf, df_books_labels_train) # fit the SVM model to the training data\n",
    "predictions = best_SVM.predict(df_books_test_tfidf)\n",
    "index_df_books_test = df_books_test.index\n",
    "df_test = df_books.loc[index_df_books_test]\n",
    "# Add the predictions\n",
    "df_test['Predicted_Authors'] = le.inverse_transform(predictions)\n",
    "df_test = df_test[['books_text_data', 'authors_labels', 'labels_encoder', 'Predicted_Authors']]\n",
    "df_test.drop(columns='labels_encoder',inplace=True)\n",
    "df_test.sample(10)"
   ]
  },
  {
   "cell_type": "code",
   "execution_count": null,
   "metadata": {
    "colab": {
     "base_uri": "https://localhost:8080/",
     "height": 539
    },
    "id": "rVJUXD3rMOq9",
    "outputId": "e6b51958-f0a3-4a20-c5ce-1c7ba130c771"
   },
   "outputs": [
    {
     "data": {
      "text/html": [
       "<div>\n",
       "<style scoped>\n",
       "    .dataframe tbody tr th:only-of-type {\n",
       "        vertical-align: middle;\n",
       "    }\n",
       "\n",
       "    .dataframe tbody tr th {\n",
       "        vertical-align: top;\n",
       "    }\n",
       "\n",
       "    .dataframe thead th {\n",
       "        text-align: right;\n",
       "    }\n",
       "</style>\n",
       "<table border=\"1\" class=\"dataframe\">\n",
       "  <thead>\n",
       "    <tr style=\"text-align: right;\">\n",
       "      <th></th>\n",
       "      <th>books_text_data</th>\n",
       "      <th>authors_labels</th>\n",
       "      <th>Predicted_Authors</th>\n",
       "    </tr>\n",
       "  </thead>\n",
       "  <tbody>\n",
       "    <tr>\n",
       "      <th>31</th>\n",
       "      <td>car and after staring wildly at the wintry sky...</td>\n",
       "      <td>Chesterton</td>\n",
       "      <td>Bryant</td>\n",
       "    </tr>\n",
       "    <tr>\n",
       "      <th>310</th>\n",
       "      <td>she thought it must be the right house because...</td>\n",
       "      <td>Carroll</td>\n",
       "      <td>Chesterton</td>\n",
       "    </tr>\n",
       "    <tr>\n",
       "      <th>883</th>\n",
       "      <td>one second after midnight it will be too late ...</td>\n",
       "      <td>Bryant</td>\n",
       "      <td>Chesterton</td>\n",
       "    </tr>\n",
       "    <tr>\n",
       "      <th>45</th>\n",
       "      <td>the great poisoning princes of the renaissance...</td>\n",
       "      <td>Chesterton</td>\n",
       "      <td>Bryant</td>\n",
       "    </tr>\n",
       "    <tr>\n",
       "      <th>698</th>\n",
       "      <td>foretold what shall befall him or his children...</td>\n",
       "      <td>Milton</td>\n",
       "      <td>Whitman</td>\n",
       "    </tr>\n",
       "    <tr>\n",
       "      <th>783</th>\n",
       "      <td>spangling the hemisphere then first adorned wi...</td>\n",
       "      <td>Milton</td>\n",
       "      <td>Bryant</td>\n",
       "    </tr>\n",
       "    <tr>\n",
       "      <th>141</th>\n",
       "      <td>heard in silence the hum of insects and the di...</td>\n",
       "      <td>Chesterton</td>\n",
       "      <td>Whitman</td>\n",
       "    </tr>\n",
       "    <tr>\n",
       "      <th>982</th>\n",
       "      <td>the sea king was hard of heart like frode and ...</td>\n",
       "      <td>Bryant</td>\n",
       "      <td>Whitman</td>\n",
       "    </tr>\n",
       "    <tr>\n",
       "      <th>501</th>\n",
       "      <td>today thou art all over set in births and joys...</td>\n",
       "      <td>Whitman</td>\n",
       "      <td>Milton</td>\n",
       "    </tr>\n",
       "    <tr>\n",
       "      <th>785</th>\n",
       "      <td>reins from the equinoctial road like distant b...</td>\n",
       "      <td>Milton</td>\n",
       "      <td>Whitman</td>\n",
       "    </tr>\n",
       "    <tr>\n",
       "      <th>317</th>\n",
       "      <td>stand on your head do you think at your age it...</td>\n",
       "      <td>Carroll</td>\n",
       "      <td>Bryant</td>\n",
       "    </tr>\n",
       "    <tr>\n",
       "      <th>466</th>\n",
       "      <td>glistening and rolling tufts of straw sands fr...</td>\n",
       "      <td>Whitman</td>\n",
       "      <td>Milton</td>\n",
       "    </tr>\n",
       "    <tr>\n",
       "      <th>545</th>\n",
       "      <td>its rules precise and delicatesse the lyrist s...</td>\n",
       "      <td>Whitman</td>\n",
       "      <td>Milton</td>\n",
       "    </tr>\n",
       "    <tr>\n",
       "      <th>630</th>\n",
       "      <td>him a cumbrous train of herds and flocks and n...</td>\n",
       "      <td>Milton</td>\n",
       "      <td>Whitman</td>\n",
       "    </tr>\n",
       "    <tr>\n",
       "      <th>520</th>\n",
       "      <td>you copings and iron guards you windows whose ...</td>\n",
       "      <td>Whitman</td>\n",
       "      <td>Milton</td>\n",
       "    </tr>\n",
       "    <tr>\n",
       "      <th>278</th>\n",
       "      <td>the dream of wonderland of long ago and how sh...</td>\n",
       "      <td>Carroll</td>\n",
       "      <td>Whitman</td>\n",
       "    </tr>\n",
       "  </tbody>\n",
       "</table>\n",
       "</div>"
      ],
      "text/plain": [
       "                                       books_text_data authors_labels  \\\n",
       "31   car and after staring wildly at the wintry sky...     Chesterton   \n",
       "310  she thought it must be the right house because...        Carroll   \n",
       "883  one second after midnight it will be too late ...         Bryant   \n",
       "45   the great poisoning princes of the renaissance...     Chesterton   \n",
       "698  foretold what shall befall him or his children...         Milton   \n",
       "783  spangling the hemisphere then first adorned wi...         Milton   \n",
       "141  heard in silence the hum of insects and the di...     Chesterton   \n",
       "982  the sea king was hard of heart like frode and ...         Bryant   \n",
       "501  today thou art all over set in births and joys...        Whitman   \n",
       "785  reins from the equinoctial road like distant b...         Milton   \n",
       "317  stand on your head do you think at your age it...        Carroll   \n",
       "466  glistening and rolling tufts of straw sands fr...        Whitman   \n",
       "545  its rules precise and delicatesse the lyrist s...        Whitman   \n",
       "630  him a cumbrous train of herds and flocks and n...         Milton   \n",
       "520  you copings and iron guards you windows whose ...        Whitman   \n",
       "278  the dream of wonderland of long ago and how sh...        Carroll   \n",
       "\n",
       "    Predicted_Authors  \n",
       "31             Bryant  \n",
       "310        Chesterton  \n",
       "883        Chesterton  \n",
       "45             Bryant  \n",
       "698           Whitman  \n",
       "783            Bryant  \n",
       "141           Whitman  \n",
       "982           Whitman  \n",
       "501            Milton  \n",
       "785           Whitman  \n",
       "317            Bryant  \n",
       "466            Milton  \n",
       "545            Milton  \n",
       "630           Whitman  \n",
       "520            Milton  \n",
       "278           Whitman  "
      ]
     },
     "execution_count": 142,
     "metadata": {
      "tags": []
     },
     "output_type": "execute_result"
    }
   ],
   "source": [
    "# Let's get the misclassified text partitions:\n",
    "df_misclassified = df_test[(df_test['authors_labels'] != df_test['Predicted_Authors'])]\n",
    "df_misclassified.head(20)"
   ]
  },
  {
   "cell_type": "code",
   "execution_count": null,
   "metadata": {
    "colab": {
     "base_uri": "https://localhost:8080/"
    },
    "id": "z0xXSMkqONwB",
    "outputId": "62aaee65-366a-4611-d5ba-f46c6b0851df"
   },
   "outputs": [
    {
     "name": "stdout",
     "output_type": "stream",
     "text": [
      "The number of misclassified partitions: 16. They are around 10.67 % of the total predicted partitions.\n"
     ]
    }
   ],
   "source": [
    "print('The number of misclassified partitions: {}. They are around {:.2f} % of the total predicted partitions.'.\n",
    "      format(len(df_misclassified),(len(df_misclassified)/len(df_test))*100))"
   ]
  },
  {
   "cell_type": "markdown",
   "metadata": {
    "id": "BnF8M8IWwE_0"
   },
   "source": [
    "### 4.3 Create a pipeline"
   ]
  },
  {
   "cell_type": "code",
   "execution_count": null,
   "metadata": {
    "colab": {
     "base_uri": "https://localhost:8080/"
    },
    "id": "GkwWoGbqtNIG",
    "outputId": "3d9dc140-febc-4ecf-f8cd-1e6a369c3bea"
   },
   "outputs": [
    {
     "data": {
      "text/plain": [
       "Pipeline(steps=[('vect', CountVectorizer()), ('tfidf', TfidfTransformer()),\n",
       "                ('clf', SVC(C=1, kernel='linear', probability=True))])"
      ]
     },
     "execution_count": 144,
     "metadata": {
      "tags": []
     },
     "output_type": "execute_result"
    }
   ],
   "source": [
    "# Create a pipeline\n",
    "from sklearn.pipeline import Pipeline\n",
    "from sklearn.feature_extraction.text import TfidfTransformer\n",
    "\n",
    "SVM_Pipeline = Pipeline([\n",
    "    ('vect', CountVectorizer()),\n",
    "    ('tfidf', TfidfTransformer()),\n",
    "    ('clf', best_SVM)])\n",
    "\n",
    "#Training\n",
    "SVM_Pipeline.fit(df_books_train, df_books_labels_train)"
   ]
  },
  {
   "cell_type": "code",
   "execution_count": null,
   "metadata": {
    "id": "HIDOkAAuwNQE"
   },
   "outputs": [],
   "source": []
  },
  {
   "cell_type": "markdown",
   "metadata": {
    "id": "Elq4HX_CwNwW"
   },
   "source": [
    "### 4.4 Scoring the pipeline"
   ]
  },
  {
   "cell_type": "code",
   "execution_count": null,
   "metadata": {
    "colab": {
     "base_uri": "https://localhost:8080/"
    },
    "id": "HRE3Ts8tuFFM",
    "outputId": "cac109b5-dd0f-416a-9d67-a4162ac6913f"
   },
   "outputs": [
    {
     "name": "stdout",
     "output_type": "stream",
     "text": [
      "The author of following text (in a small tug up the silent thames armed with) is Chesterton\n",
      "The author of following text (watch like faithful guardians beside the open) is Bryant\n",
      "The author of following text (can tell you and other packages bigger that sa) is Whitman\n"
     ]
    }
   ],
   "source": [
    "# Scoring the pipeline\n",
    "docs_new = ['in a small tug up the silent thames armed with', \n",
    "            'watch like faithful guardians beside the open',\n",
    "            'can tell you and other packages bigger that sa']\n",
    "predicted = SVM_Pipeline.predict(docs_new)\n",
    "for doc, category in zip(docs_new, predicted):\n",
    "    print('The author of following text ({}) is {}'.format(doc,''.join(le.inverse_transform([category]))))"
   ]
  },
  {
   "cell_type": "markdown",
   "metadata": {
    "id": "4DVo3q7wVHsX"
   },
   "source": [
    "### 4.5 Threshold determination for conditional probability\n",
    "\n",
    "We need to reduce the conditional probability belonging to every class becuase our text data set consists of 5 different books. Therefore, if we passed a text paragraphs that not belong to one of these books, we will get a wrong prediction."
   ]
  },
  {
   "cell_type": "code",
   "execution_count": null,
   "metadata": {
    "id": "Sd3s5yqsO7H9"
   },
   "outputs": [],
   "source": [
    "# define a prediction function\n",
    "def prediction(text):\n",
    "    predicted = SVM_Pipeline.predict(text)\n",
    "    for doc, category in zip(text, predicted):\n",
    "        print('The author of predicted text: {}'.format(''.join(le.inverse_transform([category]))))\n",
    "    pred_proba = SVM_Pipeline.predict_proba(text)\n",
    "    for i in range(len(text)):\n",
    "        print(\"The corresponding conditional probability :{:.2f}\".format(pred_proba[i].max()*100))"
   ]
  },
  {
   "cell_type": "code",
   "execution_count": null,
   "metadata": {
    "id": "Vp8PXOB_O7H9",
    "outputId": "d7f4ee27-894f-49c9-a5a3-6457126f04fd"
   },
   "outputs": [
    {
     "name": "stdout",
     "output_type": "stream",
     "text": [
      "The author of predicted text: Carroll\n",
      "The author of predicted text: Carroll\n",
      "The author of predicted text: Whitman\n",
      "The author of predicted text: Whitman\n",
      "The author of predicted text: Milton\n",
      "The corresponding conditional probability :99.99\n",
      "The corresponding conditional probability :99.97\n",
      "The corresponding conditional probability :99.88\n",
      "The corresponding conditional probability :99.94\n",
      "The corresponding conditional probability :100.00\n"
     ]
    }
   ],
   "source": [
    "# we can predict the author of some random partitions belong to our data set\n",
    "\n",
    "text=[df_books['books_text_data'].iloc[300],df_books['books_text_data'].iloc[350],\n",
    "      df_books['books_text_data'].iloc[400],\n",
    "     df_books['books_text_data'].iloc[440],df_books['books_text_data'].iloc[600]]\n",
    "prediction(text)"
   ]
  },
  {
   "cell_type": "code",
   "execution_count": null,
   "metadata": {
    "id": "dX-12ylJO7H9",
    "outputId": "8be0280e-fc5a-438e-e40c-6d2506f1d5d0"
   },
   "outputs": [
    {
     "name": "stdout",
     "output_type": "stream",
     "text": [
      "['Carroll', 'Carroll', 'Whitman', 'Whitman', 'Milton']\n"
     ]
    }
   ],
   "source": [
    "# check the authors by comparing the result by the actual authors\n",
    "text_authors=[df_books['authors_labels'].iloc[300],\n",
    "              df_books['authors_labels'].iloc[350],\n",
    "              df_books['authors_labels'].iloc[400],\n",
    "              df_books['authors_labels'].iloc[440],\n",
    "              df_books['authors_labels'].iloc[600]]\n",
    "print(text_authors)\n",
    "# we prediction gave us the same actual authors"
   ]
  },
  {
   "cell_type": "code",
   "execution_count": null,
   "metadata": {
    "id": "FVKtUs9LO7H9"
   },
   "outputs": [],
   "source": [
    "# Let us predict text that not related to our data set\n",
    "# taking some paragraphs from other books\n",
    "\n",
    "b1 = nltk.corpus.gutenberg.raw('austen-emma.txt')\n",
    "b2 = nltk.corpus.gutenberg.raw('chesterton-brown.txt')\n",
    "b3 = nltk.corpus.gutenberg.raw('blake-poems.txt')\n",
    "# Create a list of books\n",
    "books=[b1,b2,b3]\n",
    "new_authors=['Austen','Chesterton','Blake']\n",
    "new_books=['austen-emma','chesterton-brown','blake-poems']\n",
    "austen_emma='''The want of Miss Taylor would be felt every hour of every day.\\nShe recalled \n",
    "her past kindness--the kindness, the affection of sixteen\\nyears--how she had taught and how \n",
    "she had played with her from five\\nyears old--how she had devoted all her powers to attach and \n",
    "amuse\\nher in health--and how nursed her through the variousillnesses\\nof childhood'''\n",
    "chesterton_brown='''A tantalus\\ncontaining three kinds of spirit, all of a liqueur excellence,\n",
    "\\nstood always on this table of luxury; but the fanciful have asserted\\nthat the whisky, brandy,\n",
    "and rum seemed always to stand at the same level.\\nPoetry was there:  the left-hand corner of the \n",
    "room was lined with\\nas complete a set of English classics as the right hand could show\\nof English \n",
    "and foreign physiologists'''\n",
    "blake_poems='''The little boy weeping sought.\\n \\n \\n LAUGHING SONG\\n \\n When the green woods laugh \n",
    "with the voice of joy,\\n And the dimpling stream runs laughing by;\\n When the air does laugh with our merry \n",
    "wit,\\n And the green hill laughs with the noise of it;\\n \\n when the meadows laugh with lively green,\\n And the \n",
    "grasshopper laughs in the merry scene,\\n When Mary and Susan and Emily\\n With their sweet round mouths sing \"Ha, ha he'''\n"
   ]
  },
  {
   "cell_type": "code",
   "execution_count": null,
   "metadata": {
    "id": "BXupDh0EO7H9"
   },
   "outputs": [],
   "source": [
    "# clean the text\n",
    "austen_emma=re.sub('[^a-zA-Z]',' ', austen_emma)\n",
    "chesterton_brown=re.sub('[^a-zA-Z]',' ', chesterton_brown)\n",
    "blake_poem=re.sub('[^a-zA-Z]',' ', blake_poems)\n",
    "docs_new=[austen_emma,chesterton_brown,blake_poem]"
   ]
  },
  {
   "cell_type": "code",
   "execution_count": null,
   "metadata": {
    "id": "HW0FXk8FO7H9",
    "outputId": "c1e5fd28-696d-461c-aa15-558ab485f14d"
   },
   "outputs": [
    {
     "name": "stdout",
     "output_type": "stream",
     "text": [
      "The author of predicted text: Whitman\n",
      "The author of predicted text: Chesterton\n",
      "The author of predicted text: Whitman\n",
      "The corresponding conditional probability :78.27\n",
      "The corresponding conditional probability :78.02\n",
      "The corresponding conditional probability :73.73\n"
     ]
    }
   ],
   "source": [
    "prediction(docs_new)"
   ]
  },
  {
   "cell_type": "code",
   "execution_count": null,
   "metadata": {
    "id": "qNfK0S_jO7H-"
   },
   "outputs": [],
   "source": [
    "# as seen, the model classified the new text to our authors wrongly and the probability  is reduced."
   ]
  },
  {
   "cell_type": "code",
   "execution_count": null,
   "metadata": {
    "id": "O9RZKzmFO7H-"
   },
   "outputs": [],
   "source": [
    "# divide the data to training set and testing set 85/15\n",
    "from sklearn.model_selection import train_test_split\n",
    "# train_test_split(*arrays, test_size=None, train_size=None, random_state=None, shuffle=True, stratify=None)\n",
    "x_train, x_test, y_train, y_test = train_test_split(\n",
    "df_books['lemmatized_text'],df_books['labels_encoder'], test_size=0.15, random_state=0)\n",
    "\n",
    "#books_text_data\tauthors_labels\tlabels_encoder\ttext_no_stopwords\tlemmatized_text\tlemm_nostopwords_text\tstem_text"
   ]
  },
  {
   "cell_type": "code",
   "execution_count": null,
   "metadata": {
    "id": "ydWBT3SnO7H-",
    "outputId": "7b280be2-16f3-4661-b59e-54c7f1c750da"
   },
   "outputs": [
    {
     "name": "stdout",
     "output_type": "stream",
     "text": [
      "\n",
      "Training accuracy of DT model:  1.0\n",
      "\n",
      "Test accuracy of DT model:  0.9666666666666667\n",
      "\n",
      "Classification report of DT model:\n",
      "               precision    recall  f1-score   support\n",
      "\n",
      "           0       0.93      1.00      0.96        25\n",
      "           1       1.00      0.95      0.97        40\n",
      "           2       1.00      1.00      1.00        21\n",
      "           3       0.94      1.00      0.97        32\n",
      "           4       0.97      0.91      0.94        32\n",
      "\n",
      "    accuracy                           0.97       150\n",
      "   macro avg       0.97      0.97      0.97       150\n",
      "weighted avg       0.97      0.97      0.97       150\n",
      "\n"
     ]
    }
   ],
   "source": [
    "# we trained the model using only lemmatixed text and keeping the stop words\n",
    "#Training\n",
    "SVM_Pipeline.fit(x_train, y_train)\n",
    "SVM_Pipeline_accur=accuracy_score(y_test, SVM_Pipeline.predict(x_test))\n",
    "SVM_Pipeline_pred = SVM_Pipeline.predict(x_test)   # let the model predict the test data\n",
    "# Training accuracy\n",
    "print(\"\\nTraining accuracy of DT model: \",accuracy_score(y_train, SVM_Pipeline.predict(x_train)))\n",
    "# Test accuracy\n",
    "print(\"\\nTest accuracy of DT model: \",accuracy_score(y_test, SVM_Pipeline_pred))\n",
    "# Classification report\n",
    "print(\"\\nClassification report of DT model:\\n\", classification_report(y_test,SVM_Pipeline_pred))"
   ]
  },
  {
   "cell_type": "code",
   "execution_count": null,
   "metadata": {
    "id": "_u_mYQi4iGto"
   },
   "outputs": [],
   "source": [
    "mse, bias, var = bias_variance_decomp(SVM_Pipeline, x_train, \n",
    "                                                  y_train.values,\n",
    "                                                  x_test, y_test.values, \n",
    "                                                  loss='mse')\n",
    "print(' Average MSE: {:4f}\\n Average Bias: {:.4f}\\n Average Variance: {:.4f}'.\n",
    "      format(mse,bias,var))"
   ]
  },
  {
   "cell_type": "code",
   "execution_count": null,
   "metadata": {
    "id": "aAxSILANO7H-"
   },
   "outputs": [],
   "source": [
    "# divide the data to training set and testing set 85/15\n",
    "from sklearn.model_selection import train_test_split\n",
    "# train_test_split(*arrays, test_size=None, train_size=None, random_state=None, shuffle=True, stratify=None)\n",
    "x_train, x_test, y_train, y_test = train_test_split(\n",
    "df_books['lemm_nostopwords_text'],df_books['labels_encoder'], test_size=0.15, random_state=0)\n",
    "\n",
    "#books_text_data\tauthors_labels\tlabels_encoder\ttext_no_stopwords\tlemmatized_text\tlemm_nostopwords_text\tstem_text"
   ]
  },
  {
   "cell_type": "code",
   "execution_count": null,
   "metadata": {
    "id": "eON3lXyyO7H_",
    "outputId": "ecc2e0dd-d42f-4386-ed02-69b835202830"
   },
   "outputs": [
    {
     "data": {
      "text/plain": [
       "Pipeline(steps=[('vect', CountVectorizer()), ('tfidf', TfidfTransformer()),\n",
       "                ('clf', SVC(C=1, kernel='linear', probability=True))])"
      ]
     },
     "execution_count": 328,
     "metadata": {
      "tags": []
     },
     "output_type": "execute_result"
    }
   ],
   "source": [
    "from sklearn.pipeline import Pipeline\n",
    "from sklearn.feature_extraction.text import TfidfTransformer\n",
    "\n",
    "SVM_Pipeline1 = Pipeline([\n",
    "    ('vect', CountVectorizer()),\n",
    "    ('tfidf', TfidfTransformer()),\n",
    "    ('clf', best_SVM)])\n",
    "\n",
    "#Training\n",
    "SVM_Pipeline.fit(x_train, y_train)"
   ]
  },
  {
   "cell_type": "code",
   "execution_count": null,
   "metadata": {
    "id": "AyoIwweAO7H_",
    "outputId": "e73848d3-10ef-452d-ab10-cc372399f4ef"
   },
   "outputs": [
    {
     "name": "stdout",
     "output_type": "stream",
     "text": [
      "\n",
      "Training accuracy of DT model:  1.0\n",
      "\n",
      "Test accuracy of DT model:  0.9666666666666667\n",
      "\n",
      "Classification report of DT model:\n",
      "               precision    recall  f1-score   support\n",
      "\n",
      "           0       1.00      1.00      1.00        25\n",
      "           1       1.00      0.97      0.99        40\n",
      "           2       1.00      0.95      0.98        21\n",
      "           3       0.97      0.94      0.95        32\n",
      "           4       0.89      0.97      0.93        32\n",
      "\n",
      "    accuracy                           0.97       150\n",
      "   macro avg       0.97      0.97      0.97       150\n",
      "weighted avg       0.97      0.97      0.97       150\n",
      "\n"
     ]
    }
   ],
   "source": [
    "# we trained the model using only lemmatixed text and keeping the stop words\n",
    "#Training\n",
    "SVM_Pipeline1.fit(x_train, y_train)\n",
    "SVM_Pipeline1_accur=accuracy_score(y_test, SVM_Pipeline1.predict(x_test))\n",
    "SVM_Pipeline1_pred = SVM_Pipeline1.predict(x_test)   # let the model predict the test data\n",
    "# Training accuracy\n",
    "print(\"\\nTraining accuracy of DT model: \",accuracy_score(y_train, SVM_Pipeline1.predict(x_train)))\n",
    "# Test accuracy\n",
    "print(\"\\nTest accuracy of DT model: \",accuracy_score(y_test, SVM_Pipeline1_pred))\n",
    "# Classification report\n",
    "print(\"\\nClassification report of DT model:\\n\", classification_report(y_test,SVM_Pipeline1_pred))"
   ]
  },
  {
   "cell_type": "markdown",
   "metadata": {
    "id": "JbBDLA9_JpMV"
   },
   "source": [
    "# PCA and t-SNE Decomposition Plots"
   ]
  },
  {
   "cell_type": "code",
   "execution_count": null,
   "metadata": {
    "colab": {
     "base_uri": "https://localhost:8080/",
     "height": 1000
    },
    "id": "rxGSYPtkVRPd",
    "outputId": "4c8ead63-53d5-461d-8365-470e9d1dc919"
   },
   "outputs": [
    {
     "data": {
      "image/png": "[encoded data removed]",
      "text/plain": [
       "<Figure size 576x576 with 1 Axes>"
      ]
     },
     "metadata": {
      "needs_background": "light",
      "tags": []
     },
     "output_type": "display_data"
    },
    {
     "data": {
      "image/png": "[encoded data removed]",
      "text/plain": [
       "<Figure size 576x576 with 1 Axes>"
      ]
     },
     "metadata": {
      "needs_background": "light",
      "tags": []
     },
     "output_type": "display_data"
    }
   ],
   "source": [
    "text_train = np.concatenate((df_books_train_tfidf,df_books_test_tfidf), axis=0)\n",
    "text_labels = np.concatenate((df_books_labels_train,df_books_labels_test), axis=0)\n",
    "from sklearn.decomposition import PCA\n",
    "principal_components = PCA(n_components=2).fit_transform(text_train) # Fit and transform\n",
    "df_PCA = pd.DataFrame(principal_components, columns=['Principal Component 1', 'Principal Component 2'])\n",
    "df_PCA['Authors Labels']=text_labels\n",
    "df_PCA['Authors Name']=le.inverse_transform(text_labels)\n",
    "\n",
    "plt.figure(figsize=(8,8))\n",
    "sns.scatterplot(x='Principal Component 1', y='Principal Component 2', hue=\"Authors Name\",\n",
    "                data=df_PCA).set_title('PCA Decomposition')\n",
    "#--------------\n",
    "from sklearn.manifold import TSNE\n",
    "principal_components = TSNE(n_components=2).fit_transform(text_train) # Fit and transform\n",
    "df_TSNE = pd.DataFrame(principal_components, columns=['Principal Component 1', 'Principal Component 2'])\n",
    "df_TSNE['Authors Labels']=text_labels\n",
    "df_TSNE['Authors Name']=le.inverse_transform(text_labels)\n",
    "\n",
    "plt.figure(figsize=(8,8))\n",
    "b=sns.scatterplot(x='Principal Component 1', y='Principal Component 2', hue=\"Authors Name\",\n",
    "                data=df_TSNE).set_title('t-SNE Decomposition', fontsize = 12)\n",
    "#sns.set(font_scale=1.4)"
   ]
  },
  {
   "cell_type": "code",
   "execution_count": null,
   "metadata": {
    "id": "fNSLpPZIK8Lh"
   },
   "outputs": [],
   "source": []
  }
 ],
 "metadata": {
  "accelerator": "GPU",
  "colab": {
   "collapsed_sections": [],
   "name": "Text_Data_Classification_DSA_202101_ 7.ipynb",
   "provenance": []
  },
  "kernelspec": {
   "display_name": "Python 3",
   "language": "python",
   "name": "python3"
  },
  "language_info": {
   "codemirror_mode": {
    "name": "ipython",
    "version": 3
   },
   "file_extension": ".py",
   "mimetype": "text/x-python",
   "name": "python",
   "nbconvert_exporter": "python",
   "pygments_lexer": "ipython3",
   "version": "3.8.5"
  }
 },
 "nbformat": 4,
 "nbformat_minor": 1
}
